{
 "cells": [
  {
   "cell_type": "markdown",
   "metadata": {},
   "source": [
    "# Real-world Data Wrangling"
   ]
  },
  {
   "cell_type": "markdown",
   "metadata": {},
   "source": [
    "## Nhóm 3"
   ]
  },
  {
   "cell_type": "markdown",
   "metadata": {},
   "source": [
    "---"
   ]
  },
  {
   "cell_type": "markdown",
   "metadata": {},
   "source": [
    "## 0. User-defined functions"
   ]
  },
  {
   "cell_type": "markdown",
   "metadata": {},
   "source": [
    "---\n",
    "##### Tên: Phạm Quốc Phú"
   ]
  },
  {
   "cell_type": "code",
   "execution_count": 55,
   "metadata": {},
   "outputs": [],
   "source": [
    "def check_dataset_info(df):\n",
    "    print(\"Thông tin cơ bản của DataFrame:\")\n",
    "    print(df.info())\n",
    "\n",
    "    print(\"\\nCác cột của DataFrame:\")\n",
    "    print(df.columns)\n",
    "    \n",
    "    print(\"\\nKích thước của DataFrame (số hàng, số cột):\")\n",
    "    print(df.shape)\n",
    "    \n",
    "    print(\"\\nThống kê mô tả của DataFrame:\")\n",
    "    print(df.describe(include='all'))\n",
    "    \n",
    "    print(\"\\nSố lượng giá trị null trong mỗi cột:\")\n",
    "    print(df.isnull().sum())\n",
    "    \n",
    "    print(\"\\nSố lượng giá trị duy nhất trong mỗi cột:\")\n",
    "    print(df.nunique())"
   ]
  },
  {
   "cell_type": "code",
   "execution_count": null,
   "metadata": {},
   "outputs": [],
   "source": [
    "def setPltLabels(xlabel, ylabel, title):\n",
    "    plt.xlabel(xlabel)\n",
    "    plt.ylabel(ylabel)\n",
    "    plt.title(title)"
   ]
  },
  {
   "cell_type": "markdown",
   "metadata": {},
   "source": [
    "## 1. Gather data"
   ]
  },
  {
   "cell_type": "markdown",
   "metadata": {},
   "source": [
    "### **1.1.** Problem Statement"
   ]
  },
  {
   "cell_type": "markdown",
   "metadata": {},
   "source": [
    "This project aims to practice my skills of data wrangling using real-world datasets.\n",
    "\n",
    "Your statements here\n",
    "\n",
    "In this dataset, I would like to answer the following research questions:"
   ]
  },
  {
   "cell_type": "markdown",
   "metadata": {},
   "source": [
    "---\n",
    "##### Tên : Trịnh Đàm Huy\n",
    "\n",
    "Câu hỏi 1: Thống kê các game được đánh giá tích cực với mức giá từ cao đến thấp.\n",
    "\n",
    "Câu hỏi 2: Số lượng game đa nền tảng qua từng năm thay đổi như thế nào?"
   ]
  },
  {
   "cell_type": "markdown",
   "metadata": {},
   "source": [
    "---\n",
    "##### Tên : Phạm Quốc Phú\n",
    "\n",
    "Câu hỏi 3: Tỷ lệ tích cực theo thể loại, thể loại nào đang có tỷ lệ tích cực cao nhất?\n",
    "\n",
    "Câu hỏi 4: Năm nào có số lượng game phát hành nhiều nhất.\n",
    "\n"
   ]
  },
  {
   "cell_type": "markdown",
   "metadata": {},
   "source": [
    "---\n",
    "##### Tên : Phạm Hoàng Phúc\n",
    "\n",
    "Câu hỏi 5: Mức độ tăng trưởng của các tựa game indie trong 10 năm gần đây như nào?\n",
    "\n",
    "Câu hỏi 6: Trong năm 2022 thể loại game nào được phát triển nhiều nhất\n",
    "\n"
   ]
  },
  {
   "cell_type": "markdown",
   "metadata": {},
   "source": [
    "### **1.2.** Gather at least two datasets using two different data gathering methods"
   ]
  },
  {
   "cell_type": "markdown",
   "metadata": {},
   "source": [
    "---\n",
    "##### Tên: Trịnh Đàm Huy"
   ]
  },
  {
   "cell_type": "code",
   "execution_count": 56,
   "metadata": {},
   "outputs": [],
   "source": [
    "# import libraries\n",
    "import pandas as pd\n",
    "import matplotlib.pyplot as plt "
   ]
  },
  {
   "cell_type": "code",
   "execution_count": 57,
   "metadata": {},
   "outputs": [
    {
     "data": {
      "text/html": [
       "<div>\n",
       "<style scoped>\n",
       "    .dataframe tbody tr th:only-of-type {\n",
       "        vertical-align: middle;\n",
       "    }\n",
       "\n",
       "    .dataframe tbody tr th {\n",
       "        vertical-align: top;\n",
       "    }\n",
       "\n",
       "    .dataframe thead th {\n",
       "        text-align: right;\n",
       "    }\n",
       "</style>\n",
       "<table border=\"1\" class=\"dataframe\">\n",
       "  <thead>\n",
       "    <tr style=\"text-align: right;\">\n",
       "      <th></th>\n",
       "      <th>app_id</th>\n",
       "      <th>rating</th>\n",
       "      <th>positive_ratio</th>\n",
       "      <th>user_reviews</th>\n",
       "      <th>price_final</th>\n",
       "      <th>price_original</th>\n",
       "      <th>discount</th>\n",
       "    </tr>\n",
       "  </thead>\n",
       "  <tbody>\n",
       "    <tr>\n",
       "      <th>0</th>\n",
       "      <td>13500</td>\n",
       "      <td>Very Positive</td>\n",
       "      <td>84.0</td>\n",
       "      <td>2199.0</td>\n",
       "      <td>9.99</td>\n",
       "      <td>9.99</td>\n",
       "      <td>0.0</td>\n",
       "    </tr>\n",
       "    <tr>\n",
       "      <th>1</th>\n",
       "      <td>22364</td>\n",
       "      <td>Positive</td>\n",
       "      <td>85.0</td>\n",
       "      <td>21.0</td>\n",
       "      <td>2.99</td>\n",
       "      <td>2.99</td>\n",
       "      <td>0.0</td>\n",
       "    </tr>\n",
       "    <tr>\n",
       "      <th>2</th>\n",
       "      <td>113020</td>\n",
       "      <td>Very Positive</td>\n",
       "      <td>92.0</td>\n",
       "      <td>3722.0</td>\n",
       "      <td>14.99</td>\n",
       "      <td>14.99</td>\n",
       "      <td>0.0</td>\n",
       "    </tr>\n",
       "    <tr>\n",
       "      <th>3</th>\n",
       "      <td>226560</td>\n",
       "      <td>Mixed</td>\n",
       "      <td>61.0</td>\n",
       "      <td>873.0</td>\n",
       "      <td>14.99</td>\n",
       "      <td>14.99</td>\n",
       "      <td>0.0</td>\n",
       "    </tr>\n",
       "    <tr>\n",
       "      <th>4</th>\n",
       "      <td>249050</td>\n",
       "      <td>Very Positive</td>\n",
       "      <td>88.0</td>\n",
       "      <td>8784.0</td>\n",
       "      <td>11.99</td>\n",
       "      <td>11.99</td>\n",
       "      <td>0.0</td>\n",
       "    </tr>\n",
       "    <tr>\n",
       "      <th>...</th>\n",
       "      <td>...</td>\n",
       "      <td>...</td>\n",
       "      <td>...</td>\n",
       "      <td>...</td>\n",
       "      <td>...</td>\n",
       "      <td>...</td>\n",
       "      <td>...</td>\n",
       "    </tr>\n",
       "    <tr>\n",
       "      <th>50867</th>\n",
       "      <td>2296380</td>\n",
       "      <td>Very Positive</td>\n",
       "      <td>96.0</td>\n",
       "      <td>101.0</td>\n",
       "      <td>22.00</td>\n",
       "      <td>0.00</td>\n",
       "      <td>0.0</td>\n",
       "    </tr>\n",
       "    <tr>\n",
       "      <th>50868</th>\n",
       "      <td>1272080</td>\n",
       "      <td>Mostly Negative</td>\n",
       "      <td>38.0</td>\n",
       "      <td>29458.0</td>\n",
       "      <td>40.00</td>\n",
       "      <td>0.00</td>\n",
       "      <td>0.0</td>\n",
       "    </tr>\n",
       "    <tr>\n",
       "      <th>50869</th>\n",
       "      <td>1402110</td>\n",
       "      <td>Very Positive</td>\n",
       "      <td>89.0</td>\n",
       "      <td>1128.0</td>\n",
       "      <td>30.00</td>\n",
       "      <td>0.00</td>\n",
       "      <td>0.0</td>\n",
       "    </tr>\n",
       "    <tr>\n",
       "      <th>50870</th>\n",
       "      <td>2272250</td>\n",
       "      <td>Very Positive</td>\n",
       "      <td>95.0</td>\n",
       "      <td>82.0</td>\n",
       "      <td>17.00</td>\n",
       "      <td>0.00</td>\n",
       "      <td>0.0</td>\n",
       "    </tr>\n",
       "    <tr>\n",
       "      <th>50871</th>\n",
       "      <td>2488510</td>\n",
       "      <td>Very Positive</td>\n",
       "      <td>88.0</td>\n",
       "      <td>144.0</td>\n",
       "      <td>4.00</td>\n",
       "      <td>0.00</td>\n",
       "      <td>0.0</td>\n",
       "    </tr>\n",
       "  </tbody>\n",
       "</table>\n",
       "<p>50872 rows × 7 columns</p>\n",
       "</div>"
      ],
      "text/plain": [
       "        app_id           rating  positive_ratio  user_reviews  price_final  \\\n",
       "0        13500    Very Positive            84.0        2199.0         9.99   \n",
       "1        22364         Positive            85.0          21.0         2.99   \n",
       "2       113020    Very Positive            92.0        3722.0        14.99   \n",
       "3       226560            Mixed            61.0         873.0        14.99   \n",
       "4       249050    Very Positive            88.0        8784.0        11.99   \n",
       "...        ...              ...             ...           ...          ...   \n",
       "50867  2296380    Very Positive            96.0         101.0        22.00   \n",
       "50868  1272080  Mostly Negative            38.0       29458.0        40.00   \n",
       "50869  1402110    Very Positive            89.0        1128.0        30.00   \n",
       "50870  2272250    Very Positive            95.0          82.0        17.00   \n",
       "50871  2488510    Very Positive            88.0         144.0         4.00   \n",
       "\n",
       "       price_original  discount  \n",
       "0                9.99       0.0  \n",
       "1                2.99       0.0  \n",
       "2               14.99       0.0  \n",
       "3               14.99       0.0  \n",
       "4               11.99       0.0  \n",
       "...               ...       ...  \n",
       "50867            0.00       0.0  \n",
       "50868            0.00       0.0  \n",
       "50869            0.00       0.0  \n",
       "50870            0.00       0.0  \n",
       "50871            0.00       0.0  \n",
       "\n",
       "[50872 rows x 7 columns]"
      ]
     },
     "execution_count": 57,
     "metadata": {},
     "output_type": "execute_result"
    }
   ],
   "source": [
    "# read dataset games_info.csv\n",
    "df_info = pd.read_csv('datasets/games_info.csv')\n",
    "df_info"
   ]
  },
  {
   "cell_type": "code",
   "execution_count": 58,
   "metadata": {},
   "outputs": [
    {
     "data": {
      "text/html": [
       "<div>\n",
       "<style scoped>\n",
       "    .dataframe tbody tr th:only-of-type {\n",
       "        vertical-align: middle;\n",
       "    }\n",
       "\n",
       "    .dataframe tbody tr th {\n",
       "        vertical-align: top;\n",
       "    }\n",
       "\n",
       "    .dataframe thead th {\n",
       "        text-align: right;\n",
       "    }\n",
       "</style>\n",
       "<table border=\"1\" class=\"dataframe\">\n",
       "  <thead>\n",
       "    <tr style=\"text-align: right;\">\n",
       "      <th></th>\n",
       "      <th>app_id</th>\n",
       "      <th>title</th>\n",
       "      <th>date_release</th>\n",
       "      <th>win</th>\n",
       "      <th>mac</th>\n",
       "      <th>linux</th>\n",
       "      <th>steam_deck</th>\n",
       "    </tr>\n",
       "  </thead>\n",
       "  <tbody>\n",
       "    <tr>\n",
       "      <th>0</th>\n",
       "      <td>13500</td>\n",
       "      <td>Prince of Persia: Warrior Within™</td>\n",
       "      <td>11/21/2008</td>\n",
       "      <td>True</td>\n",
       "      <td>False</td>\n",
       "      <td>False</td>\n",
       "      <td>True</td>\n",
       "    </tr>\n",
       "    <tr>\n",
       "      <th>1</th>\n",
       "      <td>22364</td>\n",
       "      <td>BRINK: Agents of Change</td>\n",
       "      <td>8/3/2011</td>\n",
       "      <td>True</td>\n",
       "      <td>False</td>\n",
       "      <td>False</td>\n",
       "      <td>True</td>\n",
       "    </tr>\n",
       "    <tr>\n",
       "      <th>2</th>\n",
       "      <td>113020</td>\n",
       "      <td>Monaco: What's Yours Is Mine</td>\n",
       "      <td>4/24/2013</td>\n",
       "      <td>True</td>\n",
       "      <td>True</td>\n",
       "      <td>True</td>\n",
       "      <td>True</td>\n",
       "    </tr>\n",
       "    <tr>\n",
       "      <th>3</th>\n",
       "      <td>226560</td>\n",
       "      <td>Escape Dead Island</td>\n",
       "      <td>11/18/2014</td>\n",
       "      <td>True</td>\n",
       "      <td>False</td>\n",
       "      <td>False</td>\n",
       "      <td>True</td>\n",
       "    </tr>\n",
       "    <tr>\n",
       "      <th>4</th>\n",
       "      <td>249050</td>\n",
       "      <td>Dungeon of the ENDLESS™</td>\n",
       "      <td>10/27/2014</td>\n",
       "      <td>True</td>\n",
       "      <td>True</td>\n",
       "      <td>False</td>\n",
       "      <td>True</td>\n",
       "    </tr>\n",
       "    <tr>\n",
       "      <th>...</th>\n",
       "      <td>...</td>\n",
       "      <td>...</td>\n",
       "      <td>...</td>\n",
       "      <td>...</td>\n",
       "      <td>...</td>\n",
       "      <td>...</td>\n",
       "      <td>...</td>\n",
       "    </tr>\n",
       "    <tr>\n",
       "      <th>50867</th>\n",
       "      <td>2296380</td>\n",
       "      <td>I Expect You To Die 3: Cog in the Machine</td>\n",
       "      <td>9/28/2023</td>\n",
       "      <td>True</td>\n",
       "      <td>False</td>\n",
       "      <td>False</td>\n",
       "      <td>True</td>\n",
       "    </tr>\n",
       "    <tr>\n",
       "      <th>50868</th>\n",
       "      <td>1272080</td>\n",
       "      <td>PAYDAY 3</td>\n",
       "      <td>9/21/2023</td>\n",
       "      <td>True</td>\n",
       "      <td>False</td>\n",
       "      <td>False</td>\n",
       "      <td>True</td>\n",
       "    </tr>\n",
       "    <tr>\n",
       "      <th>50869</th>\n",
       "      <td>1402110</td>\n",
       "      <td>Eternights</td>\n",
       "      <td>9/11/2023</td>\n",
       "      <td>True</td>\n",
       "      <td>False</td>\n",
       "      <td>False</td>\n",
       "      <td>True</td>\n",
       "    </tr>\n",
       "    <tr>\n",
       "      <th>50870</th>\n",
       "      <td>2272250</td>\n",
       "      <td>Forgive Me Father 2</td>\n",
       "      <td>10/19/2023</td>\n",
       "      <td>True</td>\n",
       "      <td>False</td>\n",
       "      <td>False</td>\n",
       "      <td>True</td>\n",
       "    </tr>\n",
       "    <tr>\n",
       "      <th>50871</th>\n",
       "      <td>2488510</td>\n",
       "      <td>FatalZone</td>\n",
       "      <td>10/23/2023</td>\n",
       "      <td>True</td>\n",
       "      <td>False</td>\n",
       "      <td>False</td>\n",
       "      <td>True</td>\n",
       "    </tr>\n",
       "  </tbody>\n",
       "</table>\n",
       "<p>50872 rows × 7 columns</p>\n",
       "</div>"
      ],
      "text/plain": [
       "        app_id                                      title date_release   win  \\\n",
       "0        13500          Prince of Persia: Warrior Within™   11/21/2008  True   \n",
       "1        22364                    BRINK: Agents of Change     8/3/2011  True   \n",
       "2       113020               Monaco: What's Yours Is Mine    4/24/2013  True   \n",
       "3       226560                         Escape Dead Island   11/18/2014  True   \n",
       "4       249050                    Dungeon of the ENDLESS™   10/27/2014  True   \n",
       "...        ...                                        ...          ...   ...   \n",
       "50867  2296380  I Expect You To Die 3: Cog in the Machine    9/28/2023  True   \n",
       "50868  1272080                                   PAYDAY 3    9/21/2023  True   \n",
       "50869  1402110                                 Eternights    9/11/2023  True   \n",
       "50870  2272250                        Forgive Me Father 2   10/19/2023  True   \n",
       "50871  2488510                                  FatalZone   10/23/2023  True   \n",
       "\n",
       "         mac  linux steam_deck  \n",
       "0      False  False       True  \n",
       "1      False  False       True  \n",
       "2       True   True       True  \n",
       "3      False  False       True  \n",
       "4       True  False       True  \n",
       "...      ...    ...        ...  \n",
       "50867  False  False       True  \n",
       "50868  False  False       True  \n",
       "50869  False  False       True  \n",
       "50870  False  False       True  \n",
       "50871  False  False       True  \n",
       "\n",
       "[50872 rows x 7 columns]"
      ]
     },
     "execution_count": 58,
     "metadata": {},
     "output_type": "execute_result"
    }
   ],
   "source": [
    "# read dataset games_platforms.csv\n",
    "df_platforms = pd.read_csv('datasets/games_platforms.csv')\n",
    "df_platforms"
   ]
  },
  {
   "cell_type": "code",
   "execution_count": 59,
   "metadata": {},
   "outputs": [
    {
     "data": {
      "text/html": [
       "<div>\n",
       "<style scoped>\n",
       "    .dataframe tbody tr th:only-of-type {\n",
       "        vertical-align: middle;\n",
       "    }\n",
       "\n",
       "    .dataframe tbody tr th {\n",
       "        vertical-align: top;\n",
       "    }\n",
       "\n",
       "    .dataframe thead th {\n",
       "        text-align: right;\n",
       "    }\n",
       "</style>\n",
       "<table border=\"1\" class=\"dataframe\">\n",
       "  <thead>\n",
       "    <tr style=\"text-align: right;\">\n",
       "      <th></th>\n",
       "      <th>app_id</th>\n",
       "      <th>genres</th>\n",
       "      <th>player_support</th>\n",
       "      <th>indie</th>\n",
       "    </tr>\n",
       "  </thead>\n",
       "  <tbody>\n",
       "    <tr>\n",
       "      <th>0</th>\n",
       "      <td>13500</td>\n",
       "      <td>Action</td>\n",
       "      <td>Singleplayer</td>\n",
       "      <td>False</td>\n",
       "    </tr>\n",
       "    <tr>\n",
       "      <th>1</th>\n",
       "      <td>22364</td>\n",
       "      <td>Action</td>\n",
       "      <td>Singleplayer</td>\n",
       "      <td>False</td>\n",
       "    </tr>\n",
       "    <tr>\n",
       "      <th>2</th>\n",
       "      <td>113020</td>\n",
       "      <td>Action</td>\n",
       "      <td>Multiplayer</td>\n",
       "      <td>True</td>\n",
       "    </tr>\n",
       "    <tr>\n",
       "      <th>3</th>\n",
       "      <td>226560</td>\n",
       "      <td>Action</td>\n",
       "      <td>Multiplayer</td>\n",
       "      <td>False</td>\n",
       "    </tr>\n",
       "    <tr>\n",
       "      <th>4</th>\n",
       "      <td>249050</td>\n",
       "      <td>Adventure</td>\n",
       "      <td>Singleplayer</td>\n",
       "      <td>True</td>\n",
       "    </tr>\n",
       "    <tr>\n",
       "      <th>...</th>\n",
       "      <td>...</td>\n",
       "      <td>...</td>\n",
       "      <td>...</td>\n",
       "      <td>...</td>\n",
       "    </tr>\n",
       "    <tr>\n",
       "      <th>50867</th>\n",
       "      <td>2296380</td>\n",
       "      <td>NaN</td>\n",
       "      <td>Singleplayer</td>\n",
       "      <td>False</td>\n",
       "    </tr>\n",
       "    <tr>\n",
       "      <th>50868</th>\n",
       "      <td>1272080</td>\n",
       "      <td>NaN</td>\n",
       "      <td>Singleplayer</td>\n",
       "      <td>False</td>\n",
       "    </tr>\n",
       "    <tr>\n",
       "      <th>50869</th>\n",
       "      <td>1402110</td>\n",
       "      <td>NaN</td>\n",
       "      <td>Singleplayer</td>\n",
       "      <td>False</td>\n",
       "    </tr>\n",
       "    <tr>\n",
       "      <th>50870</th>\n",
       "      <td>2272250</td>\n",
       "      <td>Action</td>\n",
       "      <td>Singleplayer</td>\n",
       "      <td>False</td>\n",
       "    </tr>\n",
       "    <tr>\n",
       "      <th>50871</th>\n",
       "      <td>2488510</td>\n",
       "      <td>NaN</td>\n",
       "      <td>Singleplayer</td>\n",
       "      <td>False</td>\n",
       "    </tr>\n",
       "  </tbody>\n",
       "</table>\n",
       "<p>50872 rows × 4 columns</p>\n",
       "</div>"
      ],
      "text/plain": [
       "        app_id     genres player_support  indie\n",
       "0        13500     Action   Singleplayer  False\n",
       "1        22364     Action   Singleplayer  False\n",
       "2       113020     Action    Multiplayer   True\n",
       "3       226560     Action    Multiplayer  False\n",
       "4       249050  Adventure   Singleplayer   True\n",
       "...        ...        ...            ...    ...\n",
       "50867  2296380        NaN   Singleplayer  False\n",
       "50868  1272080        NaN   Singleplayer  False\n",
       "50869  1402110        NaN   Singleplayer  False\n",
       "50870  2272250     Action   Singleplayer  False\n",
       "50871  2488510        NaN   Singleplayer  False\n",
       "\n",
       "[50872 rows x 4 columns]"
      ]
     },
     "execution_count": 59,
     "metadata": {},
     "output_type": "execute_result"
    }
   ],
   "source": [
    "# read dataset games_categories.csv\n",
    "df_categories = pd.read_csv('datasets/games_categories.csv')\n",
    "df_categories"
   ]
  },
  {
   "cell_type": "markdown",
   "metadata": {},
   "source": [
    "## 2. Assess data\n"
   ]
  },
  {
   "cell_type": "markdown",
   "metadata": {},
   "source": [
    "I will assess the data both visually and programmatically to identify any data quality(content) issues and tidiness(structual) issues."
   ]
  },
  {
   "cell_type": "markdown",
   "metadata": {},
   "source": [
    "---\n",
    "##### Tên: Phạm Quốc Phú"
   ]
  },
  {
   "cell_type": "markdown",
   "metadata": {},
   "source": [
    "### Issue 1: Datasets games_info - Cột Rating, positive_ratio, user_reviews, price_final, price_original và discount xuất hiện giá trị null, kiểu dữ liệu cột positive_ratio, user_reviews, discount không phù hợp"
   ]
  },
  {
   "cell_type": "code",
   "execution_count": 60,
   "metadata": {},
   "outputs": [
    {
     "name": "stdout",
     "output_type": "stream",
     "text": [
      "Thông tin cơ bản của DataFrame:\n",
      "<class 'pandas.core.frame.DataFrame'>\n",
      "RangeIndex: 50872 entries, 0 to 50871\n",
      "Data columns (total 7 columns):\n",
      " #   Column          Non-Null Count  Dtype  \n",
      "---  ------          --------------  -----  \n",
      " 0   app_id          50872 non-null  int64  \n",
      " 1   rating          50867 non-null  object \n",
      " 2   positive_ratio  50868 non-null  float64\n",
      " 3   user_reviews    50860 non-null  float64\n",
      " 4   price_final     50831 non-null  float64\n",
      " 5   price_original  50840 non-null  float64\n",
      " 6   discount        50864 non-null  float64\n",
      "dtypes: float64(5), int64(1), object(1)\n",
      "memory usage: 2.7+ MB\n",
      "None\n",
      "\n",
      "Các cột của DataFrame:\n",
      "Index(['app_id', 'rating', 'positive_ratio', 'user_reviews', 'price_final',\n",
      "       'price_original', 'discount'],\n",
      "      dtype='object')\n",
      "\n",
      "Kích thước của DataFrame (số hàng, số cột):\n",
      "(50872, 7)\n",
      "\n",
      "Thống kê mô tả của DataFrame:\n",
      "              app_id    rating  positive_ratio  user_reviews   price_final  \\\n",
      "count   5.087200e+04     50867    50868.000000  5.086000e+04  50831.000000   \n",
      "unique           NaN         9             NaN           NaN           NaN   \n",
      "top              NaN  Positive             NaN           NaN           NaN   \n",
      "freq             NaN     13501             NaN           NaN           NaN   \n",
      "mean    1.055224e+06       NaN       77.051919  1.824388e+03      8.618137   \n",
      "std     6.103249e+05       NaN       18.254088  4.007822e+04     11.516448   \n",
      "min     1.000000e+01       NaN        0.000000  1.000000e+01      0.000000   \n",
      "25%     5.287375e+05       NaN       67.000000  1.900000e+01      0.990000   \n",
      "50%     9.860850e+05       NaN       81.000000  4.900000e+01      4.990000   \n",
      "75%     1.524895e+06       NaN       91.000000  2.060000e+02     10.990000   \n",
      "max     2.599300e+06       NaN      100.000000  7.494460e+06    299.990000   \n",
      "\n",
      "        price_original      discount  \n",
      "count     50840.000000  50864.000000  \n",
      "unique             NaN           NaN  \n",
      "top                NaN           NaN  \n",
      "freq               NaN           NaN  \n",
      "mean          8.722491      5.592108  \n",
      "std          11.502193     18.606985  \n",
      "min           0.000000      0.000000  \n",
      "25%           0.990000      0.000000  \n",
      "50%           4.990000      0.000000  \n",
      "75%          11.990000      0.000000  \n",
      "max         299.990000     90.000000  \n",
      "\n",
      "Số lượng giá trị null trong mỗi cột:\n",
      "app_id             0\n",
      "rating             5\n",
      "positive_ratio     4\n",
      "user_reviews      12\n",
      "price_final       41\n",
      "price_original    32\n",
      "discount           8\n",
      "dtype: int64\n",
      "\n",
      "Số lượng giá trị duy nhất trong mỗi cột:\n",
      "app_id            50872\n",
      "rating                9\n",
      "positive_ratio      100\n",
      "user_reviews       4844\n",
      "price_final         435\n",
      "price_original      183\n",
      "discount             75\n",
      "dtype: int64\n"
     ]
    }
   ],
   "source": [
    "# check info dataset games_info\n",
    "check_dataset_info(df_info)"
   ]
  },
  {
   "cell_type": "markdown",
   "metadata": {},
   "source": [
    "#### Observations:"
   ]
  },
  {
   "cell_type": "markdown",
   "metadata": {},
   "source": [
    "- Đổi kiểu dữ liệu positive_ratio, user_reviews, discount sang kiểu int16\n",
    "- Ở cột rating thay thế giá trị null thành giá trị xuất hiện nhiều nhất\n",
    "- Ở các cột positive_ratio, user_reviews, price_final, price_original và discount thay thế bằng giá trị trung bình"
   ]
  },
  {
   "cell_type": "markdown",
   "metadata": {},
   "source": [
    "##### Tên : Trịnh Đàm Huy"
   ]
  },
  {
   "cell_type": "markdown",
   "metadata": {},
   "source": [
    "---\n",
    "### Issue 2: \n",
    " - Kiểu dữ liệu của các cột date_release, win, mac, linux, steam_deck chưa đúng.\n",
    " - Còn giá trị null ở 5 cột nêu trên."
   ]
  },
  {
   "cell_type": "code",
   "execution_count": 61,
   "metadata": {},
   "outputs": [
    {
     "name": "stdout",
     "output_type": "stream",
     "text": [
      "Thông tin cơ bản của DataFrame:\n",
      "<class 'pandas.core.frame.DataFrame'>\n",
      "RangeIndex: 50872 entries, 0 to 50871\n",
      "Data columns (total 7 columns):\n",
      " #   Column        Non-Null Count  Dtype \n",
      "---  ------        --------------  ----- \n",
      " 0   app_id        50872 non-null  int64 \n",
      " 1   title         50872 non-null  object\n",
      " 2   date_release  50861 non-null  object\n",
      " 3   win           50832 non-null  object\n",
      " 4   mac           50821 non-null  object\n",
      " 5   linux         50848 non-null  object\n",
      " 6   steam_deck    50860 non-null  object\n",
      "dtypes: int64(1), object(6)\n",
      "memory usage: 2.7+ MB\n",
      "None\n",
      "\n",
      "Các cột của DataFrame:\n",
      "Index(['app_id', 'title', 'date_release', 'win', 'mac', 'linux', 'steam_deck'], dtype='object')\n",
      "\n",
      "Kích thước của DataFrame (số hàng, số cột):\n",
      "(50872, 7)\n",
      "\n",
      "Thống kê mô tả của DataFrame:\n",
      "              app_id  title date_release    win    mac  linux steam_deck\n",
      "count   5.087200e+04  50872        50861  50832  50821  50848      50860\n",
      "unique           NaN  50751         4292      2      2      2          2\n",
      "top              NaN   Loop    6/18/2020   True  False  False       True\n",
      "freq             NaN      4           92  50038  37816  41808      50858\n",
      "mean    1.055224e+06    NaN          NaN    NaN    NaN    NaN        NaN\n",
      "std     6.103249e+05    NaN          NaN    NaN    NaN    NaN        NaN\n",
      "min     1.000000e+01    NaN          NaN    NaN    NaN    NaN        NaN\n",
      "25%     5.287375e+05    NaN          NaN    NaN    NaN    NaN        NaN\n",
      "50%     9.860850e+05    NaN          NaN    NaN    NaN    NaN        NaN\n",
      "75%     1.524895e+06    NaN          NaN    NaN    NaN    NaN        NaN\n",
      "max     2.599300e+06    NaN          NaN    NaN    NaN    NaN        NaN\n",
      "\n",
      "Số lượng giá trị null trong mỗi cột:\n",
      "app_id           0\n",
      "title            0\n",
      "date_release    11\n",
      "win             40\n",
      "mac             51\n",
      "linux           24\n",
      "steam_deck      12\n",
      "dtype: int64\n",
      "\n",
      "Số lượng giá trị duy nhất trong mỗi cột:\n",
      "app_id          50872\n",
      "title           50751\n",
      "date_release     4292\n",
      "win                 2\n",
      "mac                 2\n",
      "linux               2\n",
      "steam_deck          2\n",
      "dtype: int64\n"
     ]
    }
   ],
   "source": [
    "# check info dataset games_platforms\n",
    "check_dataset_info(df_platforms)"
   ]
  },
  {
   "cell_type": "code",
   "execution_count": 453,
   "metadata": {},
   "outputs": [
    {
     "data": {
      "text/html": [
       "<div>\n",
       "<style scoped>\n",
       "    .dataframe tbody tr th:only-of-type {\n",
       "        vertical-align: middle;\n",
       "    }\n",
       "\n",
       "    .dataframe tbody tr th {\n",
       "        vertical-align: top;\n",
       "    }\n",
       "\n",
       "    .dataframe thead th {\n",
       "        text-align: right;\n",
       "    }\n",
       "</style>\n",
       "<table border=\"1\" class=\"dataframe\">\n",
       "  <thead>\n",
       "    <tr style=\"text-align: right;\">\n",
       "      <th></th>\n",
       "      <th>app_id</th>\n",
       "      <th>title</th>\n",
       "      <th>date_release</th>\n",
       "      <th>win</th>\n",
       "      <th>mac</th>\n",
       "      <th>linux</th>\n",
       "      <th>steam_deck</th>\n",
       "    </tr>\n",
       "  </thead>\n",
       "  <tbody>\n",
       "    <tr>\n",
       "      <th>31</th>\n",
       "      <td>462280</td>\n",
       "      <td>Offworld Trading Company - Soundtrack DLC</td>\n",
       "      <td>NaN</td>\n",
       "      <td>True</td>\n",
       "      <td>True</td>\n",
       "      <td>False</td>\n",
       "      <td>True</td>\n",
       "    </tr>\n",
       "    <tr>\n",
       "      <th>14232</th>\n",
       "      <td>1241287</td>\n",
       "      <td>Monster Hunter World: Iceborne - MHW:I Room De...</td>\n",
       "      <td>NaN</td>\n",
       "      <td>True</td>\n",
       "      <td>False</td>\n",
       "      <td>False</td>\n",
       "      <td>True</td>\n",
       "    </tr>\n",
       "    <tr>\n",
       "      <th>14235</th>\n",
       "      <td>1358530</td>\n",
       "      <td>Saint Kotar</td>\n",
       "      <td>NaN</td>\n",
       "      <td>True</td>\n",
       "      <td>True</td>\n",
       "      <td>True</td>\n",
       "      <td>True</td>\n",
       "    </tr>\n",
       "    <tr>\n",
       "      <th>14237</th>\n",
       "      <td>1383280</td>\n",
       "      <td>Josh Journey: Darkness Totems</td>\n",
       "      <td>NaN</td>\n",
       "      <td>True</td>\n",
       "      <td>False</td>\n",
       "      <td>False</td>\n",
       "      <td>True</td>\n",
       "    </tr>\n",
       "    <tr>\n",
       "      <th>44461</th>\n",
       "      <td>367030</td>\n",
       "      <td>Lootfest</td>\n",
       "      <td>NaN</td>\n",
       "      <td>True</td>\n",
       "      <td>False</td>\n",
       "      <td>False</td>\n",
       "      <td>True</td>\n",
       "    </tr>\n",
       "    <tr>\n",
       "      <th>44678</th>\n",
       "      <td>1585830</td>\n",
       "      <td>Quickly Quackley!</td>\n",
       "      <td>NaN</td>\n",
       "      <td>True</td>\n",
       "      <td>False</td>\n",
       "      <td>False</td>\n",
       "      <td>True</td>\n",
       "    </tr>\n",
       "    <tr>\n",
       "      <th>44687</th>\n",
       "      <td>530330</td>\n",
       "      <td>Blameless</td>\n",
       "      <td>NaN</td>\n",
       "      <td>True</td>\n",
       "      <td>True</td>\n",
       "      <td>False</td>\n",
       "      <td>True</td>\n",
       "    </tr>\n",
       "    <tr>\n",
       "      <th>44693</th>\n",
       "      <td>1375070</td>\n",
       "      <td>FurBall</td>\n",
       "      <td>NaN</td>\n",
       "      <td>True</td>\n",
       "      <td>False</td>\n",
       "      <td>False</td>\n",
       "      <td>True</td>\n",
       "    </tr>\n",
       "    <tr>\n",
       "      <th>44703</th>\n",
       "      <td>820790</td>\n",
       "      <td>FEAST: Book One «Family Ties»</td>\n",
       "      <td>NaN</td>\n",
       "      <td>True</td>\n",
       "      <td>False</td>\n",
       "      <td>False</td>\n",
       "      <td>True</td>\n",
       "    </tr>\n",
       "    <tr>\n",
       "      <th>44708</th>\n",
       "      <td>1937530</td>\n",
       "      <td>Dying Light 2 - Deluxe Upgrade</td>\n",
       "      <td>NaN</td>\n",
       "      <td>True</td>\n",
       "      <td>False</td>\n",
       "      <td>False</td>\n",
       "      <td>True</td>\n",
       "    </tr>\n",
       "    <tr>\n",
       "      <th>44728</th>\n",
       "      <td>2280860</td>\n",
       "      <td>Ghosts of Tabor - Founding Father Edition Upgrade</td>\n",
       "      <td>NaN</td>\n",
       "      <td>True</td>\n",
       "      <td>False</td>\n",
       "      <td>False</td>\n",
       "      <td>True</td>\n",
       "    </tr>\n",
       "  </tbody>\n",
       "</table>\n",
       "</div>"
      ],
      "text/plain": [
       "        app_id                                              title  \\\n",
       "31      462280          Offworld Trading Company - Soundtrack DLC   \n",
       "14232  1241287  Monster Hunter World: Iceborne - MHW:I Room De...   \n",
       "14235  1358530                                        Saint Kotar   \n",
       "14237  1383280                      Josh Journey: Darkness Totems   \n",
       "44461   367030                                           Lootfest   \n",
       "44678  1585830                                  Quickly Quackley!   \n",
       "44687   530330                                          Blameless   \n",
       "44693  1375070                                            FurBall   \n",
       "44703   820790                      FEAST: Book One «Family Ties»   \n",
       "44708  1937530                     Dying Light 2 - Deluxe Upgrade   \n",
       "44728  2280860  Ghosts of Tabor - Founding Father Edition Upgrade   \n",
       "\n",
       "      date_release   win    mac  linux steam_deck  \n",
       "31             NaN  True   True  False       True  \n",
       "14232          NaN  True  False  False       True  \n",
       "14235          NaN  True   True   True       True  \n",
       "14237          NaN  True  False  False       True  \n",
       "44461          NaN  True  False  False       True  \n",
       "44678          NaN  True  False  False       True  \n",
       "44687          NaN  True   True  False       True  \n",
       "44693          NaN  True  False  False       True  \n",
       "44703          NaN  True  False  False       True  \n",
       "44708          NaN  True  False  False       True  \n",
       "44728          NaN  True  False  False       True  "
      ]
     },
     "execution_count": 453,
     "metadata": {},
     "output_type": "execute_result"
    }
   ],
   "source": [
    "# show null values in date_release\n",
    "df_platforms[df_platforms['date_release'].isnull()]"
   ]
  },
  {
   "cell_type": "code",
   "execution_count": 454,
   "metadata": {},
   "outputs": [
    {
     "data": {
      "text/html": [
       "<div>\n",
       "<style scoped>\n",
       "    .dataframe tbody tr th:only-of-type {\n",
       "        vertical-align: middle;\n",
       "    }\n",
       "\n",
       "    .dataframe tbody tr th {\n",
       "        vertical-align: top;\n",
       "    }\n",
       "\n",
       "    .dataframe thead th {\n",
       "        text-align: right;\n",
       "    }\n",
       "</style>\n",
       "<table border=\"1\" class=\"dataframe\">\n",
       "  <thead>\n",
       "    <tr style=\"text-align: right;\">\n",
       "      <th></th>\n",
       "      <th>app_id</th>\n",
       "      <th>title</th>\n",
       "      <th>date_release</th>\n",
       "      <th>win</th>\n",
       "      <th>mac</th>\n",
       "      <th>linux</th>\n",
       "      <th>steam_deck</th>\n",
       "    </tr>\n",
       "  </thead>\n",
       "  <tbody>\n",
       "    <tr>\n",
       "      <th>0</th>\n",
       "      <td>13500</td>\n",
       "      <td>Prince of Persia: Warrior Within™</td>\n",
       "      <td>11/21/2008</td>\n",
       "      <td>True</td>\n",
       "      <td>False</td>\n",
       "      <td>False</td>\n",
       "      <td>True</td>\n",
       "    </tr>\n",
       "    <tr>\n",
       "      <th>1</th>\n",
       "      <td>22364</td>\n",
       "      <td>BRINK: Agents of Change</td>\n",
       "      <td>8/3/2011</td>\n",
       "      <td>True</td>\n",
       "      <td>False</td>\n",
       "      <td>False</td>\n",
       "      <td>True</td>\n",
       "    </tr>\n",
       "    <tr>\n",
       "      <th>2</th>\n",
       "      <td>113020</td>\n",
       "      <td>Monaco: What's Yours Is Mine</td>\n",
       "      <td>4/24/2013</td>\n",
       "      <td>True</td>\n",
       "      <td>True</td>\n",
       "      <td>True</td>\n",
       "      <td>True</td>\n",
       "    </tr>\n",
       "    <tr>\n",
       "      <th>3</th>\n",
       "      <td>226560</td>\n",
       "      <td>Escape Dead Island</td>\n",
       "      <td>11/18/2014</td>\n",
       "      <td>True</td>\n",
       "      <td>False</td>\n",
       "      <td>False</td>\n",
       "      <td>True</td>\n",
       "    </tr>\n",
       "    <tr>\n",
       "      <th>4</th>\n",
       "      <td>249050</td>\n",
       "      <td>Dungeon of the ENDLESS™</td>\n",
       "      <td>10/27/2014</td>\n",
       "      <td>True</td>\n",
       "      <td>True</td>\n",
       "      <td>False</td>\n",
       "      <td>True</td>\n",
       "    </tr>\n",
       "  </tbody>\n",
       "</table>\n",
       "</div>"
      ],
      "text/plain": [
       "   app_id                              title date_release   win    mac  linux  \\\n",
       "0   13500  Prince of Persia: Warrior Within™   11/21/2008  True  False  False   \n",
       "1   22364            BRINK: Agents of Change     8/3/2011  True  False  False   \n",
       "2  113020       Monaco: What's Yours Is Mine    4/24/2013  True   True   True   \n",
       "3  226560                 Escape Dead Island   11/18/2014  True  False  False   \n",
       "4  249050            Dungeon of the ENDLESS™   10/27/2014  True   True  False   \n",
       "\n",
       "  steam_deck  \n",
       "0       True  \n",
       "1       True  \n",
       "2       True  \n",
       "3       True  \n",
       "4       True  "
      ]
     },
     "execution_count": 454,
     "metadata": {},
     "output_type": "execute_result"
    }
   ],
   "source": [
    "# show first 5 rows\n",
    "df_platforms.head(5)"
   ]
  },
  {
   "cell_type": "markdown",
   "metadata": {},
   "source": [
    "#### Observations:"
   ]
  },
  {
   "cell_type": "markdown",
   "metadata": {},
   "source": [
    "- Chuyển cột date_release sang kiểu dữ liệu datetime, các cột win, mac, linux, steam_deck sang kiểu dữ liệu bool\n",
    "- Cho các giá trị null ở cột date_release thành ngày trung bình\n",
    "- Cho các giá trị null ở 4 cột win, mac, linux, steam_deck thành các giá trị xuất hiện nhiều nhất"
   ]
  },
  {
   "cell_type": "markdown",
   "metadata": {},
   "source": [
    "---\n",
    "##### Tên: Phạm Hoàng Phúc"
   ]
  },
  {
   "cell_type": "markdown",
   "metadata": {},
   "source": [
    "### Issue 3: Dataset game_categories: Cột genres có chứa các giá trị null"
   ]
  },
  {
   "cell_type": "code",
   "execution_count": 62,
   "metadata": {},
   "outputs": [
    {
     "data": {
      "text/html": [
       "<div>\n",
       "<style scoped>\n",
       "    .dataframe tbody tr th:only-of-type {\n",
       "        vertical-align: middle;\n",
       "    }\n",
       "\n",
       "    .dataframe tbody tr th {\n",
       "        vertical-align: top;\n",
       "    }\n",
       "\n",
       "    .dataframe thead th {\n",
       "        text-align: right;\n",
       "    }\n",
       "</style>\n",
       "<table border=\"1\" class=\"dataframe\">\n",
       "  <thead>\n",
       "    <tr style=\"text-align: right;\">\n",
       "      <th></th>\n",
       "      <th>app_id</th>\n",
       "      <th>genres</th>\n",
       "      <th>player_support</th>\n",
       "      <th>indie</th>\n",
       "    </tr>\n",
       "  </thead>\n",
       "  <tbody>\n",
       "    <tr>\n",
       "      <th>0</th>\n",
       "      <td>13500</td>\n",
       "      <td>Action</td>\n",
       "      <td>Singleplayer</td>\n",
       "      <td>False</td>\n",
       "    </tr>\n",
       "    <tr>\n",
       "      <th>1</th>\n",
       "      <td>22364</td>\n",
       "      <td>Action</td>\n",
       "      <td>Singleplayer</td>\n",
       "      <td>False</td>\n",
       "    </tr>\n",
       "    <tr>\n",
       "      <th>2</th>\n",
       "      <td>113020</td>\n",
       "      <td>Action</td>\n",
       "      <td>Multiplayer</td>\n",
       "      <td>True</td>\n",
       "    </tr>\n",
       "    <tr>\n",
       "      <th>3</th>\n",
       "      <td>226560</td>\n",
       "      <td>Action</td>\n",
       "      <td>Multiplayer</td>\n",
       "      <td>False</td>\n",
       "    </tr>\n",
       "    <tr>\n",
       "      <th>4</th>\n",
       "      <td>249050</td>\n",
       "      <td>Adventure</td>\n",
       "      <td>Singleplayer</td>\n",
       "      <td>True</td>\n",
       "    </tr>\n",
       "  </tbody>\n",
       "</table>\n",
       "</div>"
      ],
      "text/plain": [
       "   app_id     genres player_support  indie\n",
       "0   13500     Action   Singleplayer  False\n",
       "1   22364     Action   Singleplayer  False\n",
       "2  113020     Action    Multiplayer   True\n",
       "3  226560     Action    Multiplayer  False\n",
       "4  249050  Adventure   Singleplayer   True"
      ]
     },
     "execution_count": 62,
     "metadata": {},
     "output_type": "execute_result"
    }
   ],
   "source": [
    "# show first 5 rows\n",
    "df_categories.head(5)"
   ]
  },
  {
   "cell_type": "code",
   "execution_count": 63,
   "metadata": {},
   "outputs": [
    {
     "name": "stdout",
     "output_type": "stream",
     "text": [
      "Thông tin cơ bản của DataFrame:\n",
      "<class 'pandas.core.frame.DataFrame'>\n",
      "RangeIndex: 50872 entries, 0 to 50871\n",
      "Data columns (total 4 columns):\n",
      " #   Column          Non-Null Count  Dtype \n",
      "---  ------          --------------  ----- \n",
      " 0   app_id          50872 non-null  int64 \n",
      " 1   genres          44575 non-null  object\n",
      " 2   player_support  50872 non-null  object\n",
      " 3   indie           50872 non-null  bool  \n",
      "dtypes: bool(1), int64(1), object(2)\n",
      "memory usage: 1.2+ MB\n",
      "None\n",
      "\n",
      "Các cột của DataFrame:\n",
      "Index(['app_id', 'genres', 'player_support', 'indie'], dtype='object')\n",
      "\n",
      "Kích thước của DataFrame (số hàng, số cột):\n",
      "(50872, 4)\n",
      "\n",
      "Thống kê mô tả của DataFrame:\n",
      "              app_id  genres player_support  indie\n",
      "count   5.087200e+04   44575          50872  50872\n",
      "unique           NaN       6              2      2\n",
      "top              NaN  Action   Singleplayer   True\n",
      "freq             NaN   21897          44297  27957\n",
      "mean    1.055224e+06     NaN            NaN    NaN\n",
      "std     6.103249e+05     NaN            NaN    NaN\n",
      "min     1.000000e+01     NaN            NaN    NaN\n",
      "25%     5.287375e+05     NaN            NaN    NaN\n",
      "50%     9.860850e+05     NaN            NaN    NaN\n",
      "75%     1.524895e+06     NaN            NaN    NaN\n",
      "max     2.599300e+06     NaN            NaN    NaN\n",
      "\n",
      "Số lượng giá trị null trong mỗi cột:\n",
      "app_id               0\n",
      "genres            6297\n",
      "player_support       0\n",
      "indie                0\n",
      "dtype: int64\n",
      "\n",
      "Số lượng giá trị duy nhất trong mỗi cột:\n",
      "app_id            50872\n",
      "genres                6\n",
      "player_support        2\n",
      "indie                 2\n",
      "dtype: int64\n"
     ]
    }
   ],
   "source": [
    "# check info dataset games_categories\n",
    "check_dataset_info(df_categories)"
   ]
  },
  {
   "cell_type": "markdown",
   "metadata": {},
   "source": [
    "#### Observations:"
   ]
  },
  {
   "cell_type": "markdown",
   "metadata": {},
   "source": [
    "- Thay đổi các giá trị null trong cột genres thành 'Other'"
   ]
  },
  {
   "cell_type": "markdown",
   "metadata": {},
   "source": [
    "## 3. Clean data"
   ]
  },
  {
   "cell_type": "markdown",
   "metadata": {},
   "source": [
    "Clean the data to solve the 4 issues corresponding to data quality and tidiness found in the assessing step.\n",
    "\n",
    "Make copies of the datasets"
   ]
  },
  {
   "cell_type": "code",
   "execution_count": 64,
   "metadata": {},
   "outputs": [],
   "source": [
    "# make copy of dataset games_info\n",
    "df_info_copy = df_info.copy()"
   ]
  },
  {
   "cell_type": "code",
   "execution_count": 65,
   "metadata": {},
   "outputs": [],
   "source": [
    "# make copy of dataset games_platforms\n",
    "df_platforms_copy = df_platforms.copy()"
   ]
  },
  {
   "cell_type": "code",
   "execution_count": 66,
   "metadata": {},
   "outputs": [],
   "source": [
    "# make copy of dataset games_categories\n",
    "df_categories_copy = df_categories.copy()"
   ]
  },
  {
   "cell_type": "markdown",
   "metadata": {},
   "source": [
    "---\n",
    "##### Tên: Phạm Quốc Phú"
   ]
  },
  {
   "cell_type": "markdown",
   "metadata": {},
   "source": [
    "### Issue 1: Datasets games_info - Cột Rating, positive_ratio, user_reviews, price_final, price_original và discount xuất hiện giá trị null, kiểu dữ liệu cột positive_ratio, user_reviews, discount không phù hợp"
   ]
  },
  {
   "cell_type": "code",
   "execution_count": 67,
   "metadata": {},
   "outputs": [
    {
     "name": "stderr",
     "output_type": "stream",
     "text": [
      "C:\\Users\\trinh\\AppData\\Local\\Temp\\ipykernel_18276\\406404285.py:2: FutureWarning: A value is trying to be set on a copy of a DataFrame or Series through chained assignment using an inplace method.\n",
      "The behavior will change in pandas 3.0. This inplace method will never work because the intermediate object on which we are setting values always behaves as a copy.\n",
      "\n",
      "For example, when doing 'df[col].method(value, inplace=True)', try using 'df.method({col: value}, inplace=True)' or df[col] = df[col].method(value) instead, to perform the operation inplace on the original object.\n",
      "\n",
      "\n",
      "  df_info_copy['rating'].fillna(df_info_copy['rating'].mode()[0], inplace=True)\n"
     ]
    }
   ],
   "source": [
    "# In the rating column, replace the null value with the value that appears most often\n",
    "df_info_copy['rating'].fillna(df_info_copy['rating'].mode()[0], inplace=True)"
   ]
  },
  {
   "cell_type": "code",
   "execution_count": 68,
   "metadata": {},
   "outputs": [
    {
     "data": {
      "text/plain": [
       "app_id             0\n",
       "rating             0\n",
       "positive_ratio     4\n",
       "user_reviews      12\n",
       "price_final       41\n",
       "price_original    32\n",
       "discount           8\n",
       "dtype: int64"
      ]
     },
     "execution_count": 68,
     "metadata": {},
     "output_type": "execute_result"
    }
   ],
   "source": [
    "# Validate the cleaning was successful\n",
    "df_info_copy.isnull().sum()"
   ]
  },
  {
   "cell_type": "code",
   "execution_count": 69,
   "metadata": {},
   "outputs": [],
   "source": [
    "# In positive_ratio, user_reviews, price_final, price_original and discount, replace null value with mean value\n",
    "columns_to_fill = ['positive_ratio', 'user_reviews', 'price_final', 'price_original', 'discount']\n",
    "df_info_copy[columns_to_fill] = df_info_copy[columns_to_fill].fillna(df_info_copy[columns_to_fill].mean())"
   ]
  },
  {
   "cell_type": "code",
   "execution_count": 70,
   "metadata": {},
   "outputs": [
    {
     "data": {
      "text/plain": [
       "app_id            0\n",
       "rating            0\n",
       "positive_ratio    0\n",
       "user_reviews      0\n",
       "price_final       0\n",
       "price_original    0\n",
       "discount          0\n",
       "dtype: int64"
      ]
     },
     "execution_count": 70,
     "metadata": {},
     "output_type": "execute_result"
    }
   ],
   "source": [
    "# Validate the cleaning was successful\n",
    "df_info_copy.isnull().sum()"
   ]
  },
  {
   "cell_type": "code",
   "execution_count": 71,
   "metadata": {},
   "outputs": [],
   "source": [
    "# Change data type of positive_ratio, user_reviews, discount from float64 to int16\n",
    "df_info_copy[['positive_ratio', 'user_reviews', 'discount']] = df_info_copy[['positive_ratio', 'user_reviews', 'discount']].astype('int16')"
   ]
  },
  {
   "cell_type": "code",
   "execution_count": 72,
   "metadata": {},
   "outputs": [
    {
     "name": "stdout",
     "output_type": "stream",
     "text": [
      "<class 'pandas.core.frame.DataFrame'>\n",
      "RangeIndex: 50872 entries, 0 to 50871\n",
      "Data columns (total 7 columns):\n",
      " #   Column          Non-Null Count  Dtype  \n",
      "---  ------          --------------  -----  \n",
      " 0   app_id          50872 non-null  int64  \n",
      " 1   rating          50872 non-null  object \n",
      " 2   positive_ratio  50872 non-null  int16  \n",
      " 3   user_reviews    50872 non-null  int16  \n",
      " 4   price_final     50872 non-null  float64\n",
      " 5   price_original  50872 non-null  float64\n",
      " 6   discount        50872 non-null  int16  \n",
      "dtypes: float64(2), int16(3), int64(1), object(1)\n",
      "memory usage: 1.8+ MB\n"
     ]
    }
   ],
   "source": [
    "# Validate the cleaning was successful\n",
    "df_info_copy.info()"
   ]
  },
  {
   "cell_type": "markdown",
   "metadata": {},
   "source": [
    "##### Justification:\n",
    "- Ở cột rating có kiểu dữ liệu là object nên chọn thay thế missing value bằng giá trị xuất hiện nhiều nhất\n",
    "- Ở các cột positive_ratio, user_reviews, price_final, price_original và discount đều có kiểu dữ liệu số nên chọn thay thế missing value bằng giá trị trung bình\n",
    "- Ở các cột positive_ratio, user_reviews và discount dữ liệu trong dataset đều nằm trong khả năng biểu diễn của kiểu dữ liệu int16 nên đổi từ kiểu float64 sang int16"
   ]
  },
  {
   "cell_type": "markdown",
   "metadata": {},
   "source": [
    "---\n",
    "##### Tên: Trịnh Đàm Huy"
   ]
  },
  {
   "cell_type": "markdown",
   "metadata": {},
   "source": [
    "### Issue 2: \n",
    " - Kiểu dữ liệu của các cột date_release, win, mac, linux, steam_deck chưa đúng.\n",
    " - Còn giá trị null ở 5 cột nêu trên."
   ]
  },
  {
   "cell_type": "code",
   "execution_count": 73,
   "metadata": {},
   "outputs": [],
   "source": [
    "# replace null values in win, mac, linux, steam_deck with most common value\n",
    "df_platforms_copy.fillna({'win': 'true', 'mac': 'false', 'linux': 'false', 'steam_deck': 'true'}, inplace=True)"
   ]
  },
  {
   "cell_type": "code",
   "execution_count": 74,
   "metadata": {},
   "outputs": [],
   "source": [
    "# fix data type of date_release\n",
    "df_platforms_copy['date_release'] = pd.to_datetime(df_platforms_copy['date_release'])\n",
    "# fix data type of win, mac, linux, steam_deck\n",
    "df_platforms_copy[['win', 'mac', 'linux', 'steam_deck']] = df_platforms_copy[['win', 'mac', 'linux', 'steam_deck']].astype('bool')"
   ]
  },
  {
   "cell_type": "code",
   "execution_count": 468,
   "metadata": {},
   "outputs": [],
   "source": [
    "# replace null values in date_release with mean value\n",
    "df_platforms_copy.fillna({'date_release': df_platforms_copy['date_release'].mean()}, inplace=True)"
   ]
  },
  {
   "cell_type": "code",
   "execution_count": 469,
   "metadata": {},
   "outputs": [
    {
     "name": "stdout",
     "output_type": "stream",
     "text": [
      "Thông tin cơ bản của DataFrame:\n",
      "<class 'pandas.core.frame.DataFrame'>\n",
      "RangeIndex: 50872 entries, 0 to 50871\n",
      "Data columns (total 7 columns):\n",
      " #   Column        Non-Null Count  Dtype         \n",
      "---  ------        --------------  -----         \n",
      " 0   app_id        50872 non-null  int64         \n",
      " 1   title         50872 non-null  object        \n",
      " 2   date_release  50872 non-null  datetime64[ns]\n",
      " 3   win           50872 non-null  bool          \n",
      " 4   mac           50872 non-null  bool          \n",
      " 5   linux         50872 non-null  bool          \n",
      " 6   steam_deck    50872 non-null  bool          \n",
      "dtypes: bool(4), datetime64[ns](1), int64(1), object(1)\n",
      "memory usage: 1.4+ MB\n",
      "None\n",
      "\n",
      "Các cột của DataFrame:\n",
      "Index(['app_id', 'title', 'date_release', 'win', 'mac', 'linux', 'steam_deck'], dtype='object')\n",
      "\n",
      "Kích thước của DataFrame (số hàng, số cột):\n",
      "(50872, 7)\n",
      "\n",
      "Thống kê mô tả của DataFrame:\n",
      "              app_id  title                   date_release    win    mac  \\\n",
      "count   5.087200e+04  50872                          50872  50872  50872   \n",
      "unique           NaN  50751                            NaN      2      2   \n",
      "top              NaN   Loop                            NaN   True  False   \n",
      "freq             NaN      4                            NaN  50078  37816   \n",
      "mean    1.055224e+06    NaN  2019-03-13 02:22:50.181474560    NaN    NaN   \n",
      "min     1.000000e+01    NaN            1997-06-30 00:00:00    NaN    NaN   \n",
      "25%     5.287375e+05    NaN            2017-03-21 00:00:00    NaN    NaN   \n",
      "50%     9.860850e+05    NaN            2019-08-23 00:00:00    NaN    NaN   \n",
      "75%     1.524895e+06    NaN            2021-09-21 00:00:00    NaN    NaN   \n",
      "max     2.599300e+06    NaN            2023-10-24 00:00:00    NaN    NaN   \n",
      "std     6.103249e+05    NaN                            NaN    NaN    NaN   \n",
      "\n",
      "        linux steam_deck  \n",
      "count   50872      50872  \n",
      "unique      2          2  \n",
      "top     False       True  \n",
      "freq    41808      50870  \n",
      "mean      NaN        NaN  \n",
      "min       NaN        NaN  \n",
      "25%       NaN        NaN  \n",
      "50%       NaN        NaN  \n",
      "75%       NaN        NaN  \n",
      "max       NaN        NaN  \n",
      "std       NaN        NaN  \n",
      "\n",
      "Số lượng giá trị null trong mỗi cột:\n",
      "app_id          0\n",
      "title           0\n",
      "date_release    0\n",
      "win             0\n",
      "mac             0\n",
      "linux           0\n",
      "steam_deck      0\n",
      "dtype: int64\n",
      "\n",
      "Số lượng giá trị duy nhất trong mỗi cột:\n",
      "app_id          50872\n",
      "title           50751\n",
      "date_release     4293\n",
      "win                 2\n",
      "mac                 2\n",
      "linux               2\n",
      "steam_deck          2\n",
      "dtype: int64\n"
     ]
    }
   ],
   "source": [
    "# validate the cleaning was successful\n",
    "check_dataset_info(df_platforms_copy)"
   ]
  },
  {
   "cell_type": "markdown",
   "metadata": {},
   "source": [
    "##### Justification:\n",
    " - Thay thế các dữ liệu null của các cột có kiểu dữ liệu bool trước khi chuyển kiểu dữ liệu của cột. Bởi vì sau khi thay đổi kiểu dữ liệu, các dữ liệu null sẽ tự động chuyển thành false\n",
    " - Sửa kiểu dữ liệu của date_release thành datetime\n",
    " - Sửa kiểu dữ liệu của các cột win, mac, linux, steam_deck thành bool\n",
    " - Thay thế các date_release bị null thành giá trị mean"
   ]
  },
  {
   "cell_type": "markdown",
   "metadata": {},
   "source": [
    "---\n",
    "##### Tên: Phạm Hoàng Phúc"
   ]
  },
  {
   "cell_type": "markdown",
   "metadata": {},
   "source": [
    "### Issue 3: Dataset game_categories: Cột genres có chứa các giá trị null"
   ]
  },
  {
   "cell_type": "code",
   "execution_count": 75,
   "metadata": {},
   "outputs": [],
   "source": [
    "# replace the null value in genres with 'Other' \n",
    "df_categories_copy.fillna({'genres': 'Other'}, inplace=True)"
   ]
  },
  {
   "cell_type": "code",
   "execution_count": 76,
   "metadata": {},
   "outputs": [
    {
     "name": "stdout",
     "output_type": "stream",
     "text": [
      "<class 'pandas.core.frame.DataFrame'>\n",
      "RangeIndex: 50872 entries, 0 to 50871\n",
      "Data columns (total 4 columns):\n",
      " #   Column          Non-Null Count  Dtype \n",
      "---  ------          --------------  ----- \n",
      " 0   app_id          50872 non-null  int64 \n",
      " 1   genres          50872 non-null  object\n",
      " 2   player_support  50872 non-null  object\n",
      " 3   indie           50872 non-null  bool  \n",
      "dtypes: bool(1), int64(1), object(2)\n",
      "memory usage: 1.2+ MB\n"
     ]
    }
   ],
   "source": [
    "# Validate the cleaning was successful\n",
    "df_categories_copy.info()"
   ]
  },
  {
   "cell_type": "markdown",
   "metadata": {},
   "source": [
    "##### Justification:\n",
    "- Cột genres thể hiện thể loại của các game nên sẽ thay các hàng null bằng 'Ohter'"
   ]
  },
  {
   "cell_type": "markdown",
   "metadata": {},
   "source": [
    "## 4. Merge and Store data"
   ]
  },
  {
   "cell_type": "markdown",
   "metadata": {},
   "source": [
    "---\n",
    "##### Tên: Trịnh Đàm Huy"
   ]
  },
  {
   "cell_type": "markdown",
   "metadata": {},
   "source": [
    "#### Merge dataset game_info and games_platforms"
   ]
  },
  {
   "cell_type": "code",
   "execution_count": 77,
   "metadata": {},
   "outputs": [],
   "source": [
    "# merge dataset games_info and games_platforms on app_id\n",
    "df_merge_1 = pd.merge(df_info_copy, df_platforms_copy, on='app_id')"
   ]
  },
  {
   "cell_type": "markdown",
   "metadata": {},
   "source": [
    "---\n",
    "##### Tên: "
   ]
  },
  {
   "cell_type": "markdown",
   "metadata": {},
   "source": [
    "#### Merge dataset game_info and games_categories"
   ]
  },
  {
   "cell_type": "code",
   "execution_count": 78,
   "metadata": {},
   "outputs": [],
   "source": [
    "# merge dataset games_info and games_categories on app_id\n",
    "df_merge_2 = pd.merge(df_merge_1, df_categories_copy, on='app_id')"
   ]
  },
  {
   "cell_type": "markdown",
   "metadata": {},
   "source": [
    "---\n",
    "##### Tên:"
   ]
  },
  {
   "cell_type": "markdown",
   "metadata": {},
   "source": [
    "#### Saving data"
   ]
  },
  {
   "cell_type": "code",
   "execution_count": 79,
   "metadata": {},
   "outputs": [],
   "source": [
    "# save dataset to csv\n",
    "df_merge_2.to_csv('games.csv', index=False)"
   ]
  },
  {
   "cell_type": "markdown",
   "metadata": {},
   "source": [
    "## 5. Visualizations and Communication"
   ]
  },
  {
   "cell_type": "markdown",
   "metadata": {},
   "source": [
    "---\n",
    "##### Tên: Trịnh Đàm Huy"
   ]
  },
  {
   "cell_type": "markdown",
   "metadata": {},
   "source": [
    "#### Plot 1: "
   ]
  },
  {
   "cell_type": "code",
   "execution_count": 80,
   "metadata": {},
   "outputs": [],
   "source": [
    "# Thống kê các game được đánh giá tích cực với mức giá từ cao đến thấp\n",
    "df_merge_2[df_merge_2['positive_ratio'] > 90].sort_values(by='price_final', ascending=False)"
   ]
  },
  {
   "cell_type": "markdown",
   "metadata": {},
   "source": [
    "#### Justifications:"
   ]
  },
  {
   "cell_type": "markdown",
   "metadata": {},
   "source": [
    "- Liệt kê những nhận xét tại đây"
   ]
  },
  {
   "cell_type": "markdown",
   "metadata": {},
   "source": [
    "#### Plot 2: "
   ]
  },
  {
   "cell_type": "code",
   "execution_count": 81,
   "metadata": {},
   "outputs": [],
   "source": [
    "# create plot here"
   ]
  },
  {
   "cell_type": "markdown",
   "metadata": {},
   "source": [
    "#### Justifications:"
   ]
  },
  {
   "cell_type": "markdown",
   "metadata": {},
   "source": [
    "- Liệt kê những nhận xét tại đây"
   ]
  },
  {
   "cell_type": "markdown",
   "metadata": {},
   "source": [
    "---\n",
    "##### Tên: Phạm Quốc Phú"
   ]
  },
  {
   "cell_type": "markdown",
   "metadata": {},
   "source": [
    "#### Plot 3: Tỷ lệ tích cực theo thể loại game"
   ]
  },
  {
   "cell_type": "code",
   "execution_count": 82,
   "metadata": {},
   "outputs": [
    {
     "data": {
      "text/html": [
       "<div>\n",
       "<style scoped>\n",
       "    .dataframe tbody tr th:only-of-type {\n",
       "        vertical-align: middle;\n",
       "    }\n",
       "\n",
       "    .dataframe tbody tr th {\n",
       "        vertical-align: top;\n",
       "    }\n",
       "\n",
       "    .dataframe thead th {\n",
       "        text-align: right;\n",
       "    }\n",
       "</style>\n",
       "<table border=\"1\" class=\"dataframe\">\n",
       "  <thead>\n",
       "    <tr style=\"text-align: right;\">\n",
       "      <th></th>\n",
       "      <th>genres</th>\n",
       "      <th>positive_ratio</th>\n",
       "    </tr>\n",
       "  </thead>\n",
       "  <tbody>\n",
       "    <tr>\n",
       "      <th>0</th>\n",
       "      <td>Action</td>\n",
       "      <td>76.189158</td>\n",
       "    </tr>\n",
       "    <tr>\n",
       "      <th>1</th>\n",
       "      <td>Adventure</td>\n",
       "      <td>79.202533</td>\n",
       "    </tr>\n",
       "    <tr>\n",
       "      <th>2</th>\n",
       "      <td>Other</td>\n",
       "      <td>80.968874</td>\n",
       "    </tr>\n",
       "    <tr>\n",
       "      <th>3</th>\n",
       "      <td>RPG</td>\n",
       "      <td>76.644141</td>\n",
       "    </tr>\n",
       "    <tr>\n",
       "      <th>4</th>\n",
       "      <td>Simulation</td>\n",
       "      <td>74.029487</td>\n",
       "    </tr>\n",
       "    <tr>\n",
       "      <th>5</th>\n",
       "      <td>Sports</td>\n",
       "      <td>74.491489</td>\n",
       "    </tr>\n",
       "    <tr>\n",
       "      <th>6</th>\n",
       "      <td>Strategy</td>\n",
       "      <td>74.257691</td>\n",
       "    </tr>\n",
       "  </tbody>\n",
       "</table>\n",
       "</div>"
      ],
      "text/plain": [
       "       genres  positive_ratio\n",
       "0      Action       76.189158\n",
       "1   Adventure       79.202533\n",
       "2       Other       80.968874\n",
       "3         RPG       76.644141\n",
       "4  Simulation       74.029487\n",
       "5      Sports       74.491489\n",
       "6    Strategy       74.257691"
      ]
     },
     "execution_count": 82,
     "metadata": {},
     "output_type": "execute_result"
    }
   ],
   "source": [
    "# Count mean of positive_ratio by genres\n",
    "df_genres_positive = df_merge_2.groupby('genres').agg({'positive_ratio': 'mean'}).reset_index()\n",
    "df_genres_positive"
   ]
  },
  {
   "cell_type": "code",
   "execution_count": 83,
   "metadata": {},
   "outputs": [
    {
     "data": {
      "text/plain": [
       "Text(0.5, 1.0, 'Positive Ratio by Genres')"
      ]
     },
     "execution_count": 83,
     "metadata": {},
     "output_type": "execute_result"
    },
    {
     "data": {
      "image/png": "[encoded data removed]",
      "text/plain": [
       "<Figure size 640x480 with 1 Axes>"
      ]
     },
     "metadata": {},
     "output_type": "display_data"
    }
   ],
   "source": [
    "plt.scatter(df_genres_positive['genres'], df_genres_positive['positive_ratio'])\n",
    "plt.xlabel('Genres')\n",
    "plt.ylabel('Positive Ratio')\n",
    "plt.title('Positive Ratio by Genres')"
   ]
  },
  {
   "cell_type": "markdown",
   "metadata": {},
   "source": [
    "#### Justifications:"
   ]
  },
  {
   "cell_type": "markdown",
   "metadata": {},
   "source": [
    "- Thông qua biểu đồ ta có thể thấy, thể loại Orther đang có mức độ tích cực cao nhất với 80.96. Ngay sau đó là thể loại Adventure với độ tích cực là 79.2. Hai thể loại RPG và Action đang có độ tích cực gần ngang nhau lần lượt là 76.6 và 76.18. Ngoài ra, 3 thể loại có mức độ tích cực thấp nhất là Sports, Strategy và Simulation với lần lượt là 74.49, 74.25 và 74.02.\n",
    "- Tuy nhiên, nhìn vào biểu đồ ta cũng thấy được, độ tích cực của các thể loại game rất cao, tất cả đều trên 74. Người dùng có thể suy nghĩ và chọn thể loại game phù hợp với bản thân nhất để có một trải nghiệm chơi game thoải mái và vui vẻ."
   ]
  },
  {
   "cell_type": "markdown",
   "metadata": {},
   "source": [
    "#### Plot 4: Số lượng game phát hành sau năm 2015"
   ]
  },
  {
   "cell_type": "code",
   "execution_count": 84,
   "metadata": {},
   "outputs": [],
   "source": [
    "df_merge_2['date_release'] = pd.to_datetime(df_merge_2['date_release'])"
   ]
  },
  {
   "cell_type": "code",
   "execution_count": 85,
   "metadata": {},
   "outputs": [],
   "source": [
    "# Select data after 2015\n",
    "data = df_merge_2[df_merge_2['date_release'].dt.year > 2015]"
   ]
  },
  {
   "cell_type": "code",
   "execution_count": 86,
   "metadata": {},
   "outputs": [
    {
     "name": "stderr",
     "output_type": "stream",
     "text": [
      "C:\\Users\\ACER\\AppData\\Local\\Temp\\ipykernel_11088\\1627563781.py:2: SettingWithCopyWarning: \n",
      "A value is trying to be set on a copy of a slice from a DataFrame.\n",
      "Try using .loc[row_indexer,col_indexer] = value instead\n",
      "\n",
      "See the caveats in the documentation: https://pandas.pydata.org/pandas-docs/stable/user_guide/indexing.html#returning-a-view-versus-a-copy\n",
      "  data['release_year'] = data['date_release'].dt.year\n"
     ]
    }
   ],
   "source": [
    "# create new column 'release_year'\n",
    "data['release_year'] = data['date_release'].dt.year"
   ]
  },
  {
   "cell_type": "code",
   "execution_count": 87,
   "metadata": {},
   "outputs": [
    {
     "data": {
      "text/html": [
       "<div>\n",
       "<style scoped>\n",
       "    .dataframe tbody tr th:only-of-type {\n",
       "        vertical-align: middle;\n",
       "    }\n",
       "\n",
       "    .dataframe tbody tr th {\n",
       "        vertical-align: top;\n",
       "    }\n",
       "\n",
       "    .dataframe thead th {\n",
       "        text-align: right;\n",
       "    }\n",
       "</style>\n",
       "<table border=\"1\" class=\"dataframe\">\n",
       "  <thead>\n",
       "    <tr style=\"text-align: right;\">\n",
       "      <th></th>\n",
       "      <th>release_year</th>\n",
       "      <th>app_id</th>\n",
       "    </tr>\n",
       "  </thead>\n",
       "  <tbody>\n",
       "    <tr>\n",
       "      <th>0</th>\n",
       "      <td>2016</td>\n",
       "      <td>4207</td>\n",
       "    </tr>\n",
       "    <tr>\n",
       "      <th>1</th>\n",
       "      <td>2017</td>\n",
       "      <td>4989</td>\n",
       "    </tr>\n",
       "    <tr>\n",
       "      <th>2</th>\n",
       "      <td>2018</td>\n",
       "      <td>5460</td>\n",
       "    </tr>\n",
       "    <tr>\n",
       "      <th>3</th>\n",
       "      <td>2019</td>\n",
       "      <td>5057</td>\n",
       "    </tr>\n",
       "    <tr>\n",
       "      <th>4</th>\n",
       "      <td>2020</td>\n",
       "      <td>6134</td>\n",
       "    </tr>\n",
       "    <tr>\n",
       "      <th>5</th>\n",
       "      <td>2021</td>\n",
       "      <td>6771</td>\n",
       "    </tr>\n",
       "    <tr>\n",
       "      <th>6</th>\n",
       "      <td>2022</td>\n",
       "      <td>7263</td>\n",
       "    </tr>\n",
       "    <tr>\n",
       "      <th>7</th>\n",
       "      <td>2023</td>\n",
       "      <td>3424</td>\n",
       "    </tr>\n",
       "  </tbody>\n",
       "</table>\n",
       "</div>"
      ],
      "text/plain": [
       "   release_year  app_id\n",
       "0          2016    4207\n",
       "1          2017    4989\n",
       "2          2018    5460\n",
       "3          2019    5057\n",
       "4          2020    6134\n",
       "5          2021    6771\n",
       "6          2022    7263\n",
       "7          2023    3424"
      ]
     },
     "execution_count": 87,
     "metadata": {},
     "output_type": "execute_result"
    }
   ],
   "source": [
    "# Count number of games released by year\n",
    "df_game_by_year = data.groupby('release_year').agg({'app_id': 'count'}).reset_index()\n",
    "df_game_by_year"
   ]
  },
  {
   "cell_type": "code",
   "execution_count": 88,
   "metadata": {},
   "outputs": [
    {
     "data": {
      "text/plain": [
       "Text(0.5, 1.0, 'Number of games released by year after 2015')"
      ]
     },
     "execution_count": 88,
     "metadata": {},
     "output_type": "execute_result"
    },
    {
     "data": {
      "image/png": "[encoded data removed]",
      "text/plain": [
       "<Figure size 1000x600 with 1 Axes>"
      ]
     },
     "metadata": {},
     "output_type": "display_data"
    }
   ],
   "source": [
    "df_game_by_year.plot(x='release_year', y='app_id', kind='bar', figsize=(10, 6))\n",
    "plt.xlabel('Release Year')\n",
    "plt.grid(axis='y')\n",
    "plt.xticks(rotation=0)\n",
    "plt.ylabel('Number of Games')\n",
    "plt.title('Number of games released by year after 2015')"
   ]
  },
  {
   "cell_type": "markdown",
   "metadata": {},
   "source": [
    "#### Justifications:"
   ]
  },
  {
   "cell_type": "markdown",
   "metadata": {},
   "source": [
    "- Từ biểu đồ ta thấy, vào năm 2022 số lượng game được phát hành nhiều nhất với 7263 tựa game được phát hành. Hai năm có số lượng game phát hành trên 6000 là 2021 và 2020 với số lượng game được phát hành lần lượt là 6771 và 6134. Năm có số lượng game được phát hành thấp nhất đó là năm 2023 với 3424 được phát hành.\n",
    "- Thông qua biểu đồ ta dễ dàng nhận ra ngành công nghiệp game sau năm 2015 đang phát triển cực kì mạnh mẽ, số lượng game được phát hành tăng theo từng năm. Đại dịch COVID 19 khiến cho nhiều người có nhu cầu giải trí tại nhà cũng là một trong những nguyên nhân lớn dẫn đến sự phát triển mạnh mẽ của ngành công nghiệp game"
   ]
  },
  {
   "cell_type": "markdown",
   "metadata": {},
   "source": [
    "---\n",
    "##### Tên: Phạm Hoàng Phúc"
   ]
  },
  {
   "cell_type": "markdown",
   "metadata": {},
   "source": [
    "#### Plot 5: Mức độ phát triển của các tựa game indie kể từ năm 2010"
   ]
  },
  {
   "cell_type": "code",
   "execution_count": 89,
   "metadata": {},
   "outputs": [
    {
     "data": {
      "text/html": [
       "<div>\n",
       "<style scoped>\n",
       "    .dataframe tbody tr th:only-of-type {\n",
       "        vertical-align: middle;\n",
       "    }\n",
       "\n",
       "    .dataframe tbody tr th {\n",
       "        vertical-align: top;\n",
       "    }\n",
       "\n",
       "    .dataframe thead th {\n",
       "        text-align: right;\n",
       "    }\n",
       "</style>\n",
       "<table border=\"1\" class=\"dataframe\">\n",
       "  <thead>\n",
       "    <tr style=\"text-align: right;\">\n",
       "      <th></th>\n",
       "      <th>year</th>\n",
       "      <th>total_games</th>\n",
       "    </tr>\n",
       "  </thead>\n",
       "  <tbody>\n",
       "    <tr>\n",
       "      <th>0</th>\n",
       "      <td>2010</td>\n",
       "      <td>77</td>\n",
       "    </tr>\n",
       "    <tr>\n",
       "      <th>1</th>\n",
       "      <td>2011</td>\n",
       "      <td>120</td>\n",
       "    </tr>\n",
       "    <tr>\n",
       "      <th>2</th>\n",
       "      <td>2012</td>\n",
       "      <td>193</td>\n",
       "    </tr>\n",
       "    <tr>\n",
       "      <th>3</th>\n",
       "      <td>2013</td>\n",
       "      <td>312</td>\n",
       "    </tr>\n",
       "    <tr>\n",
       "      <th>4</th>\n",
       "      <td>2014</td>\n",
       "      <td>993</td>\n",
       "    </tr>\n",
       "    <tr>\n",
       "      <th>5</th>\n",
       "      <td>2015</td>\n",
       "      <td>1842</td>\n",
       "    </tr>\n",
       "    <tr>\n",
       "      <th>6</th>\n",
       "      <td>2016</td>\n",
       "      <td>2717</td>\n",
       "    </tr>\n",
       "    <tr>\n",
       "      <th>7</th>\n",
       "      <td>2017</td>\n",
       "      <td>3293</td>\n",
       "    </tr>\n",
       "    <tr>\n",
       "      <th>8</th>\n",
       "      <td>2018</td>\n",
       "      <td>3825</td>\n",
       "    </tr>\n",
       "    <tr>\n",
       "      <th>9</th>\n",
       "      <td>2019</td>\n",
       "      <td>3351</td>\n",
       "    </tr>\n",
       "    <tr>\n",
       "      <th>10</th>\n",
       "      <td>2020</td>\n",
       "      <td>3562</td>\n",
       "    </tr>\n",
       "    <tr>\n",
       "      <th>11</th>\n",
       "      <td>2021</td>\n",
       "      <td>3136</td>\n",
       "    </tr>\n",
       "    <tr>\n",
       "      <th>12</th>\n",
       "      <td>2022</td>\n",
       "      <td>3194</td>\n",
       "    </tr>\n",
       "  </tbody>\n",
       "</table>\n",
       "</div>"
      ],
      "text/plain": [
       "    year  total_games\n",
       "0   2010           77\n",
       "1   2011          120\n",
       "2   2012          193\n",
       "3   2013          312\n",
       "4   2014          993\n",
       "5   2015         1842\n",
       "6   2016         2717\n",
       "7   2017         3293\n",
       "8   2018         3825\n",
       "9   2019         3351\n",
       "10  2020         3562\n",
       "11  2021         3136\n",
       "12  2022         3194"
      ]
     },
     "execution_count": 89,
     "metadata": {},
     "output_type": "execute_result"
    }
   ],
   "source": [
    "# get app_id, date_release, indie from df_merge_2\n",
    "df_indie = df_merge_2.loc[:, ['app_id', 'date_release', 'indie']]\n",
    "df_indie['date_release'] = pd.to_datetime(df_indie['date_release'])\n",
    "df_indie['year'] = df_indie['date_release'].dt.year\n",
    "df_indie = df_indie[(df_indie['year'] >= 2010) & (df_indie['year'] < 2023)  & (df_indie['indie'] == True)]\n",
    "df_indie = df_indie.drop(['date_release', 'indie'], axis=1)\n",
    "df_indie['year'] = df_indie['year'].astype(int)\n",
    "# sum game with year\n",
    "df_indie = df_indie.groupby('year')['app_id'].count().reset_index(name='total_games')\n",
    "df_indie"
   ]
  },
  {
   "cell_type": "code",
   "execution_count": 90,
   "metadata": {},
   "outputs": [
    {
     "data": {
      "image/png": "[encoded data removed]",
      "text/plain": [
       "<Figure size 1000x600 with 1 Axes>"
      ]
     },
     "metadata": {},
     "output_type": "display_data"
    }
   ],
   "source": [
    "# plot the line chart \n",
    "plt.figure(figsize=(10, 6))\n",
    "plt.plot(df_indie['year'], df_indie['total_games'], marker='o')\n",
    "\n",
    "# set info plot\n",
    "plt.title('Số lượng game Indie qua các năm')\n",
    "plt.xlabel('Năm')\n",
    "plt.ylabel('Tổng số game')\n",
    "\n",
    "# set grid\n",
    "plt.grid(True, which='both', linestyle='--', linewidth=0.5)\n",
    "plt.xticks(df_indie['year'])\n",
    "\n",
    "# set data\n",
    "for i, txt in enumerate(df_indie['total_games']):\n",
    "    plt.annotate(txt, (df_indie['year'][i], df_indie['total_games'][i]), textcoords=\"offset points\", xytext=(0,5), ha='center')\n",
    "\n",
    "plt.show()\n"
   ]
  },
  {
   "cell_type": "markdown",
   "metadata": {},
   "source": [
    "#### Justifications:"
   ]
  },
  {
   "cell_type": "markdown",
   "metadata": {},
   "source": [
    "- Dựa vào biểu đồ trên ta có thể nhận thấy năm 2010 có số lượng game indie thấp nhất với 77 game.\n",
    "- Từ năm 2013 tới năm 2018 thì số lượng game indie tăng trưởng nhanh chóng và đạt đỉnh điểm vào 2018 với 3825 game."
   ]
  },
  {
   "cell_type": "markdown",
   "metadata": {},
   "source": [
    "#### Plot 6: "
   ]
  },
  {
   "cell_type": "code",
   "execution_count": 91,
   "metadata": {},
   "outputs": [],
   "source": [
    "# create plot here"
   ]
  },
  {
   "cell_type": "markdown",
   "metadata": {},
   "source": [
    "#### Justifications:"
   ]
  },
  {
   "cell_type": "markdown",
   "metadata": {},
   "source": [
    "- Liệt kê những nhận xét tại đây"
   ]
  },
  {
   "cell_type": "markdown",
   "metadata": {},
   "source": []
  }
 ],
 "metadata": {
  "kernelspec": {
   "display_name": "Python 3",
   "language": "python",
   "name": "python3"
  },
  "language_info": {
   "codemirror_mode": {
    "name": "ipython",
    "version": 3
   },
   "file_extension": ".py",
   "mimetype": "text/x-python",
   "name": "python",
   "nbconvert_exporter": "python",
   "pygments_lexer": "ipython3",
   "version": "3.12.3"
  }
 },
 "nbformat": 4,
 "nbformat_minor": 2
}
