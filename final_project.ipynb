{
 "cells": [
  {
   "cell_type": "markdown",
   "metadata": {},
   "source": [
    "# Real-world Data Wrangling"
   ]
  },
  {
   "cell_type": "markdown",
   "metadata": {},
   "source": [
    "## Nhóm 3\n",
    "---\n",
    "#### Tên: Trịnh Đàm Huy\n",
    "##### Mã SV: 221ITXXX\n",
    "##### Lớp 21JIT\n",
    "---\n",
    "#### Tên: Phạm Quốc Phú\n",
    "##### Mã SV: 21IT099\n",
    "##### Lớp 21JIT\n",
    "---\n",
    "#### Tên: Phạm Hoàng Phúc\n",
    "##### Mã SV: 21IT640\n",
    "##### Lớp 21JIT"
   ]
  },
  {
   "cell_type": "markdown",
   "metadata": {},
   "source": [
    "---"
   ]
  },
  {
   "cell_type": "markdown",
   "metadata": {},
   "source": [
    "## 0. User-defined functions"
   ]
  },
  {
   "cell_type": "markdown",
   "metadata": {},
   "source": [
    "---\n",
    "##### Tên: Phạm Quốc Phú"
   ]
  },
  {
   "cell_type": "code",
<<<<<<< HEAD
   "execution_count": 74,
=======
   "execution_count": 1,
>>>>>>> 979e4de3e6c9b901480eccb80ce42b0cc0a68dcb
   "metadata": {},
   "outputs": [],
   "source": [
    "def check_dataset_info(df):\n",
    "    print(\"Thông tin cơ bản của DataFrame:\")\n",
    "    print(df.info())\n",
    "\n",
    "    print(\"\\nCác cột của DataFrame:\")\n",
    "    print(df.columns)\n",
    "    \n",
    "    print(\"\\nKích thước của DataFrame (số hàng, số cột):\")\n",
    "    print(df.shape)\n",
    "    \n",
    "    print(\"\\nThống kê mô tả của DataFrame:\")\n",
    "    print(df.describe(include='all'))\n",
    "    \n",
    "    print(\"\\nSố lượng giá trị null trong mỗi cột:\")\n",
    "    print(df.isnull().sum())\n",
    "    \n",
    "    print(\"\\nSố lượng giá trị duy nhất trong mỗi cột:\")\n",
    "    print(df.nunique())"
   ]
  },
  {
   "cell_type": "markdown",
   "metadata": {},
   "source": [
    "## 1. Gather data"
   ]
  },
  {
   "cell_type": "markdown",
   "metadata": {},
   "source": [
    "### **1.1.** Problem Statement"
   ]
  },
  {
   "cell_type": "markdown",
   "metadata": {},
   "source": [
    "This project aims to practice my skills of data wrangling using real-world datasets.\n",
    "\n",
    "Your statements here\n",
    "\n",
    "In this dataset, I would like to answer the following research questions:"
   ]
  },
  {
   "cell_type": "markdown",
   "metadata": {},
   "source": [
    "---\n",
    "##### Tên : XXXX XXXX XXXX\n",
    "\n",
    "Câu hỏi 1:\n",
    "\n",
    "Câu hỏi 2:\n",
    "\n"
   ]
  },
  {
   "cell_type": "markdown",
   "metadata": {},
   "source": [
    "---\n",
    "##### Tên : Phạm Quốc Phú\n",
    "\n",
    "Câu hỏi 3: Tỷ lệ tích cực theo thể loại, thể loại nào đang có tỷ lệ tích cực cao nhất?\n",
    "\n",
    "Câu hỏi 4: Nền tảng nào có game có giá gốc (price_original) cao nhất?\n",
    "\n"
   ]
  },
  {
   "cell_type": "markdown",
   "metadata": {},
   "source": [
    "---\n",
    "##### Tên : Phạm Hoàng Phúc\n",
    "\n",
    "Câu hỏi 5: Mức độ tăng trưởng của các tựa game indie trong 10 năm gần đây như nào?\n",
    "\n",
    "Câu hỏi 6: Trong năm 2022 thể loại game nào được phát triển nhiều nhất\n",
    "\n"
   ]
  },
  {
   "cell_type": "markdown",
   "metadata": {},
   "source": [
    "### **1.2.** Gather at least two datasets using two different data gathering methods"
   ]
  },
  {
   "cell_type": "markdown",
   "metadata": {},
   "source": [
    "---\n",
    "##### Tên: XXXX XXX XXXX"
   ]
  },
  {
   "cell_type": "code",
<<<<<<< HEAD
   "execution_count": 75,
=======
   "execution_count": 2,
>>>>>>> 979e4de3e6c9b901480eccb80ce42b0cc0a68dcb
   "metadata": {},
   "outputs": [],
   "source": [
    "# import libraries\n",
    "import pandas as pd\n",
    "import matplotlib.pyplot as plt"
   ]
  },
  {
   "cell_type": "code",
<<<<<<< HEAD
   "execution_count": 76,
=======
   "execution_count": 3,
>>>>>>> 979e4de3e6c9b901480eccb80ce42b0cc0a68dcb
   "metadata": {},
   "outputs": [
    {
     "data": {
      "text/html": [
       "<div>\n",
       "<style scoped>\n",
       "    .dataframe tbody tr th:only-of-type {\n",
       "        vertical-align: middle;\n",
       "    }\n",
       "\n",
       "    .dataframe tbody tr th {\n",
       "        vertical-align: top;\n",
       "    }\n",
       "\n",
       "    .dataframe thead th {\n",
       "        text-align: right;\n",
       "    }\n",
       "</style>\n",
       "<table border=\"1\" class=\"dataframe\">\n",
       "  <thead>\n",
       "    <tr style=\"text-align: right;\">\n",
       "      <th></th>\n",
       "      <th>app_id</th>\n",
       "      <th>rating</th>\n",
       "      <th>positive_ratio</th>\n",
       "      <th>user_reviews</th>\n",
       "      <th>price_final</th>\n",
       "      <th>price_original</th>\n",
       "      <th>discount</th>\n",
       "    </tr>\n",
       "  </thead>\n",
       "  <tbody>\n",
       "    <tr>\n",
       "      <th>0</th>\n",
       "      <td>13500</td>\n",
       "      <td>Very Positive</td>\n",
       "      <td>84.0</td>\n",
       "      <td>2199.0</td>\n",
       "      <td>9.99</td>\n",
       "      <td>9.99</td>\n",
       "      <td>0.0</td>\n",
       "    </tr>\n",
       "    <tr>\n",
       "      <th>1</th>\n",
       "      <td>22364</td>\n",
       "      <td>Positive</td>\n",
       "      <td>85.0</td>\n",
       "      <td>21.0</td>\n",
       "      <td>2.99</td>\n",
       "      <td>2.99</td>\n",
       "      <td>0.0</td>\n",
       "    </tr>\n",
       "    <tr>\n",
       "      <th>2</th>\n",
       "      <td>113020</td>\n",
       "      <td>Very Positive</td>\n",
       "      <td>92.0</td>\n",
       "      <td>3722.0</td>\n",
       "      <td>14.99</td>\n",
       "      <td>14.99</td>\n",
       "      <td>0.0</td>\n",
       "    </tr>\n",
       "    <tr>\n",
       "      <th>3</th>\n",
       "      <td>226560</td>\n",
       "      <td>Mixed</td>\n",
       "      <td>61.0</td>\n",
       "      <td>873.0</td>\n",
       "      <td>14.99</td>\n",
       "      <td>14.99</td>\n",
       "      <td>0.0</td>\n",
       "    </tr>\n",
       "    <tr>\n",
       "      <th>4</th>\n",
       "      <td>249050</td>\n",
       "      <td>Very Positive</td>\n",
       "      <td>88.0</td>\n",
       "      <td>8784.0</td>\n",
       "      <td>11.99</td>\n",
       "      <td>11.99</td>\n",
       "      <td>0.0</td>\n",
       "    </tr>\n",
       "    <tr>\n",
       "      <th>...</th>\n",
       "      <td>...</td>\n",
       "      <td>...</td>\n",
       "      <td>...</td>\n",
       "      <td>...</td>\n",
       "      <td>...</td>\n",
       "      <td>...</td>\n",
       "      <td>...</td>\n",
       "    </tr>\n",
       "    <tr>\n",
       "      <th>50867</th>\n",
       "      <td>2296380</td>\n",
       "      <td>Very Positive</td>\n",
       "      <td>96.0</td>\n",
       "      <td>101.0</td>\n",
       "      <td>22.00</td>\n",
       "      <td>0.00</td>\n",
       "      <td>0.0</td>\n",
       "    </tr>\n",
       "    <tr>\n",
       "      <th>50868</th>\n",
       "      <td>1272080</td>\n",
       "      <td>Mostly Negative</td>\n",
       "      <td>38.0</td>\n",
       "      <td>29458.0</td>\n",
       "      <td>40.00</td>\n",
       "      <td>0.00</td>\n",
       "      <td>0.0</td>\n",
       "    </tr>\n",
       "    <tr>\n",
       "      <th>50869</th>\n",
       "      <td>1402110</td>\n",
       "      <td>Very Positive</td>\n",
       "      <td>89.0</td>\n",
       "      <td>1128.0</td>\n",
       "      <td>30.00</td>\n",
       "      <td>0.00</td>\n",
       "      <td>0.0</td>\n",
       "    </tr>\n",
       "    <tr>\n",
       "      <th>50870</th>\n",
       "      <td>2272250</td>\n",
       "      <td>Very Positive</td>\n",
       "      <td>95.0</td>\n",
       "      <td>82.0</td>\n",
       "      <td>17.00</td>\n",
       "      <td>0.00</td>\n",
       "      <td>0.0</td>\n",
       "    </tr>\n",
       "    <tr>\n",
       "      <th>50871</th>\n",
       "      <td>2488510</td>\n",
       "      <td>Very Positive</td>\n",
       "      <td>88.0</td>\n",
       "      <td>144.0</td>\n",
       "      <td>4.00</td>\n",
       "      <td>0.00</td>\n",
       "      <td>0.0</td>\n",
       "    </tr>\n",
       "  </tbody>\n",
       "</table>\n",
       "<p>50872 rows × 7 columns</p>\n",
       "</div>"
      ],
      "text/plain": [
       "        app_id           rating  positive_ratio  user_reviews  price_final  \\\n",
       "0        13500    Very Positive            84.0        2199.0         9.99   \n",
       "1        22364         Positive            85.0          21.0         2.99   \n",
       "2       113020    Very Positive            92.0        3722.0        14.99   \n",
       "3       226560            Mixed            61.0         873.0        14.99   \n",
       "4       249050    Very Positive            88.0        8784.0        11.99   \n",
       "...        ...              ...             ...           ...          ...   \n",
       "50867  2296380    Very Positive            96.0         101.0        22.00   \n",
       "50868  1272080  Mostly Negative            38.0       29458.0        40.00   \n",
       "50869  1402110    Very Positive            89.0        1128.0        30.00   \n",
       "50870  2272250    Very Positive            95.0          82.0        17.00   \n",
       "50871  2488510    Very Positive            88.0         144.0         4.00   \n",
       "\n",
       "       price_original  discount  \n",
       "0                9.99       0.0  \n",
       "1                2.99       0.0  \n",
       "2               14.99       0.0  \n",
       "3               14.99       0.0  \n",
       "4               11.99       0.0  \n",
       "...               ...       ...  \n",
       "50867            0.00       0.0  \n",
       "50868            0.00       0.0  \n",
       "50869            0.00       0.0  \n",
       "50870            0.00       0.0  \n",
       "50871            0.00       0.0  \n",
       "\n",
       "[50872 rows x 7 columns]"
      ]
     },
<<<<<<< HEAD
     "execution_count": 76,
=======
     "execution_count": 3,
>>>>>>> 979e4de3e6c9b901480eccb80ce42b0cc0a68dcb
     "metadata": {},
     "output_type": "execute_result"
    }
   ],
   "source": [
    "# read dataset games_info.csv\n",
    "df_info = pd.read_csv('datasets/games_info.csv')\n",
    "df_info\n"
   ]
  },
  {
   "cell_type": "code",
<<<<<<< HEAD
   "execution_count": 77,
=======
   "execution_count": 4,
>>>>>>> 979e4de3e6c9b901480eccb80ce42b0cc0a68dcb
   "metadata": {},
   "outputs": [
    {
     "data": {
      "text/html": [
       "<div>\n",
       "<style scoped>\n",
       "    .dataframe tbody tr th:only-of-type {\n",
       "        vertical-align: middle;\n",
       "    }\n",
       "\n",
       "    .dataframe tbody tr th {\n",
       "        vertical-align: top;\n",
       "    }\n",
       "\n",
       "    .dataframe thead th {\n",
       "        text-align: right;\n",
       "    }\n",
       "</style>\n",
       "<table border=\"1\" class=\"dataframe\">\n",
       "  <thead>\n",
       "    <tr style=\"text-align: right;\">\n",
       "      <th></th>\n",
       "      <th>app_id</th>\n",
       "      <th>title</th>\n",
       "      <th>date_release</th>\n",
       "      <th>win</th>\n",
       "      <th>mac</th>\n",
       "      <th>linux</th>\n",
       "      <th>steam_deck</th>\n",
       "    </tr>\n",
       "  </thead>\n",
       "  <tbody>\n",
       "    <tr>\n",
       "      <th>0</th>\n",
       "      <td>13500</td>\n",
       "      <td>Prince of Persia: Warrior Within™</td>\n",
       "      <td>11/21/2008</td>\n",
       "      <td>True</td>\n",
       "      <td>False</td>\n",
       "      <td>False</td>\n",
       "      <td>True</td>\n",
       "    </tr>\n",
       "    <tr>\n",
       "      <th>1</th>\n",
       "      <td>22364</td>\n",
       "      <td>BRINK: Agents of Change</td>\n",
       "      <td>8/3/2011</td>\n",
       "      <td>True</td>\n",
       "      <td>False</td>\n",
       "      <td>False</td>\n",
       "      <td>True</td>\n",
       "    </tr>\n",
       "    <tr>\n",
       "      <th>2</th>\n",
       "      <td>113020</td>\n",
       "      <td>Monaco: What's Yours Is Mine</td>\n",
       "      <td>4/24/2013</td>\n",
       "      <td>True</td>\n",
       "      <td>True</td>\n",
       "      <td>True</td>\n",
       "      <td>True</td>\n",
       "    </tr>\n",
       "    <tr>\n",
       "      <th>3</th>\n",
       "      <td>226560</td>\n",
       "      <td>Escape Dead Island</td>\n",
       "      <td>11/18/2014</td>\n",
       "      <td>True</td>\n",
       "      <td>False</td>\n",
       "      <td>False</td>\n",
       "      <td>True</td>\n",
       "    </tr>\n",
       "    <tr>\n",
       "      <th>4</th>\n",
       "      <td>249050</td>\n",
       "      <td>Dungeon of the ENDLESS™</td>\n",
       "      <td>10/27/2014</td>\n",
       "      <td>True</td>\n",
       "      <td>True</td>\n",
       "      <td>False</td>\n",
       "      <td>True</td>\n",
       "    </tr>\n",
       "    <tr>\n",
       "      <th>...</th>\n",
       "      <td>...</td>\n",
       "      <td>...</td>\n",
       "      <td>...</td>\n",
       "      <td>...</td>\n",
       "      <td>...</td>\n",
       "      <td>...</td>\n",
       "      <td>...</td>\n",
       "    </tr>\n",
       "    <tr>\n",
       "      <th>50867</th>\n",
       "      <td>2296380</td>\n",
       "      <td>I Expect You To Die 3: Cog in the Machine</td>\n",
       "      <td>9/28/2023</td>\n",
       "      <td>True</td>\n",
       "      <td>False</td>\n",
       "      <td>False</td>\n",
       "      <td>True</td>\n",
       "    </tr>\n",
       "    <tr>\n",
       "      <th>50868</th>\n",
       "      <td>1272080</td>\n",
       "      <td>PAYDAY 3</td>\n",
       "      <td>9/21/2023</td>\n",
       "      <td>True</td>\n",
       "      <td>False</td>\n",
       "      <td>False</td>\n",
       "      <td>True</td>\n",
       "    </tr>\n",
       "    <tr>\n",
       "      <th>50869</th>\n",
       "      <td>1402110</td>\n",
       "      <td>Eternights</td>\n",
       "      <td>9/11/2023</td>\n",
       "      <td>True</td>\n",
       "      <td>False</td>\n",
       "      <td>False</td>\n",
       "      <td>True</td>\n",
       "    </tr>\n",
       "    <tr>\n",
       "      <th>50870</th>\n",
       "      <td>2272250</td>\n",
       "      <td>Forgive Me Father 2</td>\n",
       "      <td>10/19/2023</td>\n",
       "      <td>True</td>\n",
       "      <td>False</td>\n",
       "      <td>False</td>\n",
       "      <td>True</td>\n",
       "    </tr>\n",
       "    <tr>\n",
       "      <th>50871</th>\n",
       "      <td>2488510</td>\n",
       "      <td>FatalZone</td>\n",
       "      <td>10/23/2023</td>\n",
       "      <td>True</td>\n",
       "      <td>False</td>\n",
       "      <td>False</td>\n",
       "      <td>True</td>\n",
       "    </tr>\n",
       "  </tbody>\n",
       "</table>\n",
       "<p>50872 rows × 7 columns</p>\n",
       "</div>"
      ],
      "text/plain": [
       "        app_id                                      title date_release   win  \\\n",
       "0        13500          Prince of Persia: Warrior Within™   11/21/2008  True   \n",
       "1        22364                    BRINK: Agents of Change     8/3/2011  True   \n",
       "2       113020               Monaco: What's Yours Is Mine    4/24/2013  True   \n",
       "3       226560                         Escape Dead Island   11/18/2014  True   \n",
       "4       249050                    Dungeon of the ENDLESS™   10/27/2014  True   \n",
       "...        ...                                        ...          ...   ...   \n",
       "50867  2296380  I Expect You To Die 3: Cog in the Machine    9/28/2023  True   \n",
       "50868  1272080                                   PAYDAY 3    9/21/2023  True   \n",
       "50869  1402110                                 Eternights    9/11/2023  True   \n",
       "50870  2272250                        Forgive Me Father 2   10/19/2023  True   \n",
       "50871  2488510                                  FatalZone   10/23/2023  True   \n",
       "\n",
       "         mac  linux steam_deck  \n",
       "0      False  False       True  \n",
       "1      False  False       True  \n",
       "2       True   True       True  \n",
       "3      False  False       True  \n",
       "4       True  False       True  \n",
       "...      ...    ...        ...  \n",
       "50867  False  False       True  \n",
       "50868  False  False       True  \n",
       "50869  False  False       True  \n",
       "50870  False  False       True  \n",
       "50871  False  False       True  \n",
       "\n",
       "[50872 rows x 7 columns]"
      ]
     },
<<<<<<< HEAD
     "execution_count": 77,
=======
     "execution_count": 4,
>>>>>>> 979e4de3e6c9b901480eccb80ce42b0cc0a68dcb
     "metadata": {},
     "output_type": "execute_result"
    }
   ],
   "source": [
    "# read dataset games_platforms.csv\n",
    "df_platforms = pd.read_csv('datasets/games_platforms.csv')\n",
    "df_platforms"
   ]
  },
  {
   "cell_type": "code",
<<<<<<< HEAD
   "execution_count": 78,
=======
   "execution_count": 5,
>>>>>>> 979e4de3e6c9b901480eccb80ce42b0cc0a68dcb
   "metadata": {},
   "outputs": [
    {
     "data": {
      "text/html": [
       "<div>\n",
       "<style scoped>\n",
       "    .dataframe tbody tr th:only-of-type {\n",
       "        vertical-align: middle;\n",
       "    }\n",
       "\n",
       "    .dataframe tbody tr th {\n",
       "        vertical-align: top;\n",
       "    }\n",
       "\n",
       "    .dataframe thead th {\n",
       "        text-align: right;\n",
       "    }\n",
       "</style>\n",
       "<table border=\"1\" class=\"dataframe\">\n",
       "  <thead>\n",
       "    <tr style=\"text-align: right;\">\n",
       "      <th></th>\n",
       "      <th>app_id</th>\n",
       "      <th>genres</th>\n",
       "      <th>player_support</th>\n",
       "      <th>indie</th>\n",
       "    </tr>\n",
       "  </thead>\n",
       "  <tbody>\n",
       "    <tr>\n",
       "      <th>0</th>\n",
       "      <td>13500</td>\n",
       "      <td>Action</td>\n",
       "      <td>Singleplayer</td>\n",
       "      <td>False</td>\n",
       "    </tr>\n",
       "    <tr>\n",
       "      <th>1</th>\n",
       "      <td>22364</td>\n",
       "      <td>Action</td>\n",
       "      <td>Singleplayer</td>\n",
       "      <td>False</td>\n",
       "    </tr>\n",
       "    <tr>\n",
       "      <th>2</th>\n",
       "      <td>113020</td>\n",
       "      <td>Action</td>\n",
       "      <td>Multiplayer</td>\n",
       "      <td>True</td>\n",
       "    </tr>\n",
       "    <tr>\n",
       "      <th>3</th>\n",
       "      <td>226560</td>\n",
       "      <td>Action</td>\n",
       "      <td>Multiplayer</td>\n",
       "      <td>False</td>\n",
       "    </tr>\n",
       "    <tr>\n",
       "      <th>4</th>\n",
       "      <td>249050</td>\n",
       "      <td>Adventure</td>\n",
       "      <td>Singleplayer</td>\n",
       "      <td>True</td>\n",
       "    </tr>\n",
       "    <tr>\n",
       "      <th>...</th>\n",
       "      <td>...</td>\n",
       "      <td>...</td>\n",
       "      <td>...</td>\n",
       "      <td>...</td>\n",
       "    </tr>\n",
       "    <tr>\n",
       "      <th>50867</th>\n",
       "      <td>2296380</td>\n",
       "      <td>NaN</td>\n",
       "      <td>Singleplayer</td>\n",
       "      <td>False</td>\n",
       "    </tr>\n",
       "    <tr>\n",
       "      <th>50868</th>\n",
       "      <td>1272080</td>\n",
       "      <td>NaN</td>\n",
       "      <td>Singleplayer</td>\n",
       "      <td>False</td>\n",
       "    </tr>\n",
       "    <tr>\n",
       "      <th>50869</th>\n",
       "      <td>1402110</td>\n",
       "      <td>NaN</td>\n",
       "      <td>Singleplayer</td>\n",
       "      <td>False</td>\n",
       "    </tr>\n",
       "    <tr>\n",
       "      <th>50870</th>\n",
       "      <td>2272250</td>\n",
       "      <td>Action</td>\n",
       "      <td>Singleplayer</td>\n",
       "      <td>False</td>\n",
       "    </tr>\n",
       "    <tr>\n",
       "      <th>50871</th>\n",
       "      <td>2488510</td>\n",
       "      <td>NaN</td>\n",
       "      <td>Singleplayer</td>\n",
       "      <td>False</td>\n",
       "    </tr>\n",
       "  </tbody>\n",
       "</table>\n",
       "<p>50872 rows × 4 columns</p>\n",
       "</div>"
      ],
      "text/plain": [
       "        app_id     genres player_support  indie\n",
       "0        13500     Action   Singleplayer  False\n",
       "1        22364     Action   Singleplayer  False\n",
       "2       113020     Action    Multiplayer   True\n",
       "3       226560     Action    Multiplayer  False\n",
       "4       249050  Adventure   Singleplayer   True\n",
       "...        ...        ...            ...    ...\n",
       "50867  2296380        NaN   Singleplayer  False\n",
       "50868  1272080        NaN   Singleplayer  False\n",
       "50869  1402110        NaN   Singleplayer  False\n",
       "50870  2272250     Action   Singleplayer  False\n",
       "50871  2488510        NaN   Singleplayer  False\n",
       "\n",
       "[50872 rows x 4 columns]"
      ]
     },
<<<<<<< HEAD
     "execution_count": 78,
=======
     "execution_count": 5,
>>>>>>> 979e4de3e6c9b901480eccb80ce42b0cc0a68dcb
     "metadata": {},
     "output_type": "execute_result"
    }
   ],
   "source": [
    "# read dataset games_categories.csv\n",
    "df_categories = pd.read_csv('datasets/games_categories.csv')\n",
    "df_categories"
   ]
  },
  {
   "cell_type": "markdown",
   "metadata": {},
   "source": [
    "## 2. Assess data\n"
   ]
  },
  {
   "cell_type": "markdown",
   "metadata": {},
   "source": [
    "I will assess the data both visually and programmatically to identify any data quality(content) issues and tidiness(structual) issues."
   ]
  },
  {
   "cell_type": "markdown",
   "metadata": {},
   "source": [
    "---\n",
    "##### Tên: Phạm Quốc Phú"
   ]
  },
  {
   "cell_type": "markdown",
   "metadata": {},
   "source": [
    "### Issue 1: Datasets games_info - Cột Rating, positive_ratio, user_reviews, price_final, price_original và discount xuất hiện giá trị null, kiểu dữ liệu cột positive_ratio, user_reviews, discount không phù hợp"
   ]
  },
  {
   "cell_type": "code",
<<<<<<< HEAD
   "execution_count": 79,
=======
   "execution_count": 6,
>>>>>>> 979e4de3e6c9b901480eccb80ce42b0cc0a68dcb
   "metadata": {},
   "outputs": [
    {
     "name": "stdout",
     "output_type": "stream",
     "text": [
      "Thông tin cơ bản của DataFrame:\n",
      "<class 'pandas.core.frame.DataFrame'>\n",
      "RangeIndex: 50872 entries, 0 to 50871\n",
      "Data columns (total 7 columns):\n",
      " #   Column          Non-Null Count  Dtype  \n",
      "---  ------          --------------  -----  \n",
      " 0   app_id          50872 non-null  int64  \n",
      " 1   rating          50867 non-null  object \n",
      " 2   positive_ratio  50868 non-null  float64\n",
      " 3   user_reviews    50860 non-null  float64\n",
      " 4   price_final     50831 non-null  float64\n",
      " 5   price_original  50840 non-null  float64\n",
      " 6   discount        50864 non-null  float64\n",
      "dtypes: float64(5), int64(1), object(1)\n",
      "memory usage: 2.7+ MB\n",
      "None\n",
      "\n",
      "Các cột của DataFrame:\n",
      "Index(['app_id', 'rating', 'positive_ratio', 'user_reviews', 'price_final',\n",
      "       'price_original', 'discount'],\n",
      "      dtype='object')\n",
      "\n",
      "Kích thước của DataFrame (số hàng, số cột):\n",
      "(50872, 7)\n",
      "\n",
      "Thống kê mô tả của DataFrame:\n",
      "              app_id    rating  positive_ratio  user_reviews   price_final  \\\n",
      "count   5.087200e+04     50867    50868.000000  5.086000e+04  50831.000000   \n",
      "unique           NaN         9             NaN           NaN           NaN   \n",
      "top              NaN  Positive             NaN           NaN           NaN   \n",
      "freq             NaN     13501             NaN           NaN           NaN   \n",
      "mean    1.055224e+06       NaN       77.051919  1.824388e+03      8.618137   \n",
      "std     6.103249e+05       NaN       18.254088  4.007822e+04     11.516448   \n",
      "min     1.000000e+01       NaN        0.000000  1.000000e+01      0.000000   \n",
      "25%     5.287375e+05       NaN       67.000000  1.900000e+01      0.990000   \n",
      "50%     9.860850e+05       NaN       81.000000  4.900000e+01      4.990000   \n",
      "75%     1.524895e+06       NaN       91.000000  2.060000e+02     10.990000   \n",
      "max     2.599300e+06       NaN      100.000000  7.494460e+06    299.990000   \n",
      "\n",
      "        price_original      discount  \n",
      "count     50840.000000  50864.000000  \n",
      "unique             NaN           NaN  \n",
      "top                NaN           NaN  \n",
      "freq               NaN           NaN  \n",
      "mean          8.722491      5.592108  \n",
      "std          11.502193     18.606985  \n",
      "min           0.000000      0.000000  \n",
      "25%           0.990000      0.000000  \n",
      "50%           4.990000      0.000000  \n",
      "75%          11.990000      0.000000  \n",
      "max         299.990000     90.000000  \n",
      "\n",
      "Số lượng giá trị null trong mỗi cột:\n",
      "app_id             0\n",
      "rating             5\n",
      "positive_ratio     4\n",
      "user_reviews      12\n",
      "price_final       41\n",
      "price_original    32\n",
      "discount           8\n",
      "dtype: int64\n",
      "\n",
      "Số lượng giá trị duy nhất trong mỗi cột:\n",
      "app_id            50872\n",
      "rating                9\n",
      "positive_ratio      100\n",
      "user_reviews       4844\n",
      "price_final         435\n",
      "price_original      183\n",
      "discount             75\n",
      "dtype: int64\n"
     ]
    }
   ],
   "source": [
    "# check info dataset games_info\n",
    "check_dataset_info(df_info)"
   ]
  },
  {
   "cell_type": "markdown",
   "metadata": {},
   "source": [
    "#### Observations:"
   ]
  },
  {
   "cell_type": "markdown",
   "metadata": {},
   "source": [
    "- Đổi kiểu dữ liệu positive_ratio, user_reviews, discount sang kiểu int16\n",
    "- Ở cột rating thay thế giá trị null thành giá trị xuất hiện nhiều nhất\n",
    "- Ở các cột positive_ratio, user_reviews, price_final, price_original và discount thay thế bằng giá trị trung bình"
   ]
  },
  {
   "cell_type": "markdown",
   "metadata": {},
   "source": [
    "---\n",
    "##### Tên : XXX XXXXX XXX"
   ]
  },
  {
   "cell_type": "markdown",
   "metadata": {},
   "source": [
    "### Issue 2: Vấn đề gì đó trong file games_platforms"
   ]
  },
  {
   "cell_type": "code",
<<<<<<< HEAD
   "execution_count": 80,
=======
   "execution_count": 7,
>>>>>>> 979e4de3e6c9b901480eccb80ce42b0cc0a68dcb
   "metadata": {},
   "outputs": [],
   "source": [
    "# check info dataset games_platforms"
   ]
  },
  {
   "cell_type": "markdown",
   "metadata": {},
   "source": [
    "#### Observations:"
   ]
  },
  {
   "cell_type": "markdown",
   "metadata": {},
   "source": [
    "- liệt kê cách giải quyết tại đây"
   ]
  },
  {
   "cell_type": "markdown",
   "metadata": {},
   "source": [
    "---\n",
    "##### Tên: Phạm Hoàng Phúc"
   ]
  },
  {
   "cell_type": "markdown",
   "metadata": {},
   "source": [
    "### Issue 3: Dataset game_categories: Cột genres có chứa các giá trị null"
   ]
  },
  {
   "cell_type": "code",
<<<<<<< HEAD
   "execution_count": 81,
=======
   "execution_count": 8,
>>>>>>> 979e4de3e6c9b901480eccb80ce42b0cc0a68dcb
   "metadata": {},
   "outputs": [
    {
     "data": {
      "text/html": [
       "<div>\n",
       "<style scoped>\n",
       "    .dataframe tbody tr th:only-of-type {\n",
       "        vertical-align: middle;\n",
       "    }\n",
       "\n",
       "    .dataframe tbody tr th {\n",
       "        vertical-align: top;\n",
       "    }\n",
       "\n",
       "    .dataframe thead th {\n",
       "        text-align: right;\n",
       "    }\n",
       "</style>\n",
       "<table border=\"1\" class=\"dataframe\">\n",
       "  <thead>\n",
       "    <tr style=\"text-align: right;\">\n",
       "      <th></th>\n",
       "      <th>app_id</th>\n",
       "      <th>genres</th>\n",
       "      <th>player_support</th>\n",
       "      <th>indie</th>\n",
       "    </tr>\n",
       "  </thead>\n",
       "  <tbody>\n",
       "    <tr>\n",
       "      <th>0</th>\n",
       "      <td>13500</td>\n",
       "      <td>Action</td>\n",
       "      <td>Singleplayer</td>\n",
       "      <td>False</td>\n",
       "    </tr>\n",
       "    <tr>\n",
       "      <th>1</th>\n",
       "      <td>22364</td>\n",
       "      <td>Action</td>\n",
       "      <td>Singleplayer</td>\n",
       "      <td>False</td>\n",
       "    </tr>\n",
       "    <tr>\n",
       "      <th>2</th>\n",
       "      <td>113020</td>\n",
       "      <td>Action</td>\n",
       "      <td>Multiplayer</td>\n",
       "      <td>True</td>\n",
       "    </tr>\n",
       "    <tr>\n",
       "      <th>3</th>\n",
       "      <td>226560</td>\n",
       "      <td>Action</td>\n",
       "      <td>Multiplayer</td>\n",
       "      <td>False</td>\n",
       "    </tr>\n",
       "    <tr>\n",
       "      <th>4</th>\n",
       "      <td>249050</td>\n",
       "      <td>Adventure</td>\n",
       "      <td>Singleplayer</td>\n",
       "      <td>True</td>\n",
       "    </tr>\n",
       "  </tbody>\n",
       "</table>\n",
       "</div>"
      ],
      "text/plain": [
       "   app_id     genres player_support  indie\n",
       "0   13500     Action   Singleplayer  False\n",
       "1   22364     Action   Singleplayer  False\n",
       "2  113020     Action    Multiplayer   True\n",
       "3  226560     Action    Multiplayer  False\n",
       "4  249050  Adventure   Singleplayer   True"
      ]
     },
<<<<<<< HEAD
     "execution_count": 81,
=======
     "execution_count": 8,
>>>>>>> 979e4de3e6c9b901480eccb80ce42b0cc0a68dcb
     "metadata": {},
     "output_type": "execute_result"
    }
   ],
   "source": [
    "# show first 5 rows\n",
    "df_categories.head(5)"
   ]
  },
  {
   "cell_type": "code",
<<<<<<< HEAD
   "execution_count": 82,
=======
   "execution_count": 9,
>>>>>>> 979e4de3e6c9b901480eccb80ce42b0cc0a68dcb
   "metadata": {},
   "outputs": [
    {
     "name": "stdout",
     "output_type": "stream",
     "text": [
      "Thông tin cơ bản của DataFrame:\n",
      "<class 'pandas.core.frame.DataFrame'>\n",
      "RangeIndex: 50872 entries, 0 to 50871\n",
      "Data columns (total 4 columns):\n",
      " #   Column          Non-Null Count  Dtype \n",
      "---  ------          --------------  ----- \n",
      " 0   app_id          50872 non-null  int64 \n",
      " 1   genres          44575 non-null  object\n",
      " 2   player_support  50872 non-null  object\n",
      " 3   indie           50872 non-null  bool  \n",
      "dtypes: bool(1), int64(1), object(2)\n",
      "memory usage: 1.2+ MB\n",
      "None\n",
      "\n",
      "Các cột của DataFrame:\n",
      "Index(['app_id', 'genres', 'player_support', 'indie'], dtype='object')\n",
      "\n",
      "Kích thước của DataFrame (số hàng, số cột):\n",
      "(50872, 4)\n",
      "\n",
      "Thống kê mô tả của DataFrame:\n",
      "              app_id  genres player_support  indie\n",
      "count   5.087200e+04   44575          50872  50872\n",
      "unique           NaN       6              2      2\n",
      "top              NaN  Action   Singleplayer   True\n",
      "freq             NaN   21897          44297  27957\n",
      "mean    1.055224e+06     NaN            NaN    NaN\n",
      "std     6.103249e+05     NaN            NaN    NaN\n",
      "min     1.000000e+01     NaN            NaN    NaN\n",
      "25%     5.287375e+05     NaN            NaN    NaN\n",
      "50%     9.860850e+05     NaN            NaN    NaN\n",
      "75%     1.524895e+06     NaN            NaN    NaN\n",
      "max     2.599300e+06     NaN            NaN    NaN\n",
      "\n",
      "Số lượng giá trị null trong mỗi cột:\n",
      "app_id               0\n",
      "genres            6297\n",
      "player_support       0\n",
      "indie                0\n",
      "dtype: int64\n",
      "\n",
      "Số lượng giá trị duy nhất trong mỗi cột:\n",
      "app_id            50872\n",
      "genres                6\n",
      "player_support        2\n",
      "indie                 2\n",
      "dtype: int64\n"
     ]
    }
   ],
   "source": [
    "# check info dataset games_categories\n",
    "check_dataset_info(df_categories)"
   ]
  },
  {
   "cell_type": "markdown",
   "metadata": {},
   "source": [
    "#### Observations:"
   ]
  },
  {
   "cell_type": "markdown",
   "metadata": {},
   "source": [
    "- Thay đổi các giá trị null trong cột genres thành 'Other'"
   ]
  },
  {
   "cell_type": "markdown",
   "metadata": {},
   "source": [
    "## 3. Clean data"
   ]
  },
  {
   "cell_type": "markdown",
   "metadata": {},
   "source": [
    "Clean the data to solve the 4 issues corresponding to data quality and tidiness found in the assessing step.\n",
    "\n",
    "Make copies of the datasets"
   ]
  },
  {
   "cell_type": "code",
<<<<<<< HEAD
   "execution_count": 83,
=======
   "execution_count": 10,
>>>>>>> 979e4de3e6c9b901480eccb80ce42b0cc0a68dcb
   "metadata": {},
   "outputs": [],
   "source": [
    "# make copy of dataset games_info\n",
    "df_info_copy = df_info.copy()"
   ]
  },
  {
   "cell_type": "code",
<<<<<<< HEAD
   "execution_count": 84,
=======
   "execution_count": 11,
>>>>>>> 979e4de3e6c9b901480eccb80ce42b0cc0a68dcb
   "metadata": {},
   "outputs": [],
   "source": [
    "# make copy of dataset games_platforms\n",
    "df_platforms_copy = df_platforms.copy()"
   ]
  },
  {
   "cell_type": "code",
<<<<<<< HEAD
   "execution_count": 85,
=======
   "execution_count": 12,
>>>>>>> 979e4de3e6c9b901480eccb80ce42b0cc0a68dcb
   "metadata": {},
   "outputs": [],
   "source": [
    "# make copy of dataset games_categories\n",
    "df_categories_copy = df_categories.copy()"
   ]
  },
  {
   "cell_type": "markdown",
   "metadata": {},
   "source": [
    "---\n",
    "##### Tên: Phạm Quốc Phú"
   ]
  },
  {
   "cell_type": "markdown",
   "metadata": {},
   "source": [
    "### Issue 1: Datasets games_info - Cột Rating, positive_ratio, user_reviews, price_final, price_original và discount xuất hiện giá trị null, kiểu dữ liệu cột positive_ratio, user_reviews, discount không phù hợp"
   ]
  },
  {
   "cell_type": "code",
<<<<<<< HEAD
   "execution_count": 86,
=======
   "execution_count": 13,
>>>>>>> 979e4de3e6c9b901480eccb80ce42b0cc0a68dcb
   "metadata": {},
   "outputs": [
    {
     "name": "stderr",
     "output_type": "stream",
     "text": [
<<<<<<< HEAD
      "C:\\Users\\ACER\\AppData\\Local\\Temp\\ipykernel_8968\\2743130675.py:2: FutureWarning: A value is trying to be set on a copy of a DataFrame or Series through chained assignment using an inplace method.\n",
=======
      "C:\\Users\\acer\\AppData\\Local\\Temp\\ipykernel_19876\\406404285.py:2: FutureWarning: A value is trying to be set on a copy of a DataFrame or Series through chained assignment using an inplace method.\n",
>>>>>>> 979e4de3e6c9b901480eccb80ce42b0cc0a68dcb
      "The behavior will change in pandas 3.0. This inplace method will never work because the intermediate object on which we are setting values always behaves as a copy.\n",
      "\n",
      "For example, when doing 'df[col].method(value, inplace=True)', try using 'df.method({col: value}, inplace=True)' or df[col] = df[col].method(value) instead, to perform the operation inplace on the original object.\n",
      "\n",
      "\n",
      "  df_info_copy['rating'].fillna(df_info_copy['rating'].mode()[0], inplace=True)\n"
     ]
    }
   ],
   "source": [
    "# In the rating column, replace the null value with the value that appears most often\n",
    "df_info_copy['rating'].fillna(df_info_copy['rating'].mode()[0], inplace=True)"
   ]
  },
  {
   "cell_type": "code",
<<<<<<< HEAD
   "execution_count": 87,
=======
   "execution_count": 14,
>>>>>>> 979e4de3e6c9b901480eccb80ce42b0cc0a68dcb
   "metadata": {},
   "outputs": [
    {
     "data": {
      "text/plain": [
       "app_id             0\n",
       "rating             0\n",
       "positive_ratio     4\n",
       "user_reviews      12\n",
       "price_final       41\n",
       "price_original    32\n",
       "discount           8\n",
       "dtype: int64"
      ]
     },
<<<<<<< HEAD
     "execution_count": 87,
=======
     "execution_count": 14,
>>>>>>> 979e4de3e6c9b901480eccb80ce42b0cc0a68dcb
     "metadata": {},
     "output_type": "execute_result"
    }
   ],
   "source": [
    "# Validate the cleaning was successful\n",
    "df_info_copy.isnull().sum()"
   ]
  },
  {
   "cell_type": "code",
<<<<<<< HEAD
   "execution_count": 88,
=======
   "execution_count": 15,
>>>>>>> 979e4de3e6c9b901480eccb80ce42b0cc0a68dcb
   "metadata": {},
   "outputs": [],
   "source": [
    "# In positive_ratio, user_reviews, price_final, price_original and discount, replace null value with mean value\n",
    "columns_to_fill = ['positive_ratio', 'user_reviews', 'price_final', 'price_original', 'discount']\n",
    "df_info_copy[columns_to_fill] = df_info_copy[columns_to_fill].fillna(df_info_copy[columns_to_fill].mean())"
   ]
  },
  {
   "cell_type": "code",
<<<<<<< HEAD
   "execution_count": 89,
=======
   "execution_count": 16,
>>>>>>> 979e4de3e6c9b901480eccb80ce42b0cc0a68dcb
   "metadata": {},
   "outputs": [
    {
     "data": {
      "text/plain": [
       "app_id            0\n",
       "rating            0\n",
       "positive_ratio    0\n",
       "user_reviews      0\n",
       "price_final       0\n",
       "price_original    0\n",
       "discount          0\n",
       "dtype: int64"
      ]
     },
<<<<<<< HEAD
     "execution_count": 89,
=======
     "execution_count": 16,
>>>>>>> 979e4de3e6c9b901480eccb80ce42b0cc0a68dcb
     "metadata": {},
     "output_type": "execute_result"
    }
   ],
   "source": [
    "df_info_copy.isnull().sum()"
   ]
  },
  {
   "cell_type": "code",
<<<<<<< HEAD
   "execution_count": 90,
=======
   "execution_count": 17,
>>>>>>> 979e4de3e6c9b901480eccb80ce42b0cc0a68dcb
   "metadata": {},
   "outputs": [],
   "source": [
    "# Change data type of positive_ratio, user_reviews, discount from float64 to int16\n",
    "df_info_copy[['positive_ratio', 'user_reviews', 'discount']] = df_info_copy[['positive_ratio', 'user_reviews', 'discount']].astype('int16')"
   ]
  },
  {
   "cell_type": "code",
<<<<<<< HEAD
   "execution_count": 91,
=======
   "execution_count": 18,
>>>>>>> 979e4de3e6c9b901480eccb80ce42b0cc0a68dcb
   "metadata": {},
   "outputs": [
    {
     "name": "stdout",
     "output_type": "stream",
     "text": [
      "<class 'pandas.core.frame.DataFrame'>\n",
      "RangeIndex: 50872 entries, 0 to 50871\n",
      "Data columns (total 7 columns):\n",
      " #   Column          Non-Null Count  Dtype  \n",
      "---  ------          --------------  -----  \n",
      " 0   app_id          50872 non-null  int64  \n",
      " 1   rating          50872 non-null  object \n",
      " 2   positive_ratio  50872 non-null  int16  \n",
      " 3   user_reviews    50872 non-null  int16  \n",
      " 4   price_final     50872 non-null  float64\n",
      " 5   price_original  50872 non-null  float64\n",
      " 6   discount        50872 non-null  int16  \n",
      "dtypes: float64(2), int16(3), int64(1), object(1)\n",
      "memory usage: 1.8+ MB\n"
     ]
    }
   ],
   "source": [
    "df_info_copy.info()"
   ]
  },
  {
   "cell_type": "markdown",
   "metadata": {},
   "source": [
    "##### Justification:\n",
    "- Ở cột rating có kiểu dữ liệu là object nên chọn thay thế missing value bằng giá trị xuất hiện nhiều nhất\n",
    "- Ở các cột positive_ratio, user_reviews, price_final, price_original và discount đều có kiểu dữ liệu số nên chọn thay thế missing value bằng giá trị trung bình\n",
    "- Ở các cột positive_ratio, user_reviews và discount dữ liệu trong dataset đều nằm trong khả năng biểu diễn của kiểu dữ liệu int16 nên đổi từ kiểu float64 sang int16"
   ]
  },
  {
   "cell_type": "markdown",
   "metadata": {},
   "source": [
    "---\n",
    "##### Tên: "
   ]
  },
  {
   "cell_type": "markdown",
   "metadata": {},
   "source": [
    "### Issue 2: Vấn đề gì đó trong file games_platforms"
   ]
  },
  {
   "cell_type": "code",
<<<<<<< HEAD
   "execution_count": 92,
=======
   "execution_count": 19,
>>>>>>> 979e4de3e6c9b901480eccb80ce42b0cc0a68dcb
   "metadata": {},
   "outputs": [],
   "source": [
    "# Apply the cleaning strategys"
   ]
  },
  {
   "cell_type": "code",
<<<<<<< HEAD
   "execution_count": 93,
=======
   "execution_count": 20,
>>>>>>> 979e4de3e6c9b901480eccb80ce42b0cc0a68dcb
   "metadata": {},
   "outputs": [],
   "source": [
    "# Validate the cleaning was successful"
   ]
  },
  {
   "cell_type": "markdown",
   "metadata": {},
   "source": [
    "##### Justification:\n"
   ]
  },
  {
   "cell_type": "markdown",
   "metadata": {},
   "source": [
    "---\n",
    "##### Tên: Phạm Hoàng Phúc"
   ]
  },
  {
   "cell_type": "markdown",
   "metadata": {},
   "source": [
    "### Issue 3: Dataset game_categories: Cột genres có chứa các giá trị null"
   ]
  },
  {
   "cell_type": "code",
<<<<<<< HEAD
   "execution_count": 94,
=======
   "execution_count": 21,
>>>>>>> 979e4de3e6c9b901480eccb80ce42b0cc0a68dcb
   "metadata": {},
   "outputs": [],
   "source": [
    "# replace the null value in genres with 'Other' \n",
    "df_categories_copy.fillna({'genres': 'Other'}, inplace=True)"
   ]
  },
  {
   "cell_type": "code",
<<<<<<< HEAD
   "execution_count": 95,
=======
   "execution_count": 22,
>>>>>>> 979e4de3e6c9b901480eccb80ce42b0cc0a68dcb
   "metadata": {},
   "outputs": [
    {
     "name": "stdout",
     "output_type": "stream",
     "text": [
      "<class 'pandas.core.frame.DataFrame'>\n",
      "RangeIndex: 50872 entries, 0 to 50871\n",
      "Data columns (total 4 columns):\n",
      " #   Column          Non-Null Count  Dtype \n",
      "---  ------          --------------  ----- \n",
      " 0   app_id          50872 non-null  int64 \n",
      " 1   genres          50872 non-null  object\n",
      " 2   player_support  50872 non-null  object\n",
      " 3   indie           50872 non-null  bool  \n",
      "dtypes: bool(1), int64(1), object(2)\n",
      "memory usage: 1.2+ MB\n"
     ]
    }
   ],
   "source": [
    "# Validate the cleaning was successful\n",
    "df_categories_copy.info()"
   ]
  },
  {
   "cell_type": "markdown",
   "metadata": {},
   "source": [
    "##### Justification:\n",
    "- Cột genres thể hiện thể loại của các game nên sẽ thay các hàng null bằng 'Ohter'"
   ]
  },
  {
   "cell_type": "markdown",
   "metadata": {},
   "source": [
    "## 4. Merge and Store data"
   ]
  },
  {
   "cell_type": "markdown",
   "metadata": {},
   "source": [
    "---\n",
    "##### Tên:"
   ]
  },
  {
   "cell_type": "markdown",
   "metadata": {},
   "source": [
    "#### Merge dataset game_info and games_platforms"
   ]
  },
  {
   "cell_type": "code",
<<<<<<< HEAD
   "execution_count": 96,
=======
   "execution_count": 23,
>>>>>>> 979e4de3e6c9b901480eccb80ce42b0cc0a68dcb
   "metadata": {},
   "outputs": [],
   "source": [
    "# merge dataset games_info and games_platforms on app_id\n",
    "df_merge_1 = pd.merge(df_info_copy, df_platforms_copy, on='app_id')"
   ]
  },
  {
   "cell_type": "markdown",
   "metadata": {},
   "source": [
    "---\n",
    "##### Tên: "
   ]
  },
  {
   "cell_type": "markdown",
   "metadata": {},
   "source": [
    "#### Merge dataset game_info and games_categories"
   ]
  },
  {
   "cell_type": "code",
<<<<<<< HEAD
   "execution_count": 97,
=======
   "execution_count": 24,
>>>>>>> 979e4de3e6c9b901480eccb80ce42b0cc0a68dcb
   "metadata": {},
   "outputs": [
    {
     "data": {
      "text/html": [
       "<div>\n",
       "<style scoped>\n",
       "    .dataframe tbody tr th:only-of-type {\n",
       "        vertical-align: middle;\n",
       "    }\n",
       "\n",
       "    .dataframe tbody tr th {\n",
       "        vertical-align: top;\n",
       "    }\n",
       "\n",
       "    .dataframe thead th {\n",
       "        text-align: right;\n",
       "    }\n",
       "</style>\n",
       "<table border=\"1\" class=\"dataframe\">\n",
       "  <thead>\n",
       "    <tr style=\"text-align: right;\">\n",
       "      <th></th>\n",
       "      <th>app_id</th>\n",
       "      <th>rating</th>\n",
       "      <th>positive_ratio</th>\n",
       "      <th>user_reviews</th>\n",
       "      <th>price_final</th>\n",
       "      <th>price_original</th>\n",
       "      <th>discount</th>\n",
       "      <th>title</th>\n",
       "      <th>date_release</th>\n",
       "      <th>win</th>\n",
       "      <th>mac</th>\n",
       "      <th>linux</th>\n",
       "      <th>steam_deck</th>\n",
       "      <th>genres</th>\n",
       "      <th>player_support</th>\n",
       "      <th>indie</th>\n",
       "    </tr>\n",
       "  </thead>\n",
       "  <tbody>\n",
       "    <tr>\n",
       "      <th>0</th>\n",
       "      <td>13500</td>\n",
       "      <td>Very Positive</td>\n",
       "      <td>84</td>\n",
       "      <td>2199</td>\n",
       "      <td>9.99</td>\n",
       "      <td>9.99</td>\n",
       "      <td>0</td>\n",
       "      <td>Prince of Persia: Warrior Within™</td>\n",
       "      <td>11/21/2008</td>\n",
       "      <td>True</td>\n",
       "      <td>False</td>\n",
       "      <td>False</td>\n",
       "      <td>True</td>\n",
       "      <td>Action</td>\n",
       "      <td>Singleplayer</td>\n",
       "      <td>False</td>\n",
       "    </tr>\n",
       "    <tr>\n",
       "      <th>1</th>\n",
       "      <td>22364</td>\n",
       "      <td>Positive</td>\n",
       "      <td>85</td>\n",
       "      <td>21</td>\n",
       "      <td>2.99</td>\n",
       "      <td>2.99</td>\n",
       "      <td>0</td>\n",
       "      <td>BRINK: Agents of Change</td>\n",
       "      <td>8/3/2011</td>\n",
       "      <td>True</td>\n",
       "      <td>False</td>\n",
       "      <td>False</td>\n",
       "      <td>True</td>\n",
       "      <td>Action</td>\n",
       "      <td>Singleplayer</td>\n",
       "      <td>False</td>\n",
       "    </tr>\n",
       "    <tr>\n",
       "      <th>2</th>\n",
       "      <td>113020</td>\n",
       "      <td>Very Positive</td>\n",
       "      <td>92</td>\n",
       "      <td>3722</td>\n",
       "      <td>14.99</td>\n",
       "      <td>14.99</td>\n",
       "      <td>0</td>\n",
       "      <td>Monaco: What's Yours Is Mine</td>\n",
       "      <td>4/24/2013</td>\n",
       "      <td>True</td>\n",
       "      <td>True</td>\n",
       "      <td>True</td>\n",
       "      <td>True</td>\n",
       "      <td>Action</td>\n",
       "      <td>Multiplayer</td>\n",
       "      <td>True</td>\n",
       "    </tr>\n",
       "    <tr>\n",
       "      <th>3</th>\n",
       "      <td>226560</td>\n",
       "      <td>Mixed</td>\n",
       "      <td>61</td>\n",
       "      <td>873</td>\n",
       "      <td>14.99</td>\n",
       "      <td>14.99</td>\n",
       "      <td>0</td>\n",
       "      <td>Escape Dead Island</td>\n",
       "      <td>11/18/2014</td>\n",
       "      <td>True</td>\n",
       "      <td>False</td>\n",
       "      <td>False</td>\n",
       "      <td>True</td>\n",
       "      <td>Action</td>\n",
       "      <td>Multiplayer</td>\n",
       "      <td>False</td>\n",
       "    </tr>\n",
       "    <tr>\n",
       "      <th>4</th>\n",
       "      <td>249050</td>\n",
       "      <td>Very Positive</td>\n",
       "      <td>88</td>\n",
       "      <td>8784</td>\n",
       "      <td>11.99</td>\n",
       "      <td>11.99</td>\n",
       "      <td>0</td>\n",
       "      <td>Dungeon of the ENDLESS™</td>\n",
       "      <td>10/27/2014</td>\n",
       "      <td>True</td>\n",
       "      <td>True</td>\n",
       "      <td>False</td>\n",
       "      <td>True</td>\n",
       "      <td>Adventure</td>\n",
       "      <td>Singleplayer</td>\n",
       "      <td>True</td>\n",
       "    </tr>\n",
       "    <tr>\n",
       "      <th>...</th>\n",
       "      <td>...</td>\n",
       "      <td>...</td>\n",
       "      <td>...</td>\n",
       "      <td>...</td>\n",
       "      <td>...</td>\n",
       "      <td>...</td>\n",
       "      <td>...</td>\n",
       "      <td>...</td>\n",
       "      <td>...</td>\n",
       "      <td>...</td>\n",
       "      <td>...</td>\n",
       "      <td>...</td>\n",
       "      <td>...</td>\n",
       "      <td>...</td>\n",
       "      <td>...</td>\n",
       "      <td>...</td>\n",
       "    </tr>\n",
       "    <tr>\n",
       "      <th>50867</th>\n",
       "      <td>2296380</td>\n",
       "      <td>Very Positive</td>\n",
       "      <td>96</td>\n",
       "      <td>101</td>\n",
       "      <td>22.00</td>\n",
       "      <td>0.00</td>\n",
       "      <td>0</td>\n",
       "      <td>I Expect You To Die 3: Cog in the Machine</td>\n",
       "      <td>9/28/2023</td>\n",
       "      <td>True</td>\n",
       "      <td>False</td>\n",
       "      <td>False</td>\n",
       "      <td>True</td>\n",
       "      <td>NaN</td>\n",
       "      <td>Singleplayer</td>\n",
       "      <td>False</td>\n",
       "    </tr>\n",
       "    <tr>\n",
       "      <th>50868</th>\n",
       "      <td>1272080</td>\n",
       "      <td>Mostly Negative</td>\n",
       "      <td>38</td>\n",
       "      <td>29458</td>\n",
       "      <td>40.00</td>\n",
       "      <td>0.00</td>\n",
       "      <td>0</td>\n",
       "      <td>PAYDAY 3</td>\n",
       "      <td>9/21/2023</td>\n",
       "      <td>True</td>\n",
       "      <td>False</td>\n",
       "      <td>False</td>\n",
       "      <td>True</td>\n",
       "      <td>NaN</td>\n",
       "      <td>Singleplayer</td>\n",
       "      <td>False</td>\n",
       "    </tr>\n",
       "    <tr>\n",
       "      <th>50869</th>\n",
       "      <td>1402110</td>\n",
       "      <td>Very Positive</td>\n",
       "      <td>89</td>\n",
       "      <td>1128</td>\n",
       "      <td>30.00</td>\n",
       "      <td>0.00</td>\n",
       "      <td>0</td>\n",
       "      <td>Eternights</td>\n",
       "      <td>9/11/2023</td>\n",
       "      <td>True</td>\n",
       "      <td>False</td>\n",
       "      <td>False</td>\n",
       "      <td>True</td>\n",
       "      <td>NaN</td>\n",
       "      <td>Singleplayer</td>\n",
       "      <td>False</td>\n",
       "    </tr>\n",
       "    <tr>\n",
       "      <th>50870</th>\n",
       "      <td>2272250</td>\n",
       "      <td>Very Positive</td>\n",
       "      <td>95</td>\n",
       "      <td>82</td>\n",
       "      <td>17.00</td>\n",
       "      <td>0.00</td>\n",
       "      <td>0</td>\n",
       "      <td>Forgive Me Father 2</td>\n",
       "      <td>10/19/2023</td>\n",
       "      <td>True</td>\n",
       "      <td>False</td>\n",
       "      <td>False</td>\n",
       "      <td>True</td>\n",
       "      <td>Action</td>\n",
       "      <td>Singleplayer</td>\n",
       "      <td>False</td>\n",
       "    </tr>\n",
       "    <tr>\n",
       "      <th>50871</th>\n",
       "      <td>2488510</td>\n",
       "      <td>Very Positive</td>\n",
       "      <td>88</td>\n",
       "      <td>144</td>\n",
       "      <td>4.00</td>\n",
       "      <td>0.00</td>\n",
       "      <td>0</td>\n",
       "      <td>FatalZone</td>\n",
       "      <td>10/23/2023</td>\n",
       "      <td>True</td>\n",
       "      <td>False</td>\n",
       "      <td>False</td>\n",
       "      <td>True</td>\n",
       "      <td>NaN</td>\n",
       "      <td>Singleplayer</td>\n",
       "      <td>False</td>\n",
       "    </tr>\n",
       "  </tbody>\n",
       "</table>\n",
       "<p>50872 rows × 16 columns</p>\n",
       "</div>"
      ],
      "text/plain": [
       "        app_id           rating  positive_ratio  user_reviews  price_final  \\\n",
       "0        13500    Very Positive              84          2199         9.99   \n",
       "1        22364         Positive              85            21         2.99   \n",
       "2       113020    Very Positive              92          3722        14.99   \n",
       "3       226560            Mixed              61           873        14.99   \n",
       "4       249050    Very Positive              88          8784        11.99   \n",
       "...        ...              ...             ...           ...          ...   \n",
       "50867  2296380    Very Positive              96           101        22.00   \n",
       "50868  1272080  Mostly Negative              38         29458        40.00   \n",
       "50869  1402110    Very Positive              89          1128        30.00   \n",
       "50870  2272250    Very Positive              95            82        17.00   \n",
       "50871  2488510    Very Positive              88           144         4.00   \n",
       "\n",
       "       price_original  discount                                      title  \\\n",
       "0                9.99         0          Prince of Persia: Warrior Within™   \n",
       "1                2.99         0                    BRINK: Agents of Change   \n",
       "2               14.99         0               Monaco: What's Yours Is Mine   \n",
       "3               14.99         0                         Escape Dead Island   \n",
       "4               11.99         0                    Dungeon of the ENDLESS™   \n",
       "...               ...       ...                                        ...   \n",
       "50867            0.00         0  I Expect You To Die 3: Cog in the Machine   \n",
       "50868            0.00         0                                   PAYDAY 3   \n",
       "50869            0.00         0                                 Eternights   \n",
       "50870            0.00         0                        Forgive Me Father 2   \n",
       "50871            0.00         0                                  FatalZone   \n",
       "\n",
       "      date_release   win    mac  linux steam_deck     genres player_support  \\\n",
       "0       11/21/2008  True  False  False       True     Action   Singleplayer   \n",
       "1         8/3/2011  True  False  False       True     Action   Singleplayer   \n",
       "2        4/24/2013  True   True   True       True     Action    Multiplayer   \n",
       "3       11/18/2014  True  False  False       True     Action    Multiplayer   \n",
       "4       10/27/2014  True   True  False       True  Adventure   Singleplayer   \n",
       "...            ...   ...    ...    ...        ...        ...            ...   \n",
       "50867    9/28/2023  True  False  False       True        NaN   Singleplayer   \n",
       "50868    9/21/2023  True  False  False       True        NaN   Singleplayer   \n",
       "50869    9/11/2023  True  False  False       True        NaN   Singleplayer   \n",
       "50870   10/19/2023  True  False  False       True     Action   Singleplayer   \n",
       "50871   10/23/2023  True  False  False       True        NaN   Singleplayer   \n",
       "\n",
       "       indie  \n",
       "0      False  \n",
       "1      False  \n",
       "2       True  \n",
       "3      False  \n",
       "4       True  \n",
       "...      ...  \n",
       "50867  False  \n",
       "50868  False  \n",
       "50869  False  \n",
       "50870  False  \n",
       "50871  False  \n",
       "\n",
       "[50872 rows x 16 columns]"
      ]
     },
     "execution_count": 97,
     "metadata": {},
     "output_type": "execute_result"
    }
   ],
   "source": [
    "# merge dataset games_info and games_categories on app_id\n",
<<<<<<< HEAD
    "df_merge_2 = pd.merge(df_merge_1, df_categories, on='app_id')\n",
    "df_merge_2"
=======
    "df_merge_2 = pd.merge(df_merge_1, df_categories_copy, on='app_id')"
>>>>>>> 979e4de3e6c9b901480eccb80ce42b0cc0a68dcb
   ]
  },
  {
   "cell_type": "markdown",
   "metadata": {},
   "source": [
    "---\n",
    "##### Tên:"
   ]
  },
  {
   "cell_type": "markdown",
   "metadata": {},
   "source": [
    "#### Saving data"
   ]
  },
  {
   "cell_type": "code",
<<<<<<< HEAD
   "execution_count": 98,
=======
   "execution_count": 25,
>>>>>>> 979e4de3e6c9b901480eccb80ce42b0cc0a68dcb
   "metadata": {},
   "outputs": [],
   "source": [
    "# save dataset to csv\n",
    "df_merge_2.to_csv('games.csv', index=False)"
   ]
  },
  {
   "cell_type": "markdown",
   "metadata": {},
   "source": [
    "## 5. Visualizations and Communication"
   ]
  },
  {
   "cell_type": "markdown",
   "metadata": {},
   "source": [
    "---\n",
    "##### Tên:"
   ]
  },
  {
   "cell_type": "markdown",
   "metadata": {},
   "source": [
    "#### Plot 1: "
   ]
  },
  {
   "cell_type": "code",
<<<<<<< HEAD
   "execution_count": 99,
=======
   "execution_count": 26,
>>>>>>> 979e4de3e6c9b901480eccb80ce42b0cc0a68dcb
   "metadata": {},
   "outputs": [],
   "source": [
    "# create plot here"
   ]
  },
  {
   "cell_type": "markdown",
   "metadata": {},
   "source": [
    "#### Justifications:"
   ]
  },
  {
   "cell_type": "markdown",
   "metadata": {},
   "source": [
    "- Liệt kê những nhận xét tại đây"
   ]
  },
  {
   "cell_type": "markdown",
   "metadata": {},
   "source": [
    "#### Plot 2: "
   ]
  },
  {
   "cell_type": "code",
<<<<<<< HEAD
   "execution_count": 100,
=======
   "execution_count": 27,
>>>>>>> 979e4de3e6c9b901480eccb80ce42b0cc0a68dcb
   "metadata": {},
   "outputs": [],
   "source": [
    "# create plot here"
   ]
  },
  {
   "cell_type": "markdown",
   "metadata": {},
   "source": [
    "#### Justifications:"
   ]
  },
  {
   "cell_type": "markdown",
   "metadata": {},
   "source": [
    "- Liệt kê những nhận xét tại đây"
   ]
  },
  {
   "cell_type": "markdown",
   "metadata": {},
   "source": [
    "---\n",
    "##### Tên:"
   ]
  },
  {
   "cell_type": "markdown",
   "metadata": {},
   "source": [
    "#### Plot 3: "
   ]
  },
  {
   "cell_type": "code",
<<<<<<< HEAD
   "execution_count": 110,
=======
   "execution_count": 28,
>>>>>>> 979e4de3e6c9b901480eccb80ce42b0cc0a68dcb
   "metadata": {},
   "outputs": [
    {
     "data": {
      "text/html": [
       "<div>\n",
       "<style scoped>\n",
       "    .dataframe tbody tr th:only-of-type {\n",
       "        vertical-align: middle;\n",
       "    }\n",
       "\n",
       "    .dataframe tbody tr th {\n",
       "        vertical-align: top;\n",
       "    }\n",
       "\n",
       "    .dataframe thead th {\n",
       "        text-align: right;\n",
       "    }\n",
       "</style>\n",
       "<table border=\"1\" class=\"dataframe\">\n",
       "  <thead>\n",
       "    <tr style=\"text-align: right;\">\n",
       "      <th></th>\n",
       "      <th>genres</th>\n",
       "      <th>positive_ratio</th>\n",
       "    </tr>\n",
       "  </thead>\n",
       "  <tbody>\n",
       "    <tr>\n",
       "      <th>0</th>\n",
       "      <td>Action</td>\n",
       "      <td>76.189158</td>\n",
       "    </tr>\n",
       "    <tr>\n",
       "      <th>1</th>\n",
       "      <td>Adventure</td>\n",
       "      <td>79.202533</td>\n",
       "    </tr>\n",
       "    <tr>\n",
       "      <th>2</th>\n",
       "      <td>RPG</td>\n",
       "      <td>76.644141</td>\n",
       "    </tr>\n",
       "    <tr>\n",
       "      <th>3</th>\n",
       "      <td>Simulation</td>\n",
       "      <td>74.029487</td>\n",
       "    </tr>\n",
       "    <tr>\n",
       "      <th>4</th>\n",
       "      <td>Sports</td>\n",
       "      <td>74.491489</td>\n",
       "    </tr>\n",
       "    <tr>\n",
       "      <th>5</th>\n",
       "      <td>Strategy</td>\n",
       "      <td>74.257691</td>\n",
       "    </tr>\n",
       "  </tbody>\n",
       "</table>\n",
       "</div>"
      ],
      "text/plain": [
       "       genres  positive_ratio\n",
       "0      Action       76.189158\n",
       "1   Adventure       79.202533\n",
       "2         RPG       76.644141\n",
       "3  Simulation       74.029487\n",
       "4      Sports       74.491489\n",
       "5    Strategy       74.257691"
      ]
     },
     "execution_count": 110,
     "metadata": {},
     "output_type": "execute_result"
    }
   ],
   "source": [
    "df_positive_ratio = df_merge_2.groupby('genres').agg({'positive_ratio': 'mean'}).reset_index()\n",
    "df_positive_ratio"
   ]
  },
  {
   "cell_type": "code",
   "execution_count": 113,
   "metadata": {},
   "outputs": [
    {
     "data": {
      "text/plain": [
       "Text(0.5, 1.0, 'Positive Ratio by Genres')"
      ]
     },
     "execution_count": 113,
     "metadata": {},
     "output_type": "execute_result"
    },
    {
     "data": {
      "image/png": "iVBORw0KGgoAAAANSUhEUgAAAjoAAAHHCAYAAAC2rPKaAAAAOXRFWHRTb2Z0d2FyZQBNYXRwbG90bGliIHZlcnNpb24zLjguNCwgaHR0cHM6Ly9tYXRwbG90bGliLm9yZy8fJSN1AAAACXBIWXMAAA9hAAAPYQGoP6dpAABK/ElEQVR4nO3de3zO9f/H8ee12YGdsI0Na5stp0LJT0Uh59PQAQlNK0mkSAff6jv6hk6i+koljUIpp1ApQweUkchynjnE5LC2OU52vX9/uO36umzLNjt+PO6323W7+Xw+7+v9eV2f69p1PX0+78/nYzPGGAEAAFiQS2kXAAAAUFwIOgAAwLIIOgAAwLIIOgAAwLIIOgAAwLIIOgAAwLIIOgAAwLIIOgAAwLIIOgAAwLIIOkA5YLPZNGbMmHy1DQsL08CBA4u1nrKgINvkcvbu3SubzabXX3+9SPoDUHYQdIACmjFjhmw2m+Ph6empOnXqaNiwYfrzzz9LpIa1a9dqzJgxSktLK5H15UdYWJjTdvHy8lKzZs300UcfFbrPr776qsjCTFmSnJysYcOGqU6dOqpUqZIqVaqkBg0aaOjQofrtt99KuzzAUiqUdgFAefXiiy8qPDxcZ8+e1erVqzV16lR99dVXSkxMVKVKlYp0XWfOnFGFCv/7c127dq3Gjh2rgQMHqnLlyk5td+zYIReX0vk/zA033KAnn3xSkpSSkqIPPvhA0dHRyszM1KBBgwrc31dffaUpU6bkGnYu3SblxdKlS9WnTx9VqFBB/fr1U+PGjeXi4qLt27drwYIFmjp1qpKTkxUaGlrapQKWUP6+JYAyonPnzmratKkk6aGHHpK/v7/eeOMNffHFF+rbt2+RrsvT0zPfbT08PIp03QVRs2ZN9e/f3zE9cOBA1a5dW5MmTSpU0PknBdkmZUVSUpLuvfdehYaGasWKFQoODnZa/sorr+idd94p8aBqjNHZs2dVsWLFEl0vUBI4dAUUkTZt2ki6cFhCks6fP6///Oc/ioiIkIeHh8LCwvSvf/1LmZmZTs/bsGGDOnbsqICAAFWsWFHh4eGKiYlxanPxeJQxY8boqaeekiSFh4c7DhXt3btXkvMYnQ0bNshms2nmzJk56v3mm29ks9m0dOlSx7yDBw8qJiZG1atXl4eHh6677jp9+OGHhd4mgYGBqlevnpKSkpzm//jjj+rVq5euueYaeXh4KCQkRCNGjNCZM2ccbQYOHKgpU6Y4Xn/2I7dtku3XX39V586d5evrK29vb7Vt21Y///xzgWqeNGmSQkNDVbFiRbVq1UqJiYmOZXFxcbLZbPr1119zPG/8+PFydXXVwYMH8+z71Vdf1alTpxQXF5cj5EhShQoVNHz4cIWEhDjN3759u+655x5VrVpVnp6eatq0qRYvXuzUJvuQ6po1azRy5EgFBgbKy8tLd955p44ePerUNiwsTN26ddM333yjpk2bqmLFinrvvfckSWlpaXriiScUEhIiDw8PRUZG6pVXXpHdbnfq49NPP9VNN90kHx8f+fr6qmHDhnrzzTfzfO1AaWGPDlBEsn/M/f39JV3YyzNz5kzdc889evLJJ7Vu3TpNmDBB27Zt08KFCyVJR44cUYcOHRQYGKhnn31WlStX1t69e7VgwYI813PXXXdp586d+uSTTzRp0iQFBARIuhAqLtW0aVPVrl1bn332maKjo52WzZ07V1WqVFHHjh0lSX/++aduueUW2Ww2DRs2TIGBgfr666/14IMPKiMjQ0888USBt8n58+f1xx9/qEqVKk7zP//8c50+fVpDhgyRv7+/EhIS9Pbbb+uPP/7Q559/LkkaPHiwDh06pOXLl+vjjz++7Lp+//133X777fL19dXTTz8tNzc3vffee2rdurW+//573XzzzZft46OPPtKJEyc0dOhQnT17Vm+++abatGmjLVu2qHr16rrnnns0dOhQzZ49WzfeeKPTc2fPnq3WrVurZs2aefa/dOlSRUZG5quWi19XixYtVLNmTT377LPy8vLSZ599pp49e2r+/Pm68847ndo/9thjqlKlimJjY7V3715NnjxZw4YN09y5c53a7dixQ3379tXgwYM1aNAg1a1bV6dPn1arVq108OBBDR48WNdcc43Wrl2r0aNHKyUlRZMnT5YkLV++XH379lXbtm31yiuvSJK2bdumNWvW6PHHH8/3awNKhAFQIHFxcUaSiY+PN0ePHjUHDhwwn376qfH39zcVK1Y0f/zxh9m0aZORZB566CGn544aNcpIMitXrjTGGLNw4UIjyaxfv/4f1ynJxMbGOqZfe+01I8kkJyfnaBsaGmqio6Md06NHjzZubm4mNTXVMS8zM9NUrlzZxMTEOOY9+OCDJjg42Bw7dsypv3vvvdf4+fmZ06dP/2ONoaGhpkOHDubo0aPm6NGjZsuWLWbAgAFGkhk6dKhT29z6mjBhgrHZbGbfvn2OeUOHDjV5fU1duk169uxp3N3dTVJSkmPeoUOHjI+Pj2nZsuU/1p6cnGwkOd6/bOvWrTOSzIgRIxzz+vbta2rUqGGysrIc8zZu3Ggkmbi4uDzXkZ6ebiSZnj175lj2119/Obbb0aNHnbZP27ZtTcOGDc3Zs2cd8+x2u2nevLm59tprHfOyP5ft2rUzdrvdMX/EiBHG1dXVpKWlOeaFhoYaSWbZsmVOdfznP/8xXl5eZufOnU7zn332WePq6mr2799vjDHm8ccfN76+vub8+fN5vl6grODQFVBI7dq1U2BgoEJCQnTvvffK29tbCxcuVM2aNfXVV19JkkaOHOn0nOyBul9++aUkOQYSL126VH///Xex1NmnTx/9/fffTnuJvv32W6WlpalPnz6SLozRmD9/vqKiomSM0bFjxxyPjh07Kj09XRs3brzsur799lsFBgYqMDBQDRs21Mcff6wHHnhAr732mlO7i8eCnDp1SseOHVPz5s1ljMn1sNDlZGVl6dtvv1XPnj1Vu3Ztx/zg4GDdd999Wr16tTIyMi7bT8+ePZ32yDRr1kw333yz4/2UpPvvv1+HDh3SqlWrHPNmz56tihUr6u67786z7+z1e3t751jWunVrx3YLDAx0HLJLTU3VypUr1bt3b504ccLxnhw/flwdO3bUrl27chwqe/jhh50O8d1+++3KysrSvn37nNqFh4c79uZl+/zzz3X77berSpUqTp+Bdu3aKSsrSz/88IOkC5/bU6dOafny5Xm+XqCsIOgAhTRlyhQtX75cq1at0tatW7Vnzx7HD8e+ffvk4uKiyMhIp+cEBQWpcuXKjh+dVq1a6e6779bYsWMVEBCgHj16KC4uLsc4nivRuHFj1atXz+nQxdy5cxUQEOAYV3T06FGlpaXp/fffd/rBDQwM1AMPPCDpwmG2y7n55pu1fPlyLVu2TK+//roqV66sv/76S+7u7k7t9u/fr4EDB6pq1ary9vZWYGCgWrVqJUlKT08v8Gs8evSoTp8+rbp16+ZYVr9+fdntdh04cOCy/Vx77bU55tWpU8cx/kmS2rdvr+DgYM2ePVuSZLfb9cknn6hHjx7y8fHJs+/sZSdPnsyx7L333tPy5cs1a9Ysp/m7d++WMUYvvPBCjvclNjZWUs735ZprrnGazj5s+NdffznNDw8Pz1HHrl27tGzZshzrateundO6Hn30UdWpU0edO3dWrVq1FBMTo2XLluX52oHSxBgdoJCaNWvmOOsqLxf/zzqv5fPmzdPPP/+sJUuW6JtvvlFMTIwmTpyon3/+Odf//RdGnz59NG7cOB07dkw+Pj5avHix+vbt6zg9O3ugaf/+/XOM5cnWqFGjy64nICDA8aPYsWNH1atXT926ddObb77p2LuVlZWl9u3bKzU1Vc8884zq1asnLy8vHTx4UAMHDswx6LWscXV11X333adp06bpnXfe0Zo1a3To0CGns81y4+fnp+DgYKfBzdmyx+xcHKik/70vo0aNyrH3JdulYdrV1TXXdsYYp+nczrCy2+1q3769nn766Vz7qFOnjiSpWrVq2rRpk7755ht9/fXX+vrrrxUXF6f7778/14HvQGki6ADFIDQ0VHa7Xbt27VL9+vUd8//880+lpaXluEbKLbfcoltuuUXjxo3TnDlz1K9fP3366ad66KGHcu3/cgHqUn369NHYsWM1f/58Va9eXRkZGbr33nsdywMDA+Xj46OsrCxHUCkKXbt2VatWrTR+/HgNHjxYXl5e2rJli3bu3KmZM2fq/vvvd7TN7TBIfl9nYGCgKlWqpB07duRYtn37drm4uOQ4kyk3u3btyjFv586dCgsLc5p3//33a+LEiVqyZIm+/vprBQYG5hlELta1a1d98MEHSkhIULNmzS7bPvswnJubW5G+L3mJiIjQyZMn87Uud3d3RUVFKSoqSna7XY8++qjee+89vfDCCznCF1CaOHQFFIMuXbpIkuMslWxvvPGGpAs/eNKFwwmX/k/7hhtukKR/PHzl5eUlSfm+MnL9+vXVsGFDzZ07V3PnzlVwcLBatmzpWO7q6qq7775b8+fPz3WPw6WnJxfEM888o+PHj2vatGmOdUnOexiMMbmempzf1+nq6qoOHTroiy++cNor8ueff2rOnDm67bbb5Ovre9laFy1a5DTmJSEhQevWrVPnzp2d2jVq1EiNGjXSBx98oPnz5+vee+/N18ULn376aVWqVEkxMTG5XkX70s9CtWrV1Lp1a7333ntKSUnJ0f5K3pfc9O7dWz/99JO++eabHMvS0tJ0/vx5SdLx48edlrm4uDj2+BXlYVegKLBHBygGjRs3VnR0tN5//32lpaWpVatWSkhI0MyZM9WzZ0/dcccdkqSZM2fqnXfe0Z133qmIiAidOHFC06ZNk6+vryMs5eamm26SJD333HO699575ebmpqioKEcwyE2fPn3073//W56ennrwwQdzXJTu5Zdf1qpVq3TzzTdr0KBBatCggVJTU7Vx40bFx8crNTW1UNuic+fOuv766/XGG29o6NChqlevniIiIjRq1CgdPHhQvr6+mj9/fo4xJBe/zuHDh6tjx45ydXV12hN1sZdeeknLly/XbbfdpkcffVQVKlTQe++9p8zMTL366qv5qjUyMlK33XabhgwZoszMTE2ePFn+/v65Hsq5//77NWrUKEm67GGrbNdee63mzJmjvn37qm7duo4rIxtjlJycrDlz5sjFxUW1atVyPGfKlCm67bbb1LBhQw0aNEi1a9fWn3/+qZ9++kl//PGHNm/enK9158dTTz2lxYsXq1u3bho4cKBuuukmnTp1Slu2bNG8efO0d+9eBQQE6KGHHlJqaqratGmjWrVqad++fXr77bd1ww03OO3BBMqE0jrdCyivsk/jvdwp4X///bcZO3asCQ8PN25ubiYkJMSMHj3a6TThjRs3mr59+5prrrnGeHh4mGrVqplu3bqZDRs2OPWlS06lNubCqcA1a9Y0Li4uTqeaX3p6ebZdu3YZSUaSWb16da41//nnn2bo0KEmJCTEuLm5maCgINO2bVvz/vvvX3a7hIaGmq5du+a6bMaMGU6nX2/dutW0a9fOeHt7m4CAADNo0CCzefPmHKdonz9/3jz22GMmMDDQ2Gw2p1PNc9smGzduNB07djTe3t6mUqVK5o477jBr1669bO3Zp5e/9tprZuLEiSYkJMR4eHiY22+/3WzevDnX56SkpBhXV1dTp06dy/Z/qd27d5shQ4aYyMhI4+npaSpWrGjq1atnHnnkEbNp06Yc7ZOSksz9999vgoKCjJubm6lZs6bp1q2bmTdvnqNNXp/LVatWGUlm1apVjnn/9F6dOHHCjB492kRGRhp3d3cTEBBgmjdvbl5//XVz7tw5Y4wx8+bNMx06dDDVqlUz7u7u5pprrjGDBw82KSkpBd4WQHGzGXPJvlIAwGUdO3ZMwcHB+ve//60XXnihtMsBkAfG6ABAIcyYMUNZWVkaMGBAaZcC4B8wRgcACmDlypXaunWrxo0bp549e+Y4IwtA2cKhKwAogNatW2vt2rVq0aKFZs2a9Y/3tgJQ+gg6AADAshijAwAALIugAwAALMvyg5HtdrsOHTokHx+fAl82HwAAlA5jjE6cOKEaNWrkuMBpQVg+6Bw6dChf97gBAABlz4EDB5yuFl5Qlg86Pj4+ki5sqPzc6wYAAJS+jIwMhYSEOH7HC8vyQSf7cJWvry9BBwCAcuZKh50wGBkAAFgWQQcAAFgWQQcAAFgWQQcAAFgWQQcAAFgWQQcAAFgWQQcAAFgWQQcAAFgWQQcAAFiW5a+MjPIty26UkJyqIyfOqpqPp5qFV5WrCzdnBQDkD0EHZdayxBSNXbJVKelnHfOC/TwVG9VAna4PLsXKAADlBYeuUCYtS0zRkFkbnUKOJB1OP6shszZqWWJKKVUGAChPCDooc7LsRmOXbJXJZVn2vLFLtirLnlsLAAD+h6CDMichOTXHnpyLGUkp6WeVkJxackUBAMolgg7KnCMn8g45hWkHALh6EXRQ5lTz8SzSdgCAqxdBB2VOs/CqCvbzVF4nkdt04eyrZuFVS7IsAEA5RNBBmePqYlNsVANJyhF2sqdjoxpwPR0AwGURdFAmdbo+WFP7N1GQn/PhqSA/T03t34Tr6AAA8oULBqLM6nR9sNo3COLKyACAQiPooExzdbHp1gj/0i4DAFBOcegKAABYFkEHAABYVqkGnbCwMNlsthyPoUOHSpKSkpJ05513KjAwUL6+vurdu7f+/PPP0iwZAACUI6UadNavX6+UlBTHY/ny5ZKkXr166dSpU+rQoYNsNptWrlypNWvW6Ny5c4qKipLdbi/NsgEAQDlRqoORAwMDnaZffvllRUREqFWrVlq+fLn27t2rX3/9Vb6+vpKkmTNnqkqVKlq5cqXatWtXGiUDAIBypMyM0Tl37pxmzZqlmJgY2Ww2ZWZmymazycPDw9HG09NTLi4uWr16dZ79ZGZmKiMjw+kBAACuTmUm6CxatEhpaWkaOHCgJOmWW26Rl5eXnnnmGZ0+fVqnTp3SqFGjlJWVpZSUlDz7mTBhgvz8/ByPkJCQEnoFAACgrCkzQWf69Onq3LmzatSoIenCYa3PP/9cS5Yskbe3t/z8/JSWlqYmTZrIxSXvskePHq309HTH48CBAyX1EgAAQBlTJi4YuG/fPsXHx2vBggVO8zt06KCkpCQdO3ZMFSpUUOXKlRUUFKTatWvn2ZeHh4fT4S4AAHD1KhNBJy4uTtWqVVPXrl1zXR4QECBJWrlypY4cOaLu3buXZHkAAKCcKvWgY7fbFRcXp+joaFWo4FxOXFyc6tevr8DAQP300096/PHHNWLECNWtW7eUqgUAAOVJqQed+Ph47d+/XzExMTmW7dixQ6NHj1ZqaqrCwsL03HPPacSIEaVQJQAAKI9sxhhT2kUUp4yMDPn5+Sk9Pd1xPR4AAFC2FdXvd5k56woAAKCoEXQAAIBlEXQAAIBlEXQAAIBlEXQAAIBlEXQAAIBlEXQAAIBlEXQAAIBlEXQAAIBlEXQAAIBlEXQAAIBlEXQAAIBlEXQAAIBlEXQAAIBlEXQAAIBlEXQAAIBlEXQAAIBlEXQAAIBlEXQAAIBlEXQAAIBlEXQAAIBlEXQAAIBlEXQAAIBlEXQAAIBlEXQAAIBlEXQAAIBlEXQAAIBlEXQAAIBlEXQAAIBlEXQAAIBlEXQAAIBlEXQAAIBlEXQAAIBlEXQAAIBlEXQAAIBlEXQAAIBlEXQAAIBlEXQAAIBlEXQAAIBlEXQAAIBlEXQAAIBlEXQAAIBlEXQAAIBlEXQAAIBlEXQAAIBlEXQAAIBlEXQAAIBlEXQAAIBlEXQAAIBlEXQAAIBlEXQAAIBlEXQAAIBlEXQAAIBlEXQAAIBllWrQCQsLk81my/EYOnSoJOnw4cMaMGCAgoKC5OXlpSZNmmj+/PmlWTIAAChHKpTmytevX6+srCzHdGJiotq3b69evXpJku6//36lpaVp8eLFCggI0Jw5c9S7d29t2LBBN954Y2mVDQAAyolS3aMTGBiooKAgx2Pp0qWKiIhQq1atJElr167VY489pmbNmql27dp6/vnnVblyZf3yyy+lWTYAACgnyswYnXPnzmnWrFmKiYmRzWaTJDVv3lxz585Vamqq7Ha7Pv30U509e1atW7fOs5/MzExlZGQ4PQAAwNWpzASdRYsWKS0tTQMHDnTM++yzz/T333/L399fHh4eGjx4sBYuXKjIyMg8+5kwYYL8/Pwcj5CQkBKoHgAAlEVlJuhMnz5dnTt3Vo0aNRzzXnjhBaWlpSk+Pl4bNmzQyJEj1bt3b23ZsiXPfkaPHq309HTH48CBAyVRPgAAKINsxhhT2kXs27dPtWvX1oIFC9SjRw9JUlJSkiIjI5WYmKjrrrvO0bZdu3aKjIzUu+++m6++MzIy5Ofnp/T0dPn6+hZL/QAAoGgV1e93mdijExcXp2rVqqlr166OeadPn5Ykubg4l+jq6iq73V6i9QEAgPKp1IOO3W5XXFycoqOjVaHC/852r1evniIjIzV48GAlJCQoKSlJEydO1PLly9WzZ8/SKxgAAJQbpR504uPjtX//fsXExDjNd3Nz01dffaXAwEBFRUWpUaNG+uijjzRz5kx16dKllKoFAADlSZkYo1OcGKMDAED5Y6kxOgAAAMWBoAMAACyLoAMAACyLoAMAACyLoAMAACyLoAMAACyLoAMAACyLoAMAACyLoAMAACyLoAMAACyLoAMAACyLoAMAACyLoAMAACyLoAMAACyLoAMAACyLoAMAACyLoAMAACyLoAMAACyLoAMAACyLoAMAACyLoAMAACyLoAMAACyLoAMAACyLoAMAACyLoAMAACyLoAMAACyLoAMAACyLoAMAACyLoAMAACyLoAMAACyLoAMAACyLoAMAACyLoAMAACyLoAMAACyLoAMAACyLoAMAACyLoAMAACyLoAMAACyrUEHn+++/V1RUlCIjIxUZGanu3bvrxx9/LOraAAAArkiBg86sWbPUrl07VapUScOHD9fw4cNVsWJFtW3bVnPmzCmOGgEAAArFZowxBXlC/fr19fDDD2vEiBFO89944w1NmzZN27ZtK9ICr1RGRob8/PyUnp4uX1/f0i4HAADkQ1H9fhd4j86ePXsUFRWVY3737t2VnJxc6EIAAACKWoGDTkhIiFasWJFjfnx8vEJCQoqkKAAAgKJQoaBPePLJJzV8+HBt2rRJzZs3lyStWbNGM2bM0JtvvlnkBQIAABRWgYPOkCFDFBQUpIkTJ+qzzz6TdGHczty5c9WjR48iLxAAAKCwCjwYubxhMDIAAOVPqQ1GBgAAKC/ydeiqatWq2rlzpwICAlSlShXZbLY826amphZZcQAAAFciX0Fn0qRJ8vHxcfz7n4IOAABAWcEYHQAAUOaU2hgdV1dXHTlyJMf848ePy9XVtdCFAAAAFLUCB528dgBlZmbK3d39igsCAAAoKvm+js5bb70lSbLZbPrggw/k7e3tWJaVlaUffvhB9erVK/oKAQAACinfQWfSpEmSLuzReffdd50OU7m7uyssLEzvvvtu0VcIAABQSPkOOtk37Lzjjju0YMECValS5YpXHhYWpn379uWY/+ijj+qpp55SeHh4rs/77LPP1KtXrytePwAAsLZSPevq6NGjysrKckwnJiaqffv2WrVqlW6//XYdPXrUqf3777+v1157TSkpKU6Hzv4JZ10BAFD+FNXvd4HvdSVJf/zxhxYvXqz9+/fr3LlzTsveeOONfPcTGBjoNP3yyy8rIiJCrVq1ks1mU1BQkNPyhQsXqnfv3vkOOQAA4OpW4KCzYsUKde/eXbVr19b27dt1/fXXa+/evTLGqEmTJoUu5Ny5c5o1a5ZGjhyZ6wUJf/nlF23atElTpkz5x34yMzOVmZnpmM7IyCh0TQAAoHwr8Onlo0eP1qhRo7RlyxZ5enpq/vz5OnDggFq1anVF42YWLVqktLQ0DRw4MNfl06dPV/369dW8efN/7GfChAny8/NzPEJCQgpdEwAAKN8KPEbHx8dHmzZtUkREhKpUqaLVq1fruuuu0+bNm9WjRw/t3bu3UIV07NhR7u7uWrJkSY5lZ86cUXBwsF544QU9+eST/9hPbnt0QkJCGKMDAEA5UmpjdLy8vBzjcoKDg5WUlKTrrrtOknTs2LFCFbFv3z7Fx8drwYIFuS6fN2+eTp8+rfvvv/+yfXl4eMjDw6NQdQAAAGspcNC55ZZbtHr1atWvX19dunTRk08+qS1btmjBggW65ZZbClVEXFycqlWrpq5du+a6fPr06erevXuOwcsAAAD/pMBB54033tDJkyclSWPHjtXJkyc1d+5cXXvttQU64yqb3W5XXFycoqOjVaFCznJ2796tH374QV999VWB+wYAAFe3Aged2rVrO/7t5eV1xVdDjo+P1/79+xUTE5Pr8g8//FC1atVShw4drmg9AADg6lNkFwxcsGCBxowZo99++60ouisyXDAQAIDyp6h+vwt0evl7772ne+65R/fdd5/WrVsnSVq5cqVuvPFGDRgwQC1atCh0IQAAAEUt30Hn5Zdf1mOPPaa9e/dq8eLFatOmjcaPH69+/fqpT58++uOPPzR16tTirBUAAKBA8j1GJy4uTtOmTVN0dLR+/PFHtWrVSmvXrtXu3bvl5eVVnDUCAAAUSr736Ozfv19t2rSRJN1+++1yc3PT2LFjCTkAAKDMynfQyczMlKenp2Pa3d1dVatWLZaiAAAAikKBTi9/4YUXVKlSJUkXbsL50ksvyc/Pz6lNYa6lAwAAUBzyHXRatmypHTt2OKabN2+uPXv2OLXJ7a7jAAAApSXfQee7774rxjIAAACKXoGuowMAAFCeEHQAAIBlEXQAAIBlFfimngCsJ8tulJCcqiMnzqqaj6eahVeVqwsnFwAo/wg6wFVuWWKKxi7ZqpT0s455wX6eio1qoE7XB5diZQBw5Qp16OrHH39U//79deutt+rgwYOSpI8//lirV68u0uIAFK9liSkaMmujU8iRpMPpZzVk1kYtS0wppcoAoGgUOOjMnz9fHTt2VMWKFfXrr78qMzNTkpSenq7x48cXeYEAikeW3Wjskq0yuSzLnjd2yVZl2XNrAQDlQ4GDzksvvaR3331X06ZNk5ubm2N+ixYttHHjxiItDkDxSUhOzbEn52JGUkr6WSUkp5ZcUQBQxAocdHbs2KGWLVvmmO/n56e0tLSiqAlACThyIu+QU5h2AFAWFTjoBAUFaffu3Tnmr169WrVr1y6SogAUv2o+npdvVIB2AFAWFTjoDBo0SI8//rjWrVsnm82mQ4cOafbs2Ro1apSGDBlSHDUCKAbNwqsq2M9TeZ1EbtOFs6+ahVctybIAoEgV+PTyZ599Vna7XW3bttXp06fVsmVLeXh4aNSoUXrssceKo0YAxcDVxabYqAYaMmujbJLToOTs8BMb1YDr6QAo12zGmEKdUnHu3Dnt3r1bJ0+eVIMGDeTt7V3UtRWJjIwM+fn5KT09Xb6+vqVdDlDmcB0dAGVRUf1+FzjozJo1S3fddZcqVapU6JWWJIIOcHlcGRlAWVNqQScwMFBnzpxR9+7d1b9/f3Xs2FGurq6FLqC4EXQAACh/iur3u8CDkVNSUvTpp5/KZrOpd+/eCg4O1tChQ7V27dpCFwEAAFAcCj1GR5JOnz6thQsXas6cOYqPj1etWrWUlJRUlPVdMfboAABQ/hTV7/cV3dSzUqVK6tixo/766y/t27dP27Ztu5LuAAAAilShbup5+vRpzZ49W126dFHNmjU1efJk3Xnnnfr999+Luj4AAIBCK/AenXvvvVdLly5VpUqV1Lt3b73wwgu69dZbi6M2AACAK1LgoOPq6qrPPvuszJ9tBQAAUOCgM3v27OKoAwAAoMjlK+i89dZbevjhh+Xp6am33nrrH9sOHz68SAoDAAC4Uvk6vTw8PFwbNmyQv7+/wsPD8+7MZtOePXuKtMArxenlAACUPyV6enlycnKu/wYAACjLCnx6+YsvvqjTp0/nmH/mzBm9+OKLRVIUAABAUSjwlZFdXV2VkpKiatWqOc0/fvy4qlWrpqysrCIt8Epx6AoAgPKn1O51ZYyRzZbzrsabN29W1apVC10IAABAUcv36eVVqlSRzWaTzWZTnTp1nMJOVlaWTp48qUceeaRYigQAACiMfAedyZMnyxijmJgYjR07Vn5+fo5l7u7uCgsL4wrJAACgTMl30ImOjpZ04VTz5s2by83NrdiKAgAAKAr5CjoZGRmOgUA33nijzpw5ozNnzuTalgG/AACgrMhX0KlSpYrjTKvKlSvnOhg5e5ByWTvrCgAAXL3yFXRWrlzpOKNq1apVxVpQeZBlN0pITtWRE2dVzcdTzcKrytUlZ/gDAAClq8DX0Slvivo6OssSUzR2yValpJ91zAv281RsVAN1uj74ivsHAACleB2dZcuWafXq1Y7pKVOm6IYbbtB9992nv/76q9CFlAfLElM0ZNZGp5AjSYfTz2rIrI1alphSSpUBAIDcFDjoPPXUU8rIyJAkbdmyRSNHjlSXLl2UnJyskSNHFnmBZUWW3Wjskq3KbfdX9ryxS7Yqy27pHWQAAJQr+T69PFtycrIaNGggSZo/f76ioqI0fvx4bdy4UV26dCnyAsuKhOTUHHtyLmYkpaSfVUJyqm6N8C+5wgAAQJ4KvEfH3d3dcVPP+Ph4dejQQZJUtWpVx54eKzpyIu+QU5h2AACg+BV4j85tt92mkSNHqkWLFkpISNDcuXMlSTt37lStWrWKvMCyopqPZ5G2AwAAxa/Ae3T++9//qkKFCpo3b56mTp2qmjVrSpK+/vprderUqcgLLCuahVdVsJ+n8jqJ3KYLZ181C+fGpgAAlBWcXl4A2WddSXIalJwdfqb2b8Ip5gAAFIGi+v0u8KEr6cLdyhctWqRt27ZJkq677jp1795drq6uhS6kPOh0fbCm9m+S4zo6QVxHBwCAMqnAe3R2796tLl266ODBg6pbt64kaceOHQoJCdGXX36piIiIYim0sIr6goESV0YGAKC4FdXvd4GDTpcuXWSM0ezZsx23hTh+/Lj69+8vFxcXffnll4UupjgUR9ABAADFq9QOXX3//ff6+eefHSFHkvz9/fXyyy+rRYsWhS4EAACgqBX4rCsPDw+dOHEix/yTJ0/K3d29QH2FhYXJZrPleAwdOtTR5qefflKbNm3k5eUlX19ftWzZUmfOnClo2QAA4CpU4KDTrVs3Pfzww1q3bp2MMTLG6Oeff9Yjjzyi7t27F6iv9evXKyUlxfFYvny5JKlXr16SLoScTp06qUOHDkpISND69es1bNgwubgUuGwAAHAVKvAYnbS0NEVHR2vJkiVyc3OTJJ0/f17du3fXjBkz5OfnV+hinnjiCS1dulS7du2SzWbTLbfcovbt2+s///lPoftkjA4AAOVPqY3RqVy5sr744gvt3r3bcXp5/fr1FRkZWegiJOncuXOaNWuWRo4cKZvNpiNHjmjdunXq16+fmjdvrqSkJNWrV0/jxo3Tbbfdlmc/mZmZyszMdExb+bYUAADgn+X7GJDdbtcrr7yiFi1a6P/+7//0wQcfqF27doqKirrikCNJixYtUlpamgYOHChJ2rNnjyRpzJgxGjRokJYtW6YmTZqobdu22rVrV579TJgwQX5+fo5HSEjIFdcGAADKp3wHnXHjxulf//qXvL29VbNmTb355ptOg4av1PTp09W5c2fVqFFD0oVgJUmDBw/WAw88oBtvvFGTJk1S3bp19eGHH+bZz+jRo5Wenu54HDhwoMhqBAAA5Uu+D1199NFHeueddzR48GBJF+5c3rVrV33wwQdXPDh43759io+P14IFCxzzgoMvXGW4QYMGTm3r16+v/fv359mXh4eHPDw8rqgeAABgDflOKPv371eXLl0c0+3atZPNZtOhQ4euuIi4uDhVq1ZNXbt2dcwLCwtTjRo1tGPHDqe2O3fuVGho6BWvEwAAWF++9+icP39enp6eTvPc3Nz0999/X1EBdrtdcXFxio6OVoUK/yvHZrPpqaeeUmxsrBo3bqwbbrhBM2fO1Pbt2zVv3rwrWicAALg65DvoGGM0cOBAp8NCZ8+e1SOPPCIvLy/HvIsPP+VHfHy89u/fr5iYmBzLnnjiCZ09e1YjRoxQamqqGjdurOXLl5e5+2kBAICyKd/X0XnggQfy1WFcXNwVFVTUuI4OAADlT4lfR6esBRgAAIDL4V4KAADAsgg6AADAsgg6AADAsgg6AADAsgg6AADAsgg6AADAsgg6AADAsgg6AADAsgg6AADAsgg6AADAsgg6AADAsgg6AADAsgg6AADAsgg6AADAsgg6AADAsgg6AADAsgg6AADAsgg6AADAsgg6AADAsgg6AADAsgg6AADAsgg6AADAsgg6AADAsgg6AADAsgg6AADAsgg6AADAsgg6AADAsgg6AADAsgg6AADAsgg6AADAsgg6AADAsgg6AADAsgg6AADAsgg6AADAsgg6AADAsgg6AADAsgg6AADAsgg6AADAsgg6AADAsgg6AADAsgg6AADAsgg6AADAsgg6AADAsgg6AADAsgg6AADAsgg6AADAsgg6AADAsgg6AADAsgg6AADAsgg6AADAsgg6AADAsgg6AADAsgg6AADAsko16ISFhclms+V4DB06VJLUunXrHMseeeSR0iwZAACUIxVKc+Xr169XVlaWYzoxMVHt27dXr169HPMGDRqkF1980TFdqVKlEq0RAACUX6UadAIDA52mX375ZUVERKhVq1aOeZUqVVJQUFBJlwYAACygzIzROXfunGbNmqWYmBjZbDbH/NmzZysgIEDXX3+9Ro8erdOnT/9jP5mZmcrIyHB6AACAq1Op7tG52KJFi5SWlqaBAwc65t13330KDQ1VjRo19Ntvv+mZZ57Rjh07tGDBgjz7mTBhgsaOHVsCFQMAgLLOZowxpV2EJHXs2FHu7u5asmRJnm1Wrlyptm3bavfu3YqIiMi1TWZmpjIzMx3TGRkZCgkJUXp6unx9fYu8bgAAUPQyMjLk5+d3xb/fZWKPzr59+xQfH/+Pe2ok6eabb5akfww6Hh4e8vDwKPIaAQBA+VMmxujExcWpWrVq6tq16z+227RpkyQpODi4BKoCAADlXanv0bHb7YqLi1N0dLQqVPhfOUlJSZozZ466dOkif39//fbbbxoxYoRatmypRo0alWLFAACgvCj1oBMfH6/9+/crJibGab67u7vi4+M1efJknTp1SiEhIbr77rv1/PPPl1KlAACgvCkzg5GLS1ENZgIAACWnqH6/y8QYHQAAgOJA0AEAAJZF0AEAAJZF0AEAAJZF0AEAAJZF0AEAAJZF0AEAAJZF0AEAAJZF0AEAAJZF0AEAAJZF0AEAAJZF0AEAAJZF0AEAAJZF0AEAAJZF0AEAAJZF0AEAAJZF0AEAAJZF0AEAAJZF0AEAAJZF0AEAAJZF0AEAAJZVobQLAACgKGXZjRKSU3XkxFlV8/FUs/CqcnWxlXZZKCUEHQCAZSxLTNHYJVuVkn7WMS/Yz1OxUQ3U6frgUqwMpYVDVwAAS1iWmKIhszY6hRxJOpx+VkNmbdSyxJRSqgyliaADACj3suxGY5dslcllWfa8sUu2KsueWwtYGUEHAFDuJSSn5tiTczEjKSX9rBKSU0uuKJQJBB0AQLl35ETeIacw7WAdBB0AQLlXzcezSNvBOgg6AIByr1l4VQX7eSqvk8htunD2VbPwqiVZFsoAgg4AoNxzdbEpNqqBJOUIO9nTsVENuJ7OVYigAwCwhE7XB2tq/yYK8nM+PBXk56mp/ZtwHZ2rFBcMBABYRqfrg9W+QRBXRoYDQQcAYCmuLjbdGuFf2mWgjODQFQAAsCyCDgAAsCyCDgAAsCzG6AAAgALLsptyMeiboAMAAApkWWKKxi7Z6nR/sWA/T8VGNShzp/Fz6AoAAOTbssQUDZm1McdNVA+nn9WQWRu1LDGllCrLHUEHAADkS5bdaOySrTK5LMueN3bJVmXZc2tROgg6AAAgXxKSU3PsybmYkZSSflYJyaklV9RlEHQAAEC+HDmRd8gpTLuSQNABAAD5Us3H8/KNCtCuJBB0AABAvjQLr6pgP88cd4jPZtOFs6+ahVctybL+EUEHAADki6uLTbFRDSQpR9jJno6NalCmrqdD0AEAAPnW6fpgTe3fREF+zoengvw8NbV/kzJ3HR0uGAgAAAqk0/XBat8giCsjAwAAa3J1senWCP/SLuOyOHQFAAAsi6ADAAAsi6ADAAAsizE6AFBCsuymXAzeBKyEoAMAJWBZYorGLtnqdJ+gYD9PxUY1KHOn4wJWwqErAChmyxJTNGTWxhw3QzycflZDZm3UssSUUqoMsL5SDTphYWGy2Ww5HkOHDnVqZ4xR586dZbPZtGjRotIpFgAKIctuNHbJVplclmXPG7tkq7LsubUAcKVKNeisX79eKSkpjsfy5cslSb169XJqN3nyZNlsHMcGUP4kJKfm2JNzMSMpJf2sEpJTS64o4CpSqmN0AgMDnaZffvllRUREqFWrVo55mzZt0sSJE7VhwwYFB3McG0D5cuRE3iGnMO0AFEyZGYx87tw5zZo1SyNHjnTsvTl9+rTuu+8+TZkyRUFBQfnqJzMzU5mZmY7pjIyMYqkXAPKjmo/n5RsVoB2Agikzg5EXLVqktLQ0DRw40DFvxIgRat68uXr06JHvfiZMmCA/Pz/HIyQkpBiqBYD8aRZeVcF+njnu9JzNpgtnXzULr1qSZQFXjTITdKZPn67OnTurRo0akqTFixdr5cqVmjx5coH6GT16tNLT0x2PAwcOFEO1AJA/ri42xUY1kKQcYSd7OjaqAdfTAYpJmQg6+/btU3x8vB566CHHvJUrVyopKUmVK1dWhQoVVKHChaNsd999t1q3bp1nXx4eHvL19XV6AEBp6nR9sKb2b6IgP+fDU0F+npravwnX0QGKkc0YU+rnNI4ZM0bvvfeeDhw44Ag0hw8f1rFjx5zaNWzYUG+++aaioqIUHh6er74zMjLk5+en9PR0Qg+AUsWVkYH8K6rf71IfjGy32xUXF6fo6GhHyJGkoKCgXAcgX3PNNfkOOQBQlri62HRrhH9plwFcVUr90FV8fLz279+vmJiY0i4FAABYTKnv0enQoYPye/SsDBxlAwAA5Uip79EBAAAoLgQdAABgWQQdAABgWQQdAABgWQQdAABgWQQdAABgWQQdAABgWaV+HZ3iln3tnYyMjFKuBAAA5Ff27/aVXkPP8kHnxIkTkqSQkJBSrgQAABTUiRMn5OfnV+jnl4mbehYnu92uQ4cOycfHRzZb0d08LyMjQyEhITpw4AA3Cy1mbOuSwXYuGWznksF2LhnFuZ2NMTpx4oRq1KghF5fCj7Sx/B4dFxcX1apVq9j69/X15Y+ohLCtSwbbuWSwnUsG27lkFNd2vpI9OdkYjAwAACyLoAMAACyLoFNIHh4eio2NlYeHR2mXYnls65LBdi4ZbOeSwXYuGeVhO1t+MDIAALh6sUcHAABYFkEHAABYFkEHAABYFkHnCs2YMUOVK1cu7TLKjDFjxuiGG24o7TKAArPZbFq0aFGxrycsLEyTJ08uM/0AVndVBp2ffvpJrq6u6tq1a4Gel9sXS58+fbRz584irK7sKez2Kil79+6VzWbTpk2bSruUMmXgwIGy2Wyy2Wxyc3NTeHi4nn76aZ09e9bRJnu5zWaTn5+fWrRooZUrVzr1c/jwYT3++OOKjIyUp6enqlevrhYtWmjq1Kk6ffp0Sb+sQjt69KiGDBmia665Rh4eHgoKClLHjh21Zs0aSVJKSoo6d+5cylXmlNd/ptavX6+HH3645AsqRpd7j4qTlYLj5bZjUYb68vD9a/krI+dm+vTpeuyxxzR9+nQdOnRINWrUKHRfFStWVMWKFYuwurKnKLdXWXfu3Dm5u7uXdhlFplOnToqLi9Pff/+tX375RdHR0bLZbHrllVccbeLi4tSpUycdO3ZMzz33nLp166bExETVrl1be/bsUYsWLVS5cmWNHz9eDRs2lIeHh7Zs2aL3339fNWvWVPfu3UvxFebf3XffrXPnzmnmzJmqXbu2/vzzT61YsULHjx+XJAUFBZVyhQUTGBhY2iUUucu9R8XBan/zUtFsR0ttF3OVOXHihPH29jbbt283ffr0MePGjXNavnjxYtO0aVPj4eFh/P39Tc+ePY0xxrRq1cpIcnoYY0xcXJzx8/Nz6uOdd94xtWvXNm5ubqZOnTrmo48+clouyUybNs307NnTVKxY0URGRpovvvii+F70Fbjc9powYYKpVq2a8fb2NjExMeaZZ54xjRs3NsYY88033xgPDw/z119/OT1n+PDh5o477nBM//jjj+a2224znp6eplatWuaxxx4zJ0+edCwPDQ0148aNMw888IDx9vY2ISEh5r333nMsv/R9adWqlTHmwnv2+OOPO627R48eJjo62qnvF1980QwYMMD4+Pg4ll2upvIgOjra9OjRw2neXXfdZW688UbHtCSzcOFCx/TBgweNJPPuu+8aY4zp2LGjqVWrVp6v3W63F3ndxeGvv/4yksx3332XZ5uLt0VycrKRZObOnev4HDRt2tTs2LHDJCQkmJtuusl4eXmZTp06mSNHjjj6yO9nbtKkSY7piRMnmuuvv95UqlTJ1KpVywwZMsScOHHCGGPMqlWrcny+Y2Njc+1n3759pnv37sbLy8v4+PiYXr16mcOHDzuWx8bGmsaNG5uPPvrIhIaGGl9fX9OnTx+TkZFRsI1ZTPL7Hr3zzjumU6dOxtPT04SHh5vPP//cqc1vv/1m7rjjDuPp6WmqVq1qBg0a5Niexvzv7+Kll14ywcHBJiwsLM/v971795pu3bqZypUrm0qVKpkGDRqYL7/8sng2QBG53HYMDQ11ep2hoaHGmP99PqZNm2bCwsKMzWYzxhjz9ddfmxYtWhg/Pz9TtWpV07VrV7N7925Hf3l9/xpjzLRp00y9evWMh4eHqVu3rpkyZYpTLWvWrDGNGzc2Hh4e5qabbjILFy40ksyvv/5q7Ha7iYiIMK+99prTc3799VcjyezatSvf2+SqCzrTp083TZs2NcYYs2TJEhMREeH4sl66dKlxdXU1//73v83WrVvNpk2bzPjx440xxhw/ftzUqlXLvPjiiyYlJcWkpKQYY3IGnQULFhg3NzczZcoUs2PHDjNx4kTj6upqVq5c6WgjydSqVcvMmTPH7Nq1ywwfPtx4e3ub48ePl9BWyL9/2l5z5841Hh4e5oMPPjDbt283zz33nPHx8XEEnfPnz5vq1aubDz74wNHfpfN2795tvLy8zKRJk8zOnTvNmjVrzI033mgGDhzoeE5oaKipWrWqmTJlitm1a5eZMGGCcXFxMdu3bzfGGJOQkGAkmfj4eJOSkuLYjvn90fH19TWvv/662b17t+NxuZrKg0uDzpYtW0xQUJC5+eabHfMuDTqpqalGknnrrbfMsWPHjM1mMxMmTCjBqovH33//bby9vc0TTzxhzp49m2ub3IJOvXr1zLJly8zWrVvNLbfcYm666SbTunVrs3r1arNx40YTGRlpHnnkEUcfhQk6kyZNMitXrjTJyclmxYoVpm7dumbIkCHGGGMyMzPN5MmTja+vr+N7J/tH++J+srKyzA033GBuu+02s2HDBvPzzz+bm266yelHJzY21nh7e5u77rrLbNmyxfzwww8mKCjI/Otf/yrcRi1i+X2P/P39zbRp08yOHTvM888/b1xdXc3WrVuNMcacPHnSBAcHO17jihUrTHh4uNP2j46ONt7e3mbAgAEmMTHRJCYm5vn93rVrV9O+fXvz22+/maSkJLNkyRLz/fffF/u2uBKX245HjhwxkkxcXJxJSUlxBPXY2FhHeN+4caPZvHmzMcaYefPmmfnz55tdu3aZX3/91URFRZmGDRuarKwsY0ze37+zZs0ywcHBZv78+WbPnj1m/vz5pmrVqmbGjBnGGGPS09NN1apVTf/+/c3vv/9uvvrqK1OnTh1H0DHGmHHjxpkGDRo41T98+HDTsmXLAm2Tqy7oNG/e3EyePNkYc+EDERAQYFatWmWMMebWW281/fr1y/O5l35BGZMz6DRv3twMGjTIqU2vXr1Mly5dHNOSzPPPP++YPnnypJFkvv7660K+quJzue316KOPOrW/+eabHUHHGGMef/xx06ZNG8f0pXt5HnzwQfPwww879fHjjz8aFxcXc+bMGWPMhe3ev39/x3K73W6qVatmpk6daoz5349S9h9Htvz+6GTvtcuWn5rKg+joaOPq6mq8vLyMh4eHkWRcXFzMvHnzHG0u/nE/deqUefTRR42rq6vZvHmz+fnnn40ks2DBAqd+/f39jZeXl/Hy8jJPP/10Sb6kKzJv3jxTpUoV4+npaZo3b25Gjx7t+DI3Jvegc3FI/+STT4wks2LFCse8CRMmmLp16zqmCxN0LvX5558bf39/x3Rue40v7efbb781rq6uZv/+/Y7lv//+u5FkEhISjDEXfsgqVarktAfnqaeecgq+pS0/79HFwdKYC9852cHw/fffN1WqVHHaA/nll18aFxcXx96t6OhoU716dZOZmenUT27vS8OGDc2YMWOK8iWWiIJ81rPFxsYaNzc3pz2UuTl69KiRZLZs2WKMyfv7NyIiwsyZM8dp3n/+8x9z6623GmOMmTp1qvH393f6Tp02bZpTXwcPHjSurq5m3bp1xhhjzp07ZwICAhxhKb+uqsHIO3bsUEJCgvr27StJqlChgvr06aPp06dLkjZt2qS2bdte0Tq2bdumFi1aOM1r0aKFtm3b5jSvUaNGjn97eXnJ19dXR44cuaJ1F7XLba9t27bp5ptvdnrOrbfe6jTdr18/fffddzp06JAkafbs2eratatjcOXmzZs1Y8YMeXt7Ox4dO3aU3W5XcnKyo5+Lt5fNZlNQUFCRba+mTZs6Tee3pvLgjjvu0KZNm7Ru3TpFR0frgQce0N133+3Upm/fvvL29paPj4/mz5+v6dOnO23vSyUkJGjTpk267rrrlJmZWdwvocjcfffdOnTokBYvXqxOnTrpu+++U5MmTTRjxow8n3PxdqhevbokqWHDhk7zrvRzGB8fr7Zt26pmzZry8fHRgAEDdPz48QIN9N62bZtCQkIUEhLimNegQQNVrlzZ6bsnLCxMPj4+jung4OAy9b2Tn/fo0u+YW2+91fEat23bpsaNG8vLy8uxvEWLFrLb7dqxY4djXsOGDfM1/mT48OF66aWX1KJFC8XGxuq33367wldYMgrzWZek0NDQHGO/du3apb59+6p27dry9fVVWFiYJGn//v159nPq1CklJSXpwQcfdPoefemll5SUlCTpwu9Lo0aN5Onp6Xhes2bNnPqpUaOGunbtqg8//FCStGTJEmVmZqpXr1753RSSrrKzrqZPn67z58+rRo0aqlChgipUqKCpU6dq/vz5Sk9PL9FBxW5ubk7TNptNdru9xNafH5fbXvnxf//3f4qIiNCnn36qM2fOaOHCherXr59j+cmTJzV48GBt2rTJ8di8ebN27dqliIgIR7vCbC8XFxeZS+5w8vfff+dod/GXYkFqKg+8vLwUGRmpxo0b68MPP9S6descQTXbpEmTtGnTJh0+fFiHDx9WdHS0JCkyMlI2m83pB0KSateurcjIyHI5CN/T01Pt27fXCy+8oLVr12rgwIGKjY3Ns/3FnzubzZbrvIs/h/n9zGXbu3evunXrpkaNGmn+/Pn65ZdfNGXKFEkXBoMWtfLwvVPQ96gwLv2bz8tDDz2kPXv2aMCAAdqyZYuaNm2qt99+u0hrKS6F2Y65bZeoqCilpqZq2rRpWrdundatWyfpnz+fJ0+elCRNmzbN6Xs0MTFRP//8c4Fex0MPPeT4/YiLi1OfPn1UqVKlAvVx1QSd8+fP66OPPtLEiRNz/IDVqFFDn3zyiRo1aqQVK1bk2Ye7u7uysrL+cT3169fPcSrkmjVr1KBBgyJ5HSUlP9urfv36jg99ttw+xP369dPs2bO1ZMkSubi4OJ2m3qRJE23dulWRkZE5Hvkd8Z/d7tL3JjAwUCkpKY7prKwsJSYmXra/oqipLHJxcdG//vUvPf/88zpz5oxjflBQkCIjI3P8T87f31/t27fXf//7X506daqkyy0RDRo0KNLXVtDP3C+//CK73a6JEyfqlltuUZ06dRx7P7Pl93vnwIEDOnDggGPe1q1blZaWVu6+ey516Xt06XfMzz//rPr160u6sB02b97s1H7NmjVycXFR3bp1/3E9eW3nkJAQPfLII1qwYIGefPJJTZs27UpeTqm5eDu6ubld9jMlScePH9eOHTv0/PPPq23btqpfv77++usvpza5ff9Wr15dNWrU0J49e3J8h4aHh0uS6tatqy1btjjtFV6/fn2OGrp06SIvLy9NnTpVy5YtU0xMTIFf+1UTdJYuXaq//vpLDz74oK6//nqnx913363p06crNjZWn3zyiWJjY7Vt2zZt2bLF6TTcsLAw/fDDDzp48KCOHTuW63qeeuopzZgxQ1OnTtWuXbv0xhtvaMGCBRo1alRJvdQikZ/t9fjjj+vDDz9UXFycdu7cqdjYWP3+++85+urXr582btyocePG6Z577nG6y+0zzzyjtWvXatiwYdq0aZN27dqlL774QsOGDct3rdWqVVPFihW1bNky/fnnn469TW3atNGXX36pL7/8Utu3b9eQIUOUlpZ22f6KoqayqlevXnJ1dXXsNbicd955R+fPn1fTpk01d+5cbdu2TTt27NCsWbO0fft2ubq6FnPFReP48eNq06aNZs2apd9++03Jycn6/PPP9eqrr6pHjx5Ftp6CfuYiIyP1999/6+2339aePXv08ccf691333VqExYWppMnT2rFihU6duxYroe02rVrp4YNGzr+1hISEnT//ferVatWOQ7NllX5fY8+//xzffjhh47vnISEBMffZr9+/eTp6ano6GglJiZq1apVeuyxxzRgwADHoce85Pb9/sQTT+ibb75RcnKyNm7cqFWrVjlCVVmVn+0YFhamFStW6PDhwzmCy8WqVKkif39/vf/++9q9e7dWrlypkSNHOrXJ6/t37NixmjBhgt566y3t3LlTW7ZsUVxcnN544w1J0n333Se73a6HH35Y27Zt0zfffKPXX39d0v/2nkqSq6urBg4cqNGjR+vaa6/NcegyXwo0oqcc69atm9OA4IutW7fOSDKbN2828+fPNzfccINxd3c3AQEB5q677nK0++mnn0yjRo0cAzuNKfzp5ZcOBPPz8zNxcXFX/DqLSn6317hx40xAQIDx9vY20dHR5umnn3YajJytWbNmRpLT2WfZEhISTPv27Y23t7fx8vIyjRo1cjqNPbdBgo0bN3acZmvMhUFsISEhxsXFxXGmyblz58yQIUNM1apVTbVq1cyECRPyPTD0cjWVB7mdXm7MhQG0gYGBjkHwl34WL3Xo0CEzbNgwEx4ebtzc3Iy3t7dp1qyZee2118ypU6eKp/gidvbsWfPss8+aJk2aGD8/P1OpUiVTt25d8/zzz5vTp08bY3IfjHzxAMvsU70vvlzCpX//hfnMvfHGGyY4ONhUrFjRdOzY0Xz00Uc51vPII48Yf3//Ijm9/GKTJk1ynF5c2vL7Hk2ZMsW0b9/eeHh4mLCwMDN37lynfvJ7evmlcvt+HzZsmImIiDAeHh4mMDDQDBgwwBw7dqz4NkIRyM92XLx4sYmMjDQVKlTIcXr5pZYvX27q169vPDw8TKNGjcx3332X43sjt+9fY4yZPXu24/e0SpUqpmXLlk4nN6xZs8Y0atTIuLu7m5tuusnMmTPHSHKcUZstKSnJSDKvvvpqobaJzZhLDigDAFAG2Ww2LVy4UD179iztUlAMZs+erQceeCDHmNkff/xRbdu21YEDBy67Zy43V+WVkQEAQOn66KOPVLt2bdWsWVObN2/WM888o969eztCTmZmpo4ePaoxY8aoV69ehQo50lU0RgcAAJQdhw8fVv/+/VW/fn2NGDFCvXr10vvvv+9Y/sknnyg0NFRpaWl69dVXC70eDl0BAADLYo8OAACwLIIOAACwLIIOAACwLIIOAACwLIIOAACwLIIOgBJx+PBhPf7444qMjJSnp6eqV6+uFi1aaOrUqQW6UzcAFAQXDARQ7Pbs2aMWLVqocuXKGj9+vBo2bCgPDw9t2bJF77//vmrWrKnu3bsXy7rPnTtXrm/GCuDKsEcHQLF79NFHVaFCBW3YsEG9e/dW/fr1Vbt2bfXo0UNffvmloqKiJElpaWl66KGHFBgYKF9fX7Vp00abN2929DNmzBjdcMMN+vjjjxUWFiY/Pz/de++9OnHihKNN69atNWzYMD3xxBMKCAhQx44dJUmJiYnq3LmzvL29Vb16dQ0YMMDp5rzz5s1Tw4YNVbFiRfn7+6tdu3aWvWs7cDUh6AAoVsePH9e3336roUOHysvLK9c22Xcr7tWrl44cOaKvv/5av/zyi5o0aaK2bdsqNTXV0TYpKUmLFi3S0qVLtXTpUn3//fd6+eWXnfqbOXOm3N3dtWbNGr377rtKS0tTmzZtdOONN2rDhg2OOy337t1bkpSSkqK+ffsqJiZG27Zt03fffae77rpLXE8VKP84dAWgWO3evVvGGNWtW9dpfkBAgM6ePStJGjp0qKKiopSQkKAjR47Iw8NDkvT6669r0aJFmjdvnh5++GFJkt1u14wZM+Tj4yNJGjBggFasWKFx48Y5+r722mudLhn/0ksv6cYbb9T48eMd8z788EOFhIRo586dOnnypM6fP6+77rpLoaGhkqSGDRsWw9YAUNIIOgBKRUJCgux2u/r166fMzExt3rxZJ0+elL+/v1O7M2fOKCkpyTEdFhbmCDmSFBwcrCNHjjg956abbnKa3rx5s1atWiVvb+8cdSQlJalDhw5q27atGjZsqI4dO6pDhw665557VKVKlaJ4qQBKEUEHQLGKjIyUzWbTjh07nObXrl1bkhx3Kj558qSCg4P13Xff5eijcuXKjn+7ubk5LbPZbLLb7U7zLj1EdvLkSUVFRemVV17J0XdwcLBcXV21fPlyrV27Vt9++63efvttPffcc1q3bp3Cw8Pz/VoBlD2M0QFQrPz9/dW+fXv997///cfBvU2aNNHhw4dVoUIFRUZGOj0CAgKuqIYmTZro999/V1hYWI6+s0ORzWZTixYtNHbsWP36669yd3fXwoULr2i9AEofQQdAsXvnnXd0/vx5NW3aVHPnztW2bdu0Y8cOzZo1S9u3b5erq6vatWunW2+9VT179tS3336rvXv3au3atXruuee0YcOGK1r/0KFDlZqaqr59+2r9+vVKSkrSN998owceeEBZWVlat26dxo8frw0bNmj//v1asGCBjh49qvr16xfRFgBQWjh0BaDYRURE6Ndff9X48eM1evRo/fHHH/Lw8FCDBg00atQoPfroo7LZbPrqq6/03HPP6YEHHtDRo0cVFBSkli1bqnr16le0/ho1amjNmjV65pln1KFDB2VmZio0NFSdOnWSi4uLfH199cMPP2jy5MnKyMhQaGioJk6cqM6dOxfRFgBQWmyG8ycBAIBFcegKAABYFkEHAABYFkEHAABYFkEHAABYFkEHAABYFkEHAABYFkEHAABYFkEHAABYFkEHAABYFkEHAABYFkEHAABYFkEHAABY1v8DEMnao6Zag/AAAAAASUVORK5CYII=",
      "text/plain": [
       "<Figure size 640x480 with 1 Axes>"
      ]
     },
     "metadata": {},
     "output_type": "display_data"
    }
   ],
   "source": [
    "#Use Scatter to draw\n",
    "plt.scatter(df_positive_ratio['genres'], df_positive_ratio['positive_ratio'])\n",
    "plt.xlabel('Genres')\n",
    "plt.ylabel('Positive Ratio')\n",
    "plt.title('Positive Ratio by Genres')"
   ]
  },
  {
   "cell_type": "markdown",
   "metadata": {},
   "source": [
    "#### Justifications:"
   ]
  },
  {
   "cell_type": "markdown",
   "metadata": {},
   "source": [
    "- Liệt kê những nhận xét tại đây"
   ]
  },
  {
   "cell_type": "markdown",
   "metadata": {},
   "source": [
    "#### Plot 4: "
   ]
  },
  {
   "cell_type": "code",
<<<<<<< HEAD
   "execution_count": null,
=======
   "execution_count": 29,
>>>>>>> 979e4de3e6c9b901480eccb80ce42b0cc0a68dcb
   "metadata": {},
   "outputs": [],
   "source": [
    "# create plot here"
   ]
  },
  {
   "cell_type": "markdown",
   "metadata": {},
   "source": [
    "#### Justifications:"
   ]
  },
  {
   "cell_type": "markdown",
   "metadata": {},
   "source": [
    "- Liệt kê những nhận xét tại đây"
   ]
  },
  {
   "cell_type": "markdown",
   "metadata": {},
   "source": [
    "---\n",
    "##### Tên:"
   ]
  },
  {
   "cell_type": "markdown",
   "metadata": {},
   "source": [
    "#### Plot 5: "
   ]
  },
  {
   "cell_type": "code",
<<<<<<< HEAD
   "execution_count": null,
=======
   "execution_count": 30,
>>>>>>> 979e4de3e6c9b901480eccb80ce42b0cc0a68dcb
   "metadata": {},
   "outputs": [],
   "source": [
    "# create plot here"
   ]
  },
  {
   "cell_type": "markdown",
   "metadata": {},
   "source": [
    "#### Justifications:"
   ]
  },
  {
   "cell_type": "markdown",
   "metadata": {},
   "source": [
    "- Liệt kê những nhận xét tại đây"
   ]
  },
  {
   "cell_type": "markdown",
   "metadata": {},
   "source": [
    "#### Plot 6: "
   ]
  },
  {
   "cell_type": "code",
<<<<<<< HEAD
   "execution_count": null,
=======
   "execution_count": 31,
>>>>>>> 979e4de3e6c9b901480eccb80ce42b0cc0a68dcb
   "metadata": {},
   "outputs": [],
   "source": [
    "# create plot here"
   ]
  },
  {
   "cell_type": "markdown",
   "metadata": {},
   "source": [
    "#### Justifications:"
   ]
  },
  {
   "cell_type": "markdown",
   "metadata": {},
   "source": [
    "- Liệt kê những nhận xét tại đây"
   ]
  },
  {
   "cell_type": "markdown",
   "metadata": {},
   "source": []
  }
 ],
 "metadata": {
  "kernelspec": {
   "display_name": "Python 3",
   "language": "python",
   "name": "python3"
  },
  "language_info": {
   "codemirror_mode": {
    "name": "ipython",
    "version": 3
   },
   "file_extension": ".py",
   "mimetype": "text/x-python",
   "name": "python",
   "nbconvert_exporter": "python",
   "pygments_lexer": "ipython3",
   "version": "3.12.3"
  }
 },
 "nbformat": 4,
 "nbformat_minor": 2
}
