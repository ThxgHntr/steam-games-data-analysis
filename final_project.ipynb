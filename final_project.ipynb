{
 "cells": [
  {
   "cell_type": "markdown",
   "metadata": {},
   "source": [
    "# Real-world Data Wrangling"
   ]
  },
  {
   "cell_type": "markdown",
   "metadata": {},
   "source": [
    "## Nhóm 3\n",
    "---\n",
    "#### Tên: Trịnh Đàm Huy\n",
    "##### Mã SV: 221ITXXX\n",
    "##### Lớp 21JIT\n",
    "---\n",
    "#### Tên: Phạm Quốc Phú\n",
    "##### Mã SV: 21IT099\n",
    "##### Lớp 21JIT\n",
    "---\n",
    "#### Tên: Phạm Hoàng Phúc\n",
    "##### Mã SV: 21IT640\n",
    "##### Lớp 21JIT"
   ]
  },
  {
   "cell_type": "markdown",
   "metadata": {},
   "source": [
    "---"
   ]
  },
  {
   "cell_type": "markdown",
   "metadata": {},
   "source": [
    "## 0. User-defined functions"
   ]
  },
  {
   "cell_type": "markdown",
   "metadata": {},
   "source": [
    "---\n",
    "##### Tên: Phạm Quốc Phú"
   ]
  },
  {
   "cell_type": "code",
<<<<<<< HEAD
   "execution_count": 74,
=======
   "execution_count": 1,
>>>>>>> 63fc2011d05bcb2377b81f243e643651a1bae3a8
   "metadata": {},
   "outputs": [],
   "source": [
    "def check_dataset_info(df):\n",
    "    print(\"Thông tin cơ bản của DataFrame:\")\n",
    "    print(df.info())\n",
    "\n",
    "    print(\"\\nCác cột của DataFrame:\")\n",
    "    print(df.columns)\n",
    "    \n",
    "    print(\"\\nKích thước của DataFrame (số hàng, số cột):\")\n",
    "    print(df.shape)\n",
    "    \n",
    "    print(\"\\nThống kê mô tả của DataFrame:\")\n",
    "    print(df.describe(include='all'))\n",
    "    \n",
    "    print(\"\\nSố lượng giá trị null trong mỗi cột:\")\n",
    "    print(df.isnull().sum())\n",
    "    \n",
    "    print(\"\\nSố lượng giá trị duy nhất trong mỗi cột:\")\n",
    "    print(df.nunique())"
   ]
  },
  {
   "cell_type": "markdown",
   "metadata": {},
   "source": [
    "## 1. Gather data"
   ]
  },
  {
   "cell_type": "markdown",
   "metadata": {},
   "source": [
    "### **1.1.** Problem Statement"
   ]
  },
  {
   "cell_type": "markdown",
   "metadata": {},
   "source": [
    "This project aims to practice my skills of data wrangling using real-world datasets.\n",
    "\n",
    "Your statements here\n",
    "\n",
    "In this dataset, I would like to answer the following research questions:"
   ]
  },
  {
   "cell_type": "markdown",
   "metadata": {},
   "source": [
    "---\n",
    "##### Tên : XXXX XXXX XXXX\n",
    "\n",
    "Câu hỏi 1:\n",
    "\n",
    "Câu hỏi 2:\n",
    "\n"
   ]
  },
  {
   "cell_type": "markdown",
   "metadata": {},
   "source": [
    "---\n",
    "##### Tên : Phạm Quốc Phú\n",
    "\n",
    "Câu hỏi 3: Trong số các trò chơi có sẵn cho Steam Deck, tỷ lệ trò chơi có đánh giá tích cực là bao nhiêu?\n",
    "\n",
    "Câu hỏi 4: Năm nào có số lượng game phát hành nhiều nhất (sau 2015).\n",
    "\n"
   ]
  },
  {
   "cell_type": "markdown",
   "metadata": {},
   "source": [
    "---\n",
    "##### Tên : XXXX XXXX XXXX\n",
    "\n",
    "Câu hỏi 5:\n",
    "\n",
    "Câu hỏi 6:\n",
    "\n"
   ]
  },
  {
   "cell_type": "markdown",
   "metadata": {},
   "source": [
    "### **1.2.** Gather at least two datasets using two different data gathering methods"
   ]
  },
  {
   "cell_type": "markdown",
   "metadata": {},
   "source": [
    "---\n",
    "##### Tên: XXXX XXX XXXX"
   ]
  },
  {
   "cell_type": "code",
<<<<<<< HEAD
   "execution_count": 75,
=======
   "execution_count": 2,
>>>>>>> 63fc2011d05bcb2377b81f243e643651a1bae3a8
   "metadata": {},
   "outputs": [],
   "source": [
    "# import libraries\n",
    "import pandas as pd"
   ]
  },
  {
   "cell_type": "code",
<<<<<<< HEAD
   "execution_count": 76,
=======
   "execution_count": 3,
>>>>>>> 63fc2011d05bcb2377b81f243e643651a1bae3a8
   "metadata": {},
   "outputs": [
    {
     "data": {
      "text/html": [
       "<div>\n",
       "<style scoped>\n",
       "    .dataframe tbody tr th:only-of-type {\n",
       "        vertical-align: middle;\n",
       "    }\n",
       "\n",
       "    .dataframe tbody tr th {\n",
       "        vertical-align: top;\n",
       "    }\n",
       "\n",
       "    .dataframe thead th {\n",
       "        text-align: right;\n",
       "    }\n",
       "</style>\n",
       "<table border=\"1\" class=\"dataframe\">\n",
       "  <thead>\n",
       "    <tr style=\"text-align: right;\">\n",
       "      <th></th>\n",
       "      <th>app_id</th>\n",
       "      <th>rating</th>\n",
       "      <th>positive_ratio</th>\n",
       "      <th>user_reviews</th>\n",
       "      <th>price_final</th>\n",
       "      <th>price_original</th>\n",
       "      <th>discount</th>\n",
       "    </tr>\n",
       "  </thead>\n",
       "  <tbody>\n",
       "    <tr>\n",
       "      <th>0</th>\n",
       "      <td>13500</td>\n",
       "      <td>Very Positive</td>\n",
       "      <td>84.0</td>\n",
       "      <td>2199.0</td>\n",
       "      <td>9.99</td>\n",
       "      <td>9.99</td>\n",
       "      <td>0.0</td>\n",
       "    </tr>\n",
       "    <tr>\n",
       "      <th>1</th>\n",
       "      <td>22364</td>\n",
       "      <td>Positive</td>\n",
       "      <td>85.0</td>\n",
       "      <td>21.0</td>\n",
       "      <td>2.99</td>\n",
       "      <td>2.99</td>\n",
       "      <td>0.0</td>\n",
       "    </tr>\n",
       "    <tr>\n",
       "      <th>2</th>\n",
       "      <td>113020</td>\n",
       "      <td>Very Positive</td>\n",
       "      <td>92.0</td>\n",
       "      <td>3722.0</td>\n",
       "      <td>14.99</td>\n",
       "      <td>14.99</td>\n",
       "      <td>0.0</td>\n",
       "    </tr>\n",
       "    <tr>\n",
       "      <th>3</th>\n",
       "      <td>226560</td>\n",
       "      <td>Mixed</td>\n",
       "      <td>61.0</td>\n",
       "      <td>873.0</td>\n",
       "      <td>14.99</td>\n",
       "      <td>14.99</td>\n",
       "      <td>0.0</td>\n",
       "    </tr>\n",
       "    <tr>\n",
       "      <th>4</th>\n",
       "      <td>249050</td>\n",
       "      <td>Very Positive</td>\n",
       "      <td>88.0</td>\n",
       "      <td>8784.0</td>\n",
       "      <td>11.99</td>\n",
       "      <td>11.99</td>\n",
       "      <td>0.0</td>\n",
       "    </tr>\n",
       "    <tr>\n",
       "      <th>...</th>\n",
       "      <td>...</td>\n",
       "      <td>...</td>\n",
       "      <td>...</td>\n",
       "      <td>...</td>\n",
       "      <td>...</td>\n",
       "      <td>...</td>\n",
       "      <td>...</td>\n",
       "    </tr>\n",
       "    <tr>\n",
       "      <th>50867</th>\n",
       "      <td>2296380</td>\n",
       "      <td>Very Positive</td>\n",
       "      <td>96.0</td>\n",
       "      <td>101.0</td>\n",
       "      <td>22.00</td>\n",
       "      <td>0.00</td>\n",
       "      <td>0.0</td>\n",
       "    </tr>\n",
       "    <tr>\n",
       "      <th>50868</th>\n",
       "      <td>1272080</td>\n",
       "      <td>Mostly Negative</td>\n",
       "      <td>38.0</td>\n",
       "      <td>29458.0</td>\n",
       "      <td>40.00</td>\n",
       "      <td>0.00</td>\n",
       "      <td>0.0</td>\n",
       "    </tr>\n",
       "    <tr>\n",
       "      <th>50869</th>\n",
       "      <td>1402110</td>\n",
       "      <td>Very Positive</td>\n",
       "      <td>89.0</td>\n",
       "      <td>1128.0</td>\n",
       "      <td>30.00</td>\n",
       "      <td>0.00</td>\n",
       "      <td>0.0</td>\n",
       "    </tr>\n",
       "    <tr>\n",
       "      <th>50870</th>\n",
       "      <td>2272250</td>\n",
       "      <td>Very Positive</td>\n",
       "      <td>95.0</td>\n",
       "      <td>82.0</td>\n",
       "      <td>17.00</td>\n",
       "      <td>0.00</td>\n",
       "      <td>0.0</td>\n",
       "    </tr>\n",
       "    <tr>\n",
       "      <th>50871</th>\n",
       "      <td>2488510</td>\n",
       "      <td>Very Positive</td>\n",
       "      <td>88.0</td>\n",
       "      <td>144.0</td>\n",
       "      <td>4.00</td>\n",
       "      <td>0.00</td>\n",
       "      <td>0.0</td>\n",
       "    </tr>\n",
       "  </tbody>\n",
       "</table>\n",
       "<p>50872 rows × 7 columns</p>\n",
       "</div>"
      ],
      "text/plain": [
       "        app_id           rating  positive_ratio  user_reviews  price_final  \\\n",
       "0        13500    Very Positive            84.0        2199.0         9.99   \n",
       "1        22364         Positive            85.0          21.0         2.99   \n",
       "2       113020    Very Positive            92.0        3722.0        14.99   \n",
       "3       226560            Mixed            61.0         873.0        14.99   \n",
       "4       249050    Very Positive            88.0        8784.0        11.99   \n",
       "...        ...              ...             ...           ...          ...   \n",
       "50867  2296380    Very Positive            96.0         101.0        22.00   \n",
       "50868  1272080  Mostly Negative            38.0       29458.0        40.00   \n",
       "50869  1402110    Very Positive            89.0        1128.0        30.00   \n",
       "50870  2272250    Very Positive            95.0          82.0        17.00   \n",
       "50871  2488510    Very Positive            88.0         144.0         4.00   \n",
       "\n",
       "       price_original  discount  \n",
       "0                9.99       0.0  \n",
       "1                2.99       0.0  \n",
       "2               14.99       0.0  \n",
       "3               14.99       0.0  \n",
       "4               11.99       0.0  \n",
       "...               ...       ...  \n",
       "50867            0.00       0.0  \n",
       "50868            0.00       0.0  \n",
       "50869            0.00       0.0  \n",
       "50870            0.00       0.0  \n",
       "50871            0.00       0.0  \n",
       "\n",
       "[50872 rows x 7 columns]"
      ]
     },
<<<<<<< HEAD
     "execution_count": 76,
=======
     "execution_count": 3,
>>>>>>> 63fc2011d05bcb2377b81f243e643651a1bae3a8
     "metadata": {},
     "output_type": "execute_result"
    }
   ],
   "source": [
    "# read dataset games_info.csv\n",
    "df_info = pd.read_csv('datasets/games_info.csv')\n",
    "df_info\n"
   ]
  },
  {
   "cell_type": "code",
<<<<<<< HEAD
   "execution_count": 77,
=======
   "execution_count": 4,
>>>>>>> 63fc2011d05bcb2377b81f243e643651a1bae3a8
   "metadata": {},
   "outputs": [
    {
     "data": {
      "text/html": [
       "<div>\n",
       "<style scoped>\n",
       "    .dataframe tbody tr th:only-of-type {\n",
       "        vertical-align: middle;\n",
       "    }\n",
       "\n",
       "    .dataframe tbody tr th {\n",
       "        vertical-align: top;\n",
       "    }\n",
       "\n",
       "    .dataframe thead th {\n",
       "        text-align: right;\n",
       "    }\n",
       "</style>\n",
       "<table border=\"1\" class=\"dataframe\">\n",
       "  <thead>\n",
       "    <tr style=\"text-align: right;\">\n",
       "      <th></th>\n",
       "      <th>app_id</th>\n",
       "      <th>title</th>\n",
       "      <th>date_release</th>\n",
       "      <th>win</th>\n",
       "      <th>mac</th>\n",
       "      <th>linux</th>\n",
       "      <th>steam_deck</th>\n",
       "    </tr>\n",
       "  </thead>\n",
       "  <tbody>\n",
       "    <tr>\n",
       "      <th>0</th>\n",
       "      <td>13500</td>\n",
       "      <td>Prince of Persia: Warrior Within™</td>\n",
       "      <td>11/21/2008</td>\n",
       "      <td>True</td>\n",
       "      <td>False</td>\n",
       "      <td>False</td>\n",
       "      <td>True</td>\n",
       "    </tr>\n",
       "    <tr>\n",
       "      <th>1</th>\n",
       "      <td>22364</td>\n",
       "      <td>BRINK: Agents of Change</td>\n",
       "      <td>8/3/2011</td>\n",
       "      <td>True</td>\n",
       "      <td>False</td>\n",
       "      <td>False</td>\n",
       "      <td>True</td>\n",
       "    </tr>\n",
       "    <tr>\n",
       "      <th>2</th>\n",
       "      <td>113020</td>\n",
       "      <td>Monaco: What's Yours Is Mine</td>\n",
       "      <td>4/24/2013</td>\n",
       "      <td>True</td>\n",
       "      <td>True</td>\n",
       "      <td>True</td>\n",
       "      <td>True</td>\n",
       "    </tr>\n",
       "    <tr>\n",
       "      <th>3</th>\n",
       "      <td>226560</td>\n",
       "      <td>Escape Dead Island</td>\n",
       "      <td>11/18/2014</td>\n",
       "      <td>True</td>\n",
       "      <td>False</td>\n",
       "      <td>False</td>\n",
       "      <td>True</td>\n",
       "    </tr>\n",
       "    <tr>\n",
       "      <th>4</th>\n",
       "      <td>249050</td>\n",
       "      <td>Dungeon of the ENDLESS™</td>\n",
       "      <td>10/27/2014</td>\n",
       "      <td>True</td>\n",
       "      <td>True</td>\n",
       "      <td>False</td>\n",
       "      <td>True</td>\n",
       "    </tr>\n",
       "    <tr>\n",
       "      <th>...</th>\n",
       "      <td>...</td>\n",
       "      <td>...</td>\n",
       "      <td>...</td>\n",
       "      <td>...</td>\n",
       "      <td>...</td>\n",
       "      <td>...</td>\n",
       "      <td>...</td>\n",
       "    </tr>\n",
       "    <tr>\n",
       "      <th>50867</th>\n",
       "      <td>2296380</td>\n",
       "      <td>I Expect You To Die 3: Cog in the Machine</td>\n",
       "      <td>9/28/2023</td>\n",
       "      <td>True</td>\n",
       "      <td>False</td>\n",
       "      <td>False</td>\n",
       "      <td>True</td>\n",
       "    </tr>\n",
       "    <tr>\n",
       "      <th>50868</th>\n",
       "      <td>1272080</td>\n",
       "      <td>PAYDAY 3</td>\n",
       "      <td>9/21/2023</td>\n",
       "      <td>True</td>\n",
       "      <td>False</td>\n",
       "      <td>False</td>\n",
       "      <td>True</td>\n",
       "    </tr>\n",
       "    <tr>\n",
       "      <th>50869</th>\n",
       "      <td>1402110</td>\n",
       "      <td>Eternights</td>\n",
       "      <td>9/11/2023</td>\n",
       "      <td>True</td>\n",
       "      <td>False</td>\n",
       "      <td>False</td>\n",
       "      <td>True</td>\n",
       "    </tr>\n",
       "    <tr>\n",
       "      <th>50870</th>\n",
       "      <td>2272250</td>\n",
       "      <td>Forgive Me Father 2</td>\n",
       "      <td>10/19/2023</td>\n",
       "      <td>True</td>\n",
       "      <td>False</td>\n",
       "      <td>False</td>\n",
       "      <td>True</td>\n",
       "    </tr>\n",
       "    <tr>\n",
       "      <th>50871</th>\n",
       "      <td>2488510</td>\n",
       "      <td>FatalZone</td>\n",
       "      <td>10/23/2023</td>\n",
       "      <td>True</td>\n",
       "      <td>False</td>\n",
       "      <td>False</td>\n",
       "      <td>True</td>\n",
       "    </tr>\n",
       "  </tbody>\n",
       "</table>\n",
       "<p>50872 rows × 7 columns</p>\n",
       "</div>"
      ],
      "text/plain": [
       "        app_id                                      title date_release   win  \\\n",
       "0        13500          Prince of Persia: Warrior Within™   11/21/2008  True   \n",
       "1        22364                    BRINK: Agents of Change     8/3/2011  True   \n",
       "2       113020               Monaco: What's Yours Is Mine    4/24/2013  True   \n",
       "3       226560                         Escape Dead Island   11/18/2014  True   \n",
       "4       249050                    Dungeon of the ENDLESS™   10/27/2014  True   \n",
       "...        ...                                        ...          ...   ...   \n",
       "50867  2296380  I Expect You To Die 3: Cog in the Machine    9/28/2023  True   \n",
       "50868  1272080                                   PAYDAY 3    9/21/2023  True   \n",
       "50869  1402110                                 Eternights    9/11/2023  True   \n",
       "50870  2272250                        Forgive Me Father 2   10/19/2023  True   \n",
       "50871  2488510                                  FatalZone   10/23/2023  True   \n",
       "\n",
       "         mac  linux steam_deck  \n",
       "0      False  False       True  \n",
       "1      False  False       True  \n",
       "2       True   True       True  \n",
       "3      False  False       True  \n",
       "4       True  False       True  \n",
       "...      ...    ...        ...  \n",
       "50867  False  False       True  \n",
       "50868  False  False       True  \n",
       "50869  False  False       True  \n",
       "50870  False  False       True  \n",
       "50871  False  False       True  \n",
       "\n",
       "[50872 rows x 7 columns]"
      ]
     },
<<<<<<< HEAD
     "execution_count": 77,
=======
     "execution_count": 4,
>>>>>>> 63fc2011d05bcb2377b81f243e643651a1bae3a8
     "metadata": {},
     "output_type": "execute_result"
    }
   ],
   "source": [
    "# read dataset games_platforms.csv\n",
    "df_platforms = pd.read_csv('datasets/games_platforms.csv')\n",
    "df_platforms"
   ]
  },
  {
   "cell_type": "code",
<<<<<<< HEAD
   "execution_count": 78,
=======
   "execution_count": 5,
>>>>>>> 63fc2011d05bcb2377b81f243e643651a1bae3a8
   "metadata": {},
   "outputs": [
    {
     "data": {
      "text/html": [
       "<div>\n",
       "<style scoped>\n",
       "    .dataframe tbody tr th:only-of-type {\n",
       "        vertical-align: middle;\n",
       "    }\n",
       "\n",
       "    .dataframe tbody tr th {\n",
       "        vertical-align: top;\n",
       "    }\n",
       "\n",
       "    .dataframe thead th {\n",
       "        text-align: right;\n",
       "    }\n",
       "</style>\n",
       "<table border=\"1\" class=\"dataframe\">\n",
       "  <thead>\n",
       "    <tr style=\"text-align: right;\">\n",
       "      <th></th>\n",
       "      <th>app_id</th>\n",
       "      <th>genres</th>\n",
       "      <th>player_support</th>\n",
       "      <th>indie</th>\n",
       "    </tr>\n",
       "  </thead>\n",
       "  <tbody>\n",
       "    <tr>\n",
       "      <th>0</th>\n",
       "      <td>13500</td>\n",
       "      <td>Action</td>\n",
       "      <td>Singleplayer</td>\n",
       "      <td>False</td>\n",
       "    </tr>\n",
       "    <tr>\n",
       "      <th>1</th>\n",
       "      <td>22364</td>\n",
       "      <td>Action</td>\n",
       "      <td>Singleplayer</td>\n",
       "      <td>False</td>\n",
       "    </tr>\n",
       "    <tr>\n",
       "      <th>2</th>\n",
       "      <td>113020</td>\n",
       "      <td>Action</td>\n",
       "      <td>Multiplayer</td>\n",
       "      <td>True</td>\n",
       "    </tr>\n",
       "    <tr>\n",
       "      <th>3</th>\n",
       "      <td>226560</td>\n",
       "      <td>Action</td>\n",
       "      <td>Multiplayer</td>\n",
       "      <td>False</td>\n",
       "    </tr>\n",
       "    <tr>\n",
       "      <th>4</th>\n",
       "      <td>249050</td>\n",
       "      <td>Adventure</td>\n",
       "      <td>Singleplayer</td>\n",
       "      <td>True</td>\n",
       "    </tr>\n",
       "    <tr>\n",
       "      <th>...</th>\n",
       "      <td>...</td>\n",
       "      <td>...</td>\n",
       "      <td>...</td>\n",
       "      <td>...</td>\n",
       "    </tr>\n",
       "    <tr>\n",
       "      <th>50867</th>\n",
       "      <td>2296380</td>\n",
       "      <td>NaN</td>\n",
       "      <td>Singleplayer</td>\n",
       "      <td>False</td>\n",
       "    </tr>\n",
       "    <tr>\n",
       "      <th>50868</th>\n",
       "      <td>1272080</td>\n",
       "      <td>NaN</td>\n",
       "      <td>Singleplayer</td>\n",
       "      <td>False</td>\n",
       "    </tr>\n",
       "    <tr>\n",
       "      <th>50869</th>\n",
       "      <td>1402110</td>\n",
       "      <td>NaN</td>\n",
       "      <td>Singleplayer</td>\n",
       "      <td>False</td>\n",
       "    </tr>\n",
       "    <tr>\n",
       "      <th>50870</th>\n",
       "      <td>2272250</td>\n",
       "      <td>Action</td>\n",
       "      <td>Singleplayer</td>\n",
       "      <td>False</td>\n",
       "    </tr>\n",
       "    <tr>\n",
       "      <th>50871</th>\n",
       "      <td>2488510</td>\n",
       "      <td>NaN</td>\n",
       "      <td>Singleplayer</td>\n",
       "      <td>False</td>\n",
       "    </tr>\n",
       "  </tbody>\n",
       "</table>\n",
       "<p>50872 rows × 4 columns</p>\n",
       "</div>"
      ],
      "text/plain": [
       "        app_id     genres player_support  indie\n",
       "0        13500     Action   Singleplayer  False\n",
       "1        22364     Action   Singleplayer  False\n",
       "2       113020     Action    Multiplayer   True\n",
       "3       226560     Action    Multiplayer  False\n",
       "4       249050  Adventure   Singleplayer   True\n",
       "...        ...        ...            ...    ...\n",
       "50867  2296380        NaN   Singleplayer  False\n",
       "50868  1272080        NaN   Singleplayer  False\n",
       "50869  1402110        NaN   Singleplayer  False\n",
       "50870  2272250     Action   Singleplayer  False\n",
       "50871  2488510        NaN   Singleplayer  False\n",
       "\n",
       "[50872 rows x 4 columns]"
      ]
     },
<<<<<<< HEAD
     "execution_count": 78,
=======
     "execution_count": 5,
>>>>>>> 63fc2011d05bcb2377b81f243e643651a1bae3a8
     "metadata": {},
     "output_type": "execute_result"
    }
   ],
   "source": [
    "# read dataset games_categories.csv\n",
    "df_categories = pd.read_csv('datasets/games_categories.csv')\n",
    "df_categories"
   ]
  },
  {
   "cell_type": "markdown",
   "metadata": {},
   "source": [
    "## 2. Assess data\n"
   ]
  },
  {
   "cell_type": "markdown",
   "metadata": {},
   "source": [
    "I will assess the data both visually and programmatically to identify any data quality(content) issues and tidiness(structual) issues."
   ]
  },
  {
   "cell_type": "markdown",
   "metadata": {},
   "source": [
    "---\n",
    "##### Tên: Phạm Quốc Phú"
   ]
  },
  {
   "cell_type": "markdown",
   "metadata": {},
   "source": [
    "### Issue 1: Datasets games_info - Cột Rating, positive_ratio, user_reviews, price_final, price_original và discount xuất hiện giá trị null, kiểu dữ liệu cột positive_ratio, user_reviews, discount không phù hợp"
   ]
  },
  {
   "cell_type": "code",
<<<<<<< HEAD
   "execution_count": 79,
=======
   "execution_count": 6,
>>>>>>> 63fc2011d05bcb2377b81f243e643651a1bae3a8
   "metadata": {},
   "outputs": [
    {
     "name": "stdout",
     "output_type": "stream",
     "text": [
      "Thông tin cơ bản của DataFrame:\n",
      "<class 'pandas.core.frame.DataFrame'>\n",
      "RangeIndex: 50872 entries, 0 to 50871\n",
      "Data columns (total 7 columns):\n",
      " #   Column          Non-Null Count  Dtype  \n",
      "---  ------          --------------  -----  \n",
      " 0   app_id          50872 non-null  int64  \n",
      " 1   rating          50867 non-null  object \n",
      " 2   positive_ratio  50868 non-null  float64\n",
      " 3   user_reviews    50860 non-null  float64\n",
      " 4   price_final     50831 non-null  float64\n",
      " 5   price_original  50840 non-null  float64\n",
      " 6   discount        50864 non-null  float64\n",
      "dtypes: float64(5), int64(1), object(1)\n",
      "memory usage: 2.7+ MB\n",
      "None\n",
      "\n",
      "Các cột của DataFrame:\n",
      "Index(['app_id', 'rating', 'positive_ratio', 'user_reviews', 'price_final',\n",
      "       'price_original', 'discount'],\n",
      "      dtype='object')\n",
      "\n",
      "Kích thước của DataFrame (số hàng, số cột):\n",
      "(50872, 7)\n",
      "\n",
      "Thống kê mô tả của DataFrame:\n",
      "              app_id    rating  positive_ratio  user_reviews   price_final  \\\n",
      "count   5.087200e+04     50867    50868.000000  5.086000e+04  50831.000000   \n",
      "unique           NaN         9             NaN           NaN           NaN   \n",
      "top              NaN  Positive             NaN           NaN           NaN   \n",
      "freq             NaN     13501             NaN           NaN           NaN   \n",
      "mean    1.055224e+06       NaN       77.051919  1.824388e+03      8.618137   \n",
      "std     6.103249e+05       NaN       18.254088  4.007822e+04     11.516448   \n",
      "min     1.000000e+01       NaN        0.000000  1.000000e+01      0.000000   \n",
      "25%     5.287375e+05       NaN       67.000000  1.900000e+01      0.990000   \n",
      "50%     9.860850e+05       NaN       81.000000  4.900000e+01      4.990000   \n",
      "75%     1.524895e+06       NaN       91.000000  2.060000e+02     10.990000   \n",
      "max     2.599300e+06       NaN      100.000000  7.494460e+06    299.990000   \n",
      "\n",
      "        price_original      discount  \n",
      "count     50840.000000  50864.000000  \n",
      "unique             NaN           NaN  \n",
      "top                NaN           NaN  \n",
      "freq               NaN           NaN  \n",
      "mean          8.722491      5.592108  \n",
      "std          11.502193     18.606985  \n",
      "min           0.000000      0.000000  \n",
      "25%           0.990000      0.000000  \n",
      "50%           4.990000      0.000000  \n",
      "75%          11.990000      0.000000  \n",
      "max         299.990000     90.000000  \n",
      "\n",
      "Số lượng giá trị null trong mỗi cột:\n",
      "app_id             0\n",
      "rating             5\n",
      "positive_ratio     4\n",
      "user_reviews      12\n",
      "price_final       41\n",
      "price_original    32\n",
      "discount           8\n",
      "dtype: int64\n",
      "\n",
      "Số lượng giá trị duy nhất trong mỗi cột:\n",
      "app_id            50872\n",
      "rating                9\n",
      "positive_ratio      100\n",
      "user_reviews       4844\n",
      "price_final         435\n",
      "price_original      183\n",
      "discount             75\n",
      "dtype: int64\n"
     ]
    }
   ],
   "source": [
    "# check info dataset games_info\n",
    "check_dataset_info(df_info)"
   ]
  },
  {
   "cell_type": "markdown",
   "metadata": {},
   "source": [
    "#### Observations:"
   ]
  },
  {
   "cell_type": "markdown",
   "metadata": {},
   "source": [
    "- Đổi kiểu dữ liệu positive_ratio, user_reviews, discount sang kiểu int16\n",
    "- Ở cột rating thay thế giá trị null thành giá trị xuất hiện nhiều nhất\n",
    "- Ở các cột positive_ratio, user_reviews, price_final, price_original và discount thay thế bằng giá trị trung bình"
   ]
  },
  {
   "cell_type": "markdown",
   "metadata": {},
   "source": [
    "---\n",
    "##### Tên : XXX XXXXX XXX"
   ]
  },
  {
   "cell_type": "markdown",
   "metadata": {},
   "source": [
    "### Issue 2: Vấn đề gì đó trong file games_platforms"
   ]
  },
  {
   "cell_type": "code",
<<<<<<< HEAD
   "execution_count": 80,
=======
   "execution_count": 7,
>>>>>>> 63fc2011d05bcb2377b81f243e643651a1bae3a8
   "metadata": {},
   "outputs": [],
   "source": [
    "# check info dataset games_platforms"
   ]
  },
  {
   "cell_type": "markdown",
   "metadata": {},
   "source": [
    "#### Observations:"
   ]
  },
  {
   "cell_type": "markdown",
   "metadata": {},
   "source": [
    "- liệt kê cách giải quyết tại đây"
   ]
  },
  {
   "cell_type": "markdown",
   "metadata": {},
   "source": [
    "---\n",
    "##### Tên: Phạm Hoàng Phúc"
   ]
  },
  {
   "cell_type": "markdown",
   "metadata": {},
   "source": [
    "### Issue 3: Dataset game_categories: Cột genres có chứa các giá trị null"
   ]
  },
  {
   "cell_type": "code",
<<<<<<< HEAD
   "execution_count": 81,
=======
   "execution_count": 8,
>>>>>>> 63fc2011d05bcb2377b81f243e643651a1bae3a8
   "metadata": {},
   "outputs": [
    {
     "data": {
      "text/html": [
       "<div>\n",
       "<style scoped>\n",
       "    .dataframe tbody tr th:only-of-type {\n",
       "        vertical-align: middle;\n",
       "    }\n",
       "\n",
       "    .dataframe tbody tr th {\n",
       "        vertical-align: top;\n",
       "    }\n",
       "\n",
       "    .dataframe thead th {\n",
       "        text-align: right;\n",
       "    }\n",
       "</style>\n",
       "<table border=\"1\" class=\"dataframe\">\n",
       "  <thead>\n",
       "    <tr style=\"text-align: right;\">\n",
       "      <th></th>\n",
       "      <th>app_id</th>\n",
       "      <th>genres</th>\n",
       "      <th>player_support</th>\n",
       "      <th>indie</th>\n",
       "    </tr>\n",
       "  </thead>\n",
       "  <tbody>\n",
       "    <tr>\n",
       "      <th>0</th>\n",
       "      <td>13500</td>\n",
       "      <td>Action</td>\n",
       "      <td>Singleplayer</td>\n",
       "      <td>False</td>\n",
       "    </tr>\n",
       "    <tr>\n",
       "      <th>1</th>\n",
       "      <td>22364</td>\n",
       "      <td>Action</td>\n",
       "      <td>Singleplayer</td>\n",
       "      <td>False</td>\n",
       "    </tr>\n",
       "    <tr>\n",
       "      <th>2</th>\n",
       "      <td>113020</td>\n",
       "      <td>Action</td>\n",
       "      <td>Multiplayer</td>\n",
       "      <td>True</td>\n",
       "    </tr>\n",
       "    <tr>\n",
       "      <th>3</th>\n",
       "      <td>226560</td>\n",
       "      <td>Action</td>\n",
       "      <td>Multiplayer</td>\n",
       "      <td>False</td>\n",
       "    </tr>\n",
       "    <tr>\n",
       "      <th>4</th>\n",
       "      <td>249050</td>\n",
       "      <td>Adventure</td>\n",
       "      <td>Singleplayer</td>\n",
       "      <td>True</td>\n",
       "    </tr>\n",
       "  </tbody>\n",
       "</table>\n",
       "</div>"
      ],
      "text/plain": [
       "   app_id     genres player_support  indie\n",
       "0   13500     Action   Singleplayer  False\n",
       "1   22364     Action   Singleplayer  False\n",
       "2  113020     Action    Multiplayer   True\n",
       "3  226560     Action    Multiplayer  False\n",
       "4  249050  Adventure   Singleplayer   True"
      ]
     },
<<<<<<< HEAD
     "execution_count": 81,
=======
     "execution_count": 8,
>>>>>>> 63fc2011d05bcb2377b81f243e643651a1bae3a8
     "metadata": {},
     "output_type": "execute_result"
    }
   ],
   "source": [
    "# show first 5 rows\n",
    "df_categories.head(5)"
   ]
  },
  {
   "cell_type": "code",
<<<<<<< HEAD
   "execution_count": 82,
=======
   "execution_count": 9,
>>>>>>> 63fc2011d05bcb2377b81f243e643651a1bae3a8
   "metadata": {},
   "outputs": [
    {
     "name": "stdout",
     "output_type": "stream",
     "text": [
      "Thông tin cơ bản của DataFrame:\n",
      "<class 'pandas.core.frame.DataFrame'>\n",
      "RangeIndex: 50872 entries, 0 to 50871\n",
      "Data columns (total 4 columns):\n",
      " #   Column          Non-Null Count  Dtype \n",
      "---  ------          --------------  ----- \n",
      " 0   app_id          50872 non-null  int64 \n",
      " 1   genres          44575 non-null  object\n",
      " 2   player_support  50872 non-null  object\n",
      " 3   indie           50872 non-null  bool  \n",
      "dtypes: bool(1), int64(1), object(2)\n",
      "memory usage: 1.2+ MB\n",
      "None\n",
      "\n",
      "Các cột của DataFrame:\n",
      "Index(['app_id', 'genres', 'player_support', 'indie'], dtype='object')\n",
      "\n",
      "Kích thước của DataFrame (số hàng, số cột):\n",
      "(50872, 4)\n",
      "\n",
      "Thống kê mô tả của DataFrame:\n",
      "              app_id  genres player_support  indie\n",
      "count   5.087200e+04   44575          50872  50872\n",
      "unique           NaN       6              2      2\n",
      "top              NaN  Action   Singleplayer   True\n",
      "freq             NaN   21897          44297  27957\n",
      "mean    1.055224e+06     NaN            NaN    NaN\n",
      "std     6.103249e+05     NaN            NaN    NaN\n",
      "min     1.000000e+01     NaN            NaN    NaN\n",
      "25%     5.287375e+05     NaN            NaN    NaN\n",
      "50%     9.860850e+05     NaN            NaN    NaN\n",
      "75%     1.524895e+06     NaN            NaN    NaN\n",
      "max     2.599300e+06     NaN            NaN    NaN\n",
      "\n",
      "Số lượng giá trị null trong mỗi cột:\n",
      "app_id               0\n",
      "genres            6297\n",
      "player_support       0\n",
      "indie                0\n",
      "dtype: int64\n",
      "\n",
      "Số lượng giá trị duy nhất trong mỗi cột:\n",
      "app_id            50872\n",
      "genres                6\n",
      "player_support        2\n",
      "indie                 2\n",
      "dtype: int64\n"
     ]
    }
   ],
   "source": [
    "# check info dataset games_categories\n",
    "check_dataset_info(df_categories)"
   ]
  },
  {
   "cell_type": "markdown",
   "metadata": {},
   "source": [
    "#### Observations:"
   ]
  },
  {
   "cell_type": "markdown",
   "metadata": {},
   "source": [
    "- Thay đổi các giá trị null trong cột genres thành 'Other'"
   ]
  },
  {
   "cell_type": "markdown",
   "metadata": {},
   "source": [
    "## 3. Clean data"
   ]
  },
  {
   "cell_type": "markdown",
   "metadata": {},
   "source": [
    "Clean the data to solve the 4 issues corresponding to data quality and tidiness found in the assessing step.\n",
    "\n",
    "Make copies of the datasets"
   ]
  },
  {
   "cell_type": "code",
<<<<<<< HEAD
   "execution_count": 83,
=======
   "execution_count": 10,
>>>>>>> 63fc2011d05bcb2377b81f243e643651a1bae3a8
   "metadata": {},
   "outputs": [],
   "source": [
    "# make copy of dataset games_info\n",
    "df_info_copy = df_info.copy()"
   ]
  },
  {
   "cell_type": "code",
<<<<<<< HEAD
   "execution_count": 84,
=======
   "execution_count": 11,
>>>>>>> 63fc2011d05bcb2377b81f243e643651a1bae3a8
   "metadata": {},
   "outputs": [],
   "source": [
    "# make copy of dataset games_platforms\n",
    "df_platforms_copy = df_platforms.copy()"
   ]
  },
  {
   "cell_type": "code",
<<<<<<< HEAD
   "execution_count": 85,
=======
   "execution_count": 12,
>>>>>>> 63fc2011d05bcb2377b81f243e643651a1bae3a8
   "metadata": {},
   "outputs": [],
   "source": [
    "# make copy of dataset games_categories\n",
    "df_categories_copy = df_categories.copy()"
   ]
  },
  {
   "cell_type": "markdown",
   "metadata": {},
   "source": [
    "---\n",
    "##### Tên: Phạm Quốc Phú"
   ]
  },
  {
   "cell_type": "markdown",
   "metadata": {},
   "source": [
    "### Issue 1: Datasets games_info - Cột Rating, positive_ratio, user_reviews, price_final, price_original và discount xuất hiện giá trị null, kiểu dữ liệu cột positive_ratio, user_reviews, discount không phù hợp"
   ]
  },
  {
   "cell_type": "code",
<<<<<<< HEAD
   "execution_count": 86,
=======
   "execution_count": 13,
>>>>>>> 63fc2011d05bcb2377b81f243e643651a1bae3a8
   "metadata": {},
   "outputs": [
    {
     "name": "stderr",
     "output_type": "stream",
     "text": [
<<<<<<< HEAD
      "C:\\Users\\ACER\\AppData\\Local\\Temp\\ipykernel_8968\\2743130675.py:2: FutureWarning: A value is trying to be set on a copy of a DataFrame or Series through chained assignment using an inplace method.\n",
=======
      "C:\\Users\\acer\\AppData\\Local\\Temp\\ipykernel_19876\\406404285.py:2: FutureWarning: A value is trying to be set on a copy of a DataFrame or Series through chained assignment using an inplace method.\n",
>>>>>>> 63fc2011d05bcb2377b81f243e643651a1bae3a8
      "The behavior will change in pandas 3.0. This inplace method will never work because the intermediate object on which we are setting values always behaves as a copy.\n",
      "\n",
      "For example, when doing 'df[col].method(value, inplace=True)', try using 'df.method({col: value}, inplace=True)' or df[col] = df[col].method(value) instead, to perform the operation inplace on the original object.\n",
      "\n",
      "\n",
      "  df_info['rating'].fillna(df_info['rating'].mode()[0], inplace=True)\n"
     ]
    }
   ],
   "source": [
    "# In the rating column, replace the null value with the value that appears most often\n",
    "df_info['rating'].fillna(df_info['rating'].mode()[0], inplace=True)"
   ]
  },
  {
   "cell_type": "code",
<<<<<<< HEAD
   "execution_count": 87,
=======
   "execution_count": 14,
>>>>>>> 63fc2011d05bcb2377b81f243e643651a1bae3a8
   "metadata": {},
   "outputs": [
    {
     "data": {
      "text/plain": [
       "app_id             0\n",
       "rating             0\n",
       "positive_ratio     4\n",
       "user_reviews      12\n",
       "price_final       41\n",
       "price_original    32\n",
       "discount           8\n",
       "dtype: int64"
      ]
     },
<<<<<<< HEAD
     "execution_count": 87,
=======
     "execution_count": 14,
>>>>>>> 63fc2011d05bcb2377b81f243e643651a1bae3a8
     "metadata": {},
     "output_type": "execute_result"
    }
   ],
   "source": [
    "# Validate the cleaning was successful\n",
    "df_info.isnull().sum()"
   ]
  },
  {
   "cell_type": "code",
<<<<<<< HEAD
   "execution_count": 88,
=======
   "execution_count": 15,
>>>>>>> 63fc2011d05bcb2377b81f243e643651a1bae3a8
   "metadata": {},
   "outputs": [],
   "source": [
    "# In positive_ratio, user_reviews, price_final, price_original and discount, replace null value with mean value\n",
    "columns_to_fill = ['positive_ratio', 'user_reviews', 'price_final', 'price_original', 'discount']\n",
    "df_info[columns_to_fill] = df_info[columns_to_fill].fillna(df_info[columns_to_fill].mean())"
   ]
  },
  {
   "cell_type": "code",
<<<<<<< HEAD
   "execution_count": 89,
=======
   "execution_count": 16,
>>>>>>> 63fc2011d05bcb2377b81f243e643651a1bae3a8
   "metadata": {},
   "outputs": [
    {
     "data": {
      "text/plain": [
       "app_id            0\n",
       "rating            0\n",
       "positive_ratio    0\n",
       "user_reviews      0\n",
       "price_final       0\n",
       "price_original    0\n",
       "discount          0\n",
       "dtype: int64"
      ]
     },
<<<<<<< HEAD
     "execution_count": 89,
=======
     "execution_count": 16,
>>>>>>> 63fc2011d05bcb2377b81f243e643651a1bae3a8
     "metadata": {},
     "output_type": "execute_result"
    }
   ],
   "source": [
    "df_info.isnull().sum()"
   ]
  },
  {
   "cell_type": "code",
<<<<<<< HEAD
   "execution_count": 90,
=======
   "execution_count": 17,
>>>>>>> 63fc2011d05bcb2377b81f243e643651a1bae3a8
   "metadata": {},
   "outputs": [],
   "source": [
    "# Change data type of positive_ratio, user_reviews, discount from float64 to int16\n",
    "df_info[['positive_ratio', 'user_reviews', 'discount']] = df_info[['positive_ratio', 'user_reviews', 'discount']].astype('int16')"
   ]
  },
  {
   "cell_type": "code",
<<<<<<< HEAD
   "execution_count": 91,
=======
   "execution_count": 18,
>>>>>>> 63fc2011d05bcb2377b81f243e643651a1bae3a8
   "metadata": {},
   "outputs": [
    {
     "name": "stdout",
     "output_type": "stream",
     "text": [
      "<class 'pandas.core.frame.DataFrame'>\n",
      "RangeIndex: 50872 entries, 0 to 50871\n",
      "Data columns (total 7 columns):\n",
      " #   Column          Non-Null Count  Dtype  \n",
      "---  ------          --------------  -----  \n",
      " 0   app_id          50872 non-null  int64  \n",
      " 1   rating          50872 non-null  object \n",
      " 2   positive_ratio  50872 non-null  int16  \n",
      " 3   user_reviews    50872 non-null  int16  \n",
      " 4   price_final     50872 non-null  float64\n",
      " 5   price_original  50872 non-null  float64\n",
      " 6   discount        50872 non-null  int16  \n",
      "dtypes: float64(2), int16(3), int64(1), object(1)\n",
      "memory usage: 1.8+ MB\n"
     ]
    }
   ],
   "source": [
    "df_info.info()"
   ]
  },
  {
   "cell_type": "markdown",
   "metadata": {},
   "source": [
    "##### Justification:\n",
    "- Ở cột rating có kiểu dữ liệu là object nên chọn thay thế missing value bằng giá trị xuất hiện nhiều nhất\n",
    "- Ở các cột positive_ratio, user_reviews, price_final, price_original và discount đều có kiểu dữ liệu số nên chọn thay thế missing value bằng giá trị trung bình\n",
    "- Ở các cột positive_ratio, user_reviews và discount dữ liệu trong dataset đều nằm trong khả năng biểu diễn của kiểu dữ liệu int16 nên đổi từ kiểu float64 sang int16"
   ]
  },
  {
   "cell_type": "markdown",
   "metadata": {},
   "source": [
    "---\n",
    "##### Tên: "
   ]
  },
  {
   "cell_type": "markdown",
   "metadata": {},
   "source": [
    "### Issue 2: Vấn đề gì đó trong file games_platforms"
   ]
  },
  {
   "cell_type": "code",
<<<<<<< HEAD
   "execution_count": 92,
=======
   "execution_count": 19,
>>>>>>> 63fc2011d05bcb2377b81f243e643651a1bae3a8
   "metadata": {},
   "outputs": [],
   "source": [
    "# Apply the cleaning strategys"
   ]
  },
  {
   "cell_type": "code",
<<<<<<< HEAD
   "execution_count": 93,
=======
   "execution_count": 20,
>>>>>>> 63fc2011d05bcb2377b81f243e643651a1bae3a8
   "metadata": {},
   "outputs": [],
   "source": [
    "# Validate the cleaning was successful"
   ]
  },
  {
   "cell_type": "markdown",
   "metadata": {},
   "source": [
    "##### Justification:\n"
   ]
  },
  {
   "cell_type": "markdown",
   "metadata": {},
   "source": [
    "---\n",
    "##### Tên: Phạm Hoàng Phúc"
   ]
  },
  {
   "cell_type": "markdown",
   "metadata": {},
   "source": [
    "### Issue 3: Dataset game_categories: Cột genres có chứa các giá trị null"
   ]
  },
  {
   "cell_type": "code",
<<<<<<< HEAD
   "execution_count": 94,
=======
   "execution_count": 21,
>>>>>>> 63fc2011d05bcb2377b81f243e643651a1bae3a8
   "metadata": {},
   "outputs": [],
   "source": [
    "# replace the null value in genres with 'Other' \n",
    "df_categories_copy.fillna({'genres': 'Other'}, inplace=True)"
   ]
  },
  {
   "cell_type": "code",
<<<<<<< HEAD
   "execution_count": 95,
=======
   "execution_count": 22,
>>>>>>> 63fc2011d05bcb2377b81f243e643651a1bae3a8
   "metadata": {},
   "outputs": [
    {
     "name": "stdout",
     "output_type": "stream",
     "text": [
      "<class 'pandas.core.frame.DataFrame'>\n",
      "RangeIndex: 50872 entries, 0 to 50871\n",
      "Data columns (total 4 columns):\n",
      " #   Column          Non-Null Count  Dtype \n",
      "---  ------          --------------  ----- \n",
      " 0   app_id          50872 non-null  int64 \n",
      " 1   genres          50872 non-null  object\n",
      " 2   player_support  50872 non-null  object\n",
      " 3   indie           50872 non-null  bool  \n",
      "dtypes: bool(1), int64(1), object(2)\n",
      "memory usage: 1.2+ MB\n"
     ]
    }
   ],
   "source": [
    "# Validate the cleaning was successful\n",
    "df_categories_copy.info()"
   ]
  },
  {
   "cell_type": "markdown",
   "metadata": {},
   "source": [
    "##### Justification:\n",
    "- Cột genres thể hiện thể loại của các game nên sẽ thay các hàng null bằng 'Other'"
   ]
  },
  {
   "cell_type": "markdown",
   "metadata": {},
   "source": [
    "## 4. Merge and Store data"
   ]
  },
  {
   "cell_type": "markdown",
   "metadata": {},
   "source": [
    "---\n",
    "##### Tên:"
   ]
  },
  {
   "cell_type": "markdown",
   "metadata": {},
   "source": [
    "#### Merge dataset game_info and games_platforms"
   ]
  },
  {
   "cell_type": "code",
<<<<<<< HEAD
   "execution_count": 96,
=======
   "execution_count": 23,
>>>>>>> 63fc2011d05bcb2377b81f243e643651a1bae3a8
   "metadata": {},
   "outputs": [],
   "source": [
    "# merge dataset games_info and games_platforms on app_id\n",
    "df_merge_1 = pd.merge(df_info_copy, df_platforms_copy, on='app_id')"
   ]
  },
  {
   "cell_type": "markdown",
   "metadata": {},
   "source": [
    "---\n",
    "##### Tên: "
   ]
  },
  {
   "cell_type": "markdown",
   "metadata": {},
   "source": [
    "#### Merge dataset game_info and games_categories"
   ]
  },
  {
   "cell_type": "code",
<<<<<<< HEAD
   "execution_count": 97,
=======
   "execution_count": 24,
>>>>>>> 63fc2011d05bcb2377b81f243e643651a1bae3a8
   "metadata": {},
   "outputs": [],
   "source": [
    "# merge dataset games_info and games_categories on app_id\n",
<<<<<<< HEAD
    "df_merge_2 = pd.merge(df_merge_1, df_categories, on='app_id')\n",
    "df_merge_2"
=======
    "df_merge_2 = pd.merge(df_merge_1, df_categories_copy, on='app_id')"
>>>>>>> 63fc2011d05bcb2377b81f243e643651a1bae3a8
   ]
  },
  {
   "cell_type": "markdown",
   "metadata": {},
   "source": [
    "---\n",
    "##### Tên: "
   ]
  },
  {
   "cell_type": "markdown",
   "metadata": {},
   "source": [
    "#### Saving data"
   ]
  },
  {
   "cell_type": "code",
<<<<<<< HEAD
   "execution_count": 98,
=======
   "execution_count": 25,
>>>>>>> 63fc2011d05bcb2377b81f243e643651a1bae3a8
   "metadata": {},
   "outputs": [],
   "source": [
    "# save dataset \n",
    "df_merge_2.to_csv('datasets/games_info_clean.csv', index=False)"
   ]
  },
  {
   "cell_type": "markdown",
   "metadata": {},
   "source": [
    "## 5. Visualizations and Communication"
   ]
  },
  {
   "cell_type": "markdown",
   "metadata": {},
   "source": [
    "---\n",
    "##### Tên:"
   ]
  },
  {
   "cell_type": "markdown",
   "metadata": {},
   "source": [
    "#### Plot 1: "
   ]
  },
  {
   "cell_type": "code",
<<<<<<< HEAD
   "execution_count": 99,
=======
   "execution_count": 26,
>>>>>>> 63fc2011d05bcb2377b81f243e643651a1bae3a8
   "metadata": {},
   "outputs": [],
   "source": [
    "# create plot here"
   ]
  },
  {
   "cell_type": "markdown",
   "metadata": {},
   "source": [
    "#### Justifications:"
   ]
  },
  {
   "cell_type": "markdown",
   "metadata": {},
   "source": [
    "- Liệt kê những nhận xét tại đây"
   ]
  },
  {
   "cell_type": "markdown",
   "metadata": {},
   "source": [
    "#### Plot 2: "
   ]
  },
  {
   "cell_type": "code",
<<<<<<< HEAD
   "execution_count": 100,
=======
   "execution_count": 27,
>>>>>>> 63fc2011d05bcb2377b81f243e643651a1bae3a8
   "metadata": {},
   "outputs": [],
   "source": [
    "# create plot here"
   ]
  },
  {
   "cell_type": "markdown",
   "metadata": {},
   "source": [
    "#### Justifications:"
   ]
  },
  {
   "cell_type": "markdown",
   "metadata": {},
   "source": [
    "- Liệt kê những nhận xét tại đây"
   ]
  },
  {
   "cell_type": "markdown",
   "metadata": {},
   "source": [
    "---\n",
    "##### Tên: Phạm Quốc Phú"
   ]
  },
  {
   "cell_type": "markdown",
   "metadata": {},
   "source": [
    "#### Plot 3: Tỷ lệ tích cực theo thể loại"
   ]
  },
  {
   "cell_type": "code",
<<<<<<< HEAD
   "execution_count": 110,
=======
   "execution_count": 28,
>>>>>>> 63fc2011d05bcb2377b81f243e643651a1bae3a8
   "metadata": {},
   "outputs": [],
   "source": [
    "# create plot here"
   ]
  },
  {
   "cell_type": "markdown",
   "metadata": {},
   "source": [
    "#### Justifications:"
   ]
  },
  {
   "cell_type": "markdown",
   "metadata": {},
   "source": [
    "- Từ biểu đồ ta có thể thấy, thể loại game đang có tỉ lệ tích cực cao nhất là Adventure với positive ratio là 79,2. Tiếp ngay sau đó ta có thể thấy được, 2 thể loại game là RPG và Action với positive ratio lần lượt là 76.64 và 76.189. Ba thể loại game có tỷ lệ tích cực thấp nhất lần lượt là Sports, Strategy và Simulation với positive ratio lần luợt là 74.49, 74.25 và 74,02\n",
    "- Tuy nhiên, ta cũng có thể dễ dàng nhận thấy được, tất cả các thể loại game có trên biểu đồ có độ tích cực rất cao đều trên 74. Người dùng có thể cân nhắc lựa chọn thể loại game phù hợp với bản thân nhất để có một trải nghiệm chơi game vui vẻ nhất.\n"
   ]
  },
  {
   "cell_type": "markdown",
   "metadata": {},
   "source": [
    "#### Plot 4: Số lượng game phát hành theo năm sau năm 2015"
   ]
  },
  {
   "cell_type": "code",
<<<<<<< HEAD
   "execution_count": 114,
=======
   "execution_count": 29,
>>>>>>> 63fc2011d05bcb2377b81f243e643651a1bae3a8
   "metadata": {},
   "outputs": [],
   "source": [
    "# create plot here\n",
    "df_merge_2['date_release'] = pd.to_datetime(df_merge_2['date_release'])"
   ]
  },
  {
   "cell_type": "code",
   "execution_count": 121,
   "metadata": {},
   "outputs": [],
   "source": [
    "data = df_merge_2[df_merge_2['date_release'].dt.year > 2015]"
   ]
  },
  {
   "cell_type": "code",
   "execution_count": 122,
   "metadata": {},
   "outputs": [
    {
     "name": "stderr",
     "output_type": "stream",
     "text": [
      "C:\\Users\\ACER\\AppData\\Local\\Temp\\ipykernel_8968\\1740172668.py:1: SettingWithCopyWarning: \n",
      "A value is trying to be set on a copy of a slice from a DataFrame.\n",
      "Try using .loc[row_indexer,col_indexer] = value instead\n",
      "\n",
      "See the caveats in the documentation: https://pandas.pydata.org/pandas-docs/stable/user_guide/indexing.html#returning-a-view-versus-a-copy\n",
      "  data['release_year'] = data['date_release'].dt.year\n"
     ]
    }
   ],
   "source": [
    "data['release_year'] = data['date_release'].dt.year"
   ]
  },
  {
   "cell_type": "code",
   "execution_count": 123,
   "metadata": {},
   "outputs": [
    {
     "data": {
      "text/html": [
       "<div>\n",
       "<style scoped>\n",
       "    .dataframe tbody tr th:only-of-type {\n",
       "        vertical-align: middle;\n",
       "    }\n",
       "\n",
       "    .dataframe tbody tr th {\n",
       "        vertical-align: top;\n",
       "    }\n",
       "\n",
       "    .dataframe thead th {\n",
       "        text-align: right;\n",
       "    }\n",
       "</style>\n",
       "<table border=\"1\" class=\"dataframe\">\n",
       "  <thead>\n",
       "    <tr style=\"text-align: right;\">\n",
       "      <th></th>\n",
       "      <th>release_year</th>\n",
       "      <th>app_id</th>\n",
       "    </tr>\n",
       "  </thead>\n",
       "  <tbody>\n",
       "    <tr>\n",
       "      <th>0</th>\n",
       "      <td>2016</td>\n",
       "      <td>4207</td>\n",
       "    </tr>\n",
       "    <tr>\n",
       "      <th>1</th>\n",
       "      <td>2017</td>\n",
       "      <td>4989</td>\n",
       "    </tr>\n",
       "    <tr>\n",
       "      <th>2</th>\n",
       "      <td>2018</td>\n",
       "      <td>5460</td>\n",
       "    </tr>\n",
       "    <tr>\n",
       "      <th>3</th>\n",
       "      <td>2019</td>\n",
       "      <td>5057</td>\n",
       "    </tr>\n",
       "    <tr>\n",
       "      <th>4</th>\n",
       "      <td>2020</td>\n",
       "      <td>6134</td>\n",
       "    </tr>\n",
       "    <tr>\n",
       "      <th>5</th>\n",
       "      <td>2021</td>\n",
       "      <td>6771</td>\n",
       "    </tr>\n",
       "    <tr>\n",
       "      <th>6</th>\n",
       "      <td>2022</td>\n",
       "      <td>7263</td>\n",
       "    </tr>\n",
       "    <tr>\n",
       "      <th>7</th>\n",
       "      <td>2023</td>\n",
       "      <td>3424</td>\n",
       "    </tr>\n",
       "  </tbody>\n",
       "</table>\n",
       "</div>"
      ],
      "text/plain": [
       "   release_year  app_id\n",
       "0          2016    4207\n",
       "1          2017    4989\n",
       "2          2018    5460\n",
       "3          2019    5057\n",
       "4          2020    6134\n",
       "5          2021    6771\n",
       "6          2022    7263\n",
       "7          2023    3424"
      ]
     },
     "execution_count": 123,
     "metadata": {},
     "output_type": "execute_result"
    }
   ],
   "source": [
    "game_count_by_year = data.groupby('release_year').agg({'app_id': 'count'}).reset_index()\n",
    "game_count_by_year\n"
   ]
  },
  {
   "cell_type": "code",
   "execution_count": 129,
   "metadata": {},
   "outputs": [
    {
     "data": {
      "text/plain": [
       "Text(0.5, 1.0, 'Number of games released by year after 2015')"
      ]
     },
     "execution_count": 129,
     "metadata": {},
     "output_type": "execute_result"
    },
    {
     "data": {
      "image/png": "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",
      "text/plain": [
       "<Figure size 1000x500 with 1 Axes>"
      ]
     },
     "metadata": {},
     "output_type": "display_data"
    }
   ],
   "source": [
    "game_count_by_year.plot(kind='bar', x='release_year', y='app_id', figsize=(10, 5))\n",
    "plt.grid()\n",
    "plt.xlabel('Year of release')\n",
    "plt.ylabel('Game count')\n",
    "plt.legend(bbox_to_anchor=(1, 0.5), loc=\"upper left\")\n",
    "plt.xticks(rotation=0)\n",
    "plt.title('Number of games released by year after 2015')"
   ]
  },
  {
   "cell_type": "markdown",
   "metadata": {},
   "source": [
    "#### Justifications:"
   ]
  },
  {
   "cell_type": "markdown",
   "metadata": {},
   "source": [
    "- Từ biểu đồ ta thấy, vào năm 2022 số lượng game phát hành nhiều nhất với 7263 game được phát hành. Ngoài ra, nhưng năm có số lượng game được phát hành trên 6000 là hai năm 2021 và 2020 với số lượng game được phát hành lần lượt là 6771 game và 6134 game. Năm có số lượng game được phát hành ít nhất là năm 2023 với số lượng game chỉ là 3424.\n",
    "- Thông qua biểu đồ, ta thấy ngành công nghiệp game sau năm 2015 phát triển mạnh mẽ. Do ảnh hưởng của đại dịch covid 19 nhu cầu giải trí tại nhà tăng cũng là một trong những điều kiện cho ngành công nghiệp game có thể phát triển mạnh mẽ"
   ]
  },
  {
   "cell_type": "markdown",
   "metadata": {},
   "source": [
    "---\n",
    "##### Tên: Phạm Hoàng Phúc"
   ]
  },
  {
   "cell_type": "markdown",
   "metadata": {},
   "source": [
    "#### Plot 5: "
   ]
  },
  {
   "cell_type": "code",
<<<<<<< HEAD
   "execution_count": null,
=======
   "execution_count": 30,
>>>>>>> 63fc2011d05bcb2377b81f243e643651a1bae3a8
   "metadata": {},
   "outputs": [],
   "source": [
    "# create plot here"
   ]
  },
  {
   "cell_type": "markdown",
   "metadata": {},
   "source": [
    "#### Justifications:"
   ]
  },
  {
   "cell_type": "markdown",
   "metadata": {},
   "source": [
    "- Liệt kê những nhận xét tại đây"
   ]
  },
  {
   "cell_type": "markdown",
   "metadata": {},
   "source": [
    "#### Plot 6: "
   ]
  },
  {
   "cell_type": "code",
<<<<<<< HEAD
   "execution_count": null,
=======
   "execution_count": 31,
>>>>>>> 63fc2011d05bcb2377b81f243e643651a1bae3a8
   "metadata": {},
   "outputs": [],
   "source": [
    "# create plot here"
   ]
  },
  {
   "cell_type": "markdown",
   "metadata": {},
   "source": [
    "#### Justifications:"
   ]
  },
  {
   "cell_type": "markdown",
   "metadata": {},
   "source": [
    "- Liệt kê những nhận xét tại đây"
   ]
  },
  {
   "cell_type": "markdown",
   "metadata": {},
   "source": []
  }
 ],
 "metadata": {
  "kernelspec": {
   "display_name": "Python 3",
   "language": "python",
   "name": "python3"
  },
  "language_info": {
   "codemirror_mode": {
    "name": "ipython",
    "version": 3
   },
   "file_extension": ".py",
   "mimetype": "text/x-python",
   "name": "python",
   "nbconvert_exporter": "python",
   "pygments_lexer": "ipython3",
   "version": "3.12.0"
  }
 },
 "nbformat": 4,
 "nbformat_minor": 2
}
